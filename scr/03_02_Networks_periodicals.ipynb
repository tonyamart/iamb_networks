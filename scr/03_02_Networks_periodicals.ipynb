{
 "cells": [
  {
   "cell_type": "markdown",
   "id": "ce7101e0",
   "metadata": {},
   "source": [
    "## Periodicals networks"
   ]
  },
  {
   "cell_type": "code",
   "execution_count": 1,
   "id": "b67ebc2b",
   "metadata": {},
   "outputs": [
    {
     "name": "stderr",
     "output_type": "stream",
     "text": [
      "── \u001b[1mAttaching packages\u001b[22m ─────────────────────────────────────── tidyverse 1.3.2 ──\n",
      "\u001b[32m✔\u001b[39m \u001b[34mggplot2\u001b[39m 3.4.1     \u001b[32m✔\u001b[39m \u001b[34mpurrr  \u001b[39m 1.0.1\n",
      "\u001b[32m✔\u001b[39m \u001b[34mtibble \u001b[39m 3.1.8     \u001b[32m✔\u001b[39m \u001b[34mdplyr  \u001b[39m 1.1.0\n",
      "\u001b[32m✔\u001b[39m \u001b[34mtidyr  \u001b[39m 1.3.0     \u001b[32m✔\u001b[39m \u001b[34mstringr\u001b[39m 1.5.0\n",
      "\u001b[32m✔\u001b[39m \u001b[34mreadr  \u001b[39m 2.1.4     \u001b[32m✔\u001b[39m \u001b[34mforcats\u001b[39m 1.0.0\n",
      "── \u001b[1mConflicts\u001b[22m ────────────────────────────────────────── tidyverse_conflicts() ──\n",
      "\u001b[31m✖\u001b[39m \u001b[34mdplyr\u001b[39m::\u001b[32mfilter()\u001b[39m masks \u001b[34mstats\u001b[39m::filter()\n",
      "\u001b[31m✖\u001b[39m \u001b[34mdplyr\u001b[39m::\u001b[32mlag()\u001b[39m    masks \u001b[34mstats\u001b[39m::lag()\n",
      "\n",
      "Dołączanie pakietu: ‘igraph’\n",
      "\n",
      "\n",
      "Następujące obiekty zostały zakryte z ‘package:dplyr’:\n",
      "\n",
      "    as_data_frame, groups, union\n",
      "\n",
      "\n",
      "Następujące obiekty zostały zakryte z ‘package:purrr’:\n",
      "\n",
      "    compose, simplify\n",
      "\n",
      "\n",
      "Następujący obiekt został zakryty z ‘package:tidyr’:\n",
      "\n",
      "    crossing\n",
      "\n",
      "\n",
      "Następujący obiekt został zakryty z ‘package:tibble’:\n",
      "\n",
      "    as_data_frame\n",
      "\n",
      "\n",
      "Następujące obiekty zostały zakryte z ‘package:stats’:\n",
      "\n",
      "    decompose, spectrum\n",
      "\n",
      "\n",
      "Następujący obiekt został zakryty z ‘package:base’:\n",
      "\n",
      "    union\n",
      "\n",
      "\n"
     ]
    }
   ],
   "source": [
    "library(tidyverse)\n",
    "#library(tidytext)\n",
    "#library(topicmodels)\n",
    "\n",
    "#library(tidygraph)\n",
    "\n",
    "library(igraph)\n",
    "#library(sna)\n",
    "library(ggraph)\n",
    "#library(ggplotify)\n",
    "\n",
    "library(wesanderson)\n",
    "library(patchwork)\n",
    "theme_set(theme_minimal())"
   ]
  },
  {
   "cell_type": "code",
   "execution_count": 2,
   "id": "ca393ff4",
   "metadata": {},
   "outputs": [],
   "source": [
    "# load model output\n",
    "load(\"../data/lda75_output.Rda\")\n",
    "\n",
    "# load code for edges calculation\n",
    "source(\"03_fn_calculate_edges.R\")\n",
    "\n",
    "# function to extract topic lables:\n",
    "get_topic_labels = function(x, n_labels = 10) {\n",
    "  \n",
    "  #takes beta-matrix as an input\n",
    "  top_terms = x %>%\n",
    "    group_by(topic) %>%\n",
    "    top_n(20, beta) %>%\n",
    "    ungroup() %>%\n",
    "    arrange(topic, -beta)\n",
    "  \n",
    "  topic_labels = top_terms %>%\n",
    "    group_by(topic) %>%\n",
    "    top_n(n_labels, beta) %>%\n",
    "    summarise(label=paste(term, collapse=\" \")) %>%\n",
    "    mutate(label = paste(topic, label, sep=\"_\"))\n",
    "  \n",
    "  return(topic_labels)\n",
    "}"
   ]
  },
  {
   "cell_type": "code",
   "execution_count": 3,
   "id": "d5b0a777",
   "metadata": {},
   "outputs": [
    {
     "name": "stdout",
     "output_type": "stream",
     "text": [
      "Rows: 1,076,700\n",
      "Columns: 8\n",
      "$ corpus  \u001b[3m\u001b[90m<chr>\u001b[39m\u001b[23m \"N\", \"N\", \"N\", \"N\", \"N\", \"N\", \"N\", \"N\", \"N\", \"N\", \"N\", \"N\", \"N…\n",
      "$ id      \u001b[3m\u001b[90m<chr>\u001b[39m\u001b[23m \"1-1\", \"1-2\", \"1-3\", \"10-1\", \"10-2\", \"100-1\", \"100-2\", \"100-3\"…\n",
      "$ year    \u001b[3m\u001b[90m<chr>\u001b[39m\u001b[23m \"1785\", \"1785\", \"1785\", \"1803\", \"1803\", \"1810\", \"1810\", \"1810\"…\n",
      "$ author  \u001b[3m\u001b[90m<chr>\u001b[39m\u001b[23m \"ССБобров\", \"ССБобров\", \"ССБобров\", \"ССБобров\", \"ССБобров\", \"А…\n",
      "$ formula \u001b[3m\u001b[90m<chr>\u001b[39m\u001b[23m \"iamb_4\", \"iamb_4\", \"iamb_4\", \"iamb_4\", \"iamb_4\", \"iamb_6\", \"i…\n",
      "$ topic   \u001b[3m\u001b[90m<int>\u001b[39m\u001b[23m 1, 1, 1, 1, 1, 1, 1, 1, 1, 1, 1, 1, 1, 1, 1, 1, 1, 1, 1, 1, 1,…\n",
      "$ gamma   \u001b[3m\u001b[90m<dbl>\u001b[39m\u001b[23m 0.019108280, 0.006211180, 0.006451613, 0.006211180, 0.00763358…\n",
      "$ index   \u001b[3m\u001b[90m<chr>\u001b[39m\u001b[23m \"N_1-1\", \"N_1-2\", \"N_1-3\", \"N_10-1\", \"N_10-2\", \"N_100-1\", \"N_1…\n"
     ]
    }
   ],
   "source": [
    "gamma <- gamma %>% \n",
    "    # add index for create_edges function\n",
    "    mutate(index = paste0(corpus, \"_\", id)) %>% \n",
    "    # fix typo\n",
    "    rename(author = first_line)\n",
    "\n",
    "glimpse(gamma)"
   ]
  },
  {
   "cell_type": "markdown",
   "id": "68d12a9f",
   "metadata": {},
   "source": [
    "## Random text selection \n",
    "\n",
    "Problem: overrepresented authors in RNC & date inconsistency between RNC vs periodicals corpora"
   ]
  },
  {
   "cell_type": "code",
   "execution_count": 4,
   "id": "010c7fe2",
   "metadata": {},
   "outputs": [
    {
     "data": {
      "text/html": [
       "<table class=\"dataframe\">\n",
       "<caption>A tibble: 1 × 1</caption>\n",
       "<thead>\n",
       "\t<tr><th scope=col>total_texts</th></tr>\n",
       "\t<tr><th scope=col>&lt;dbl&gt;</th></tr>\n",
       "</thead>\n",
       "<tbody>\n",
       "\t<tr><td>2467</td></tr>\n",
       "</tbody>\n",
       "</table>\n"
      ],
      "text/latex": [
       "A tibble: 1 × 1\n",
       "\\begin{tabular}{l}\n",
       " total\\_texts\\\\\n",
       " <dbl>\\\\\n",
       "\\hline\n",
       "\t 2467\\\\\n",
       "\\end{tabular}\n"
      ],
      "text/markdown": [
       "\n",
       "A tibble: 1 × 1\n",
       "\n",
       "| total_texts &lt;dbl&gt; |\n",
       "|---|\n",
       "| 2467 |\n",
       "\n"
      ],
      "text/plain": [
       "  total_texts\n",
       "1 2467       "
      ]
     },
     "metadata": {},
     "output_type": "display_data"
    },
    {
     "data": {
      "text/html": [
       "<table class=\"dataframe\">\n",
       "<caption>A tibble: 20 × 4</caption>\n",
       "<thead>\n",
       "\t<tr><th scope=col>author</th><th scope=col>n_gamma</th><th scope=col>n_texts</th><th scope=col>percentage</th></tr>\n",
       "\t<tr><th scope=col>&lt;chr&gt;</th><th scope=col>&lt;int&gt;</th><th scope=col>&lt;dbl&gt;</th><th scope=col>&lt;dbl&gt;</th></tr>\n",
       "</thead>\n",
       "<tbody>\n",
       "\t<tr><td>МЮЛермонтов  </td><td>30150</td><td>402</td><td>16.295095</td></tr>\n",
       "\t<tr><td>АСПушкин     </td><td>20100</td><td>268</td><td>10.863397</td></tr>\n",
       "\t<tr><td>ВГБенедиктов </td><td>12750</td><td>170</td><td> 6.890961</td></tr>\n",
       "\t<tr><td>ВАЖуковский  </td><td>11100</td><td>148</td><td> 5.999189</td></tr>\n",
       "\t<tr><td>АИПолежаев   </td><td>10200</td><td>136</td><td> 5.512769</td></tr>\n",
       "\t<tr><td>НМЯзыков     </td><td> 7650</td><td>102</td><td> 4.134576</td></tr>\n",
       "\t<tr><td>АВКольцов    </td><td> 6975</td><td> 93</td><td> 3.769761</td></tr>\n",
       "\t<tr><td>НАНекрасов   </td><td> 4725</td><td> 63</td><td> 2.553709</td></tr>\n",
       "\t<tr><td>ППЕршов      </td><td> 4350</td><td> 58</td><td> 2.351034</td></tr>\n",
       "\t<tr><td>ФИТютчев     </td><td> 4350</td><td> 58</td><td> 2.351034</td></tr>\n",
       "\t<tr><td>ЕАБаратынский</td><td> 3675</td><td> 49</td><td> 1.986218</td></tr>\n",
       "\t<tr><td>ЕПРостопчина </td><td> 3675</td><td> 49</td><td> 1.986218</td></tr>\n",
       "\t<tr><td>АИОдоевский  </td><td> 3450</td><td> 46</td><td> 1.864613</td></tr>\n",
       "\t<tr><td>ПАВяземский  </td><td> 3225</td><td> 43</td><td> 1.743008</td></tr>\n",
       "\t<tr><td>АИПодолинский</td><td> 3075</td><td> 41</td><td> 1.661938</td></tr>\n",
       "\t<tr><td>АСХомяков    </td><td> 2625</td><td> 35</td><td> 1.418727</td></tr>\n",
       "\t<tr><td>ПАКатенин    </td><td> 2625</td><td> 35</td><td> 1.418727</td></tr>\n",
       "\t<tr><td>ВИСоколовский</td><td> 2550</td><td> 34</td><td> 1.378192</td></tr>\n",
       "\t<tr><td>ДВДавыдов    </td><td> 2550</td><td> 34</td><td> 1.378192</td></tr>\n",
       "\t<tr><td>НВКукольник  </td><td> 2250</td><td> 30</td><td> 1.216052</td></tr>\n",
       "</tbody>\n",
       "</table>\n"
      ],
      "text/latex": [
       "A tibble: 20 × 4\n",
       "\\begin{tabular}{llll}\n",
       " author & n\\_gamma & n\\_texts & percentage\\\\\n",
       " <chr> & <int> & <dbl> & <dbl>\\\\\n",
       "\\hline\n",
       "\t МЮЛермонтов   & 30150 & 402 & 16.295095\\\\\n",
       "\t АСПушкин      & 20100 & 268 & 10.863397\\\\\n",
       "\t ВГБенедиктов  & 12750 & 170 &  6.890961\\\\\n",
       "\t ВАЖуковский   & 11100 & 148 &  5.999189\\\\\n",
       "\t АИПолежаев    & 10200 & 136 &  5.512769\\\\\n",
       "\t НМЯзыков      &  7650 & 102 &  4.134576\\\\\n",
       "\t АВКольцов     &  6975 &  93 &  3.769761\\\\\n",
       "\t НАНекрасов    &  4725 &  63 &  2.553709\\\\\n",
       "\t ППЕршов       &  4350 &  58 &  2.351034\\\\\n",
       "\t ФИТютчев      &  4350 &  58 &  2.351034\\\\\n",
       "\t ЕАБаратынский &  3675 &  49 &  1.986218\\\\\n",
       "\t ЕПРостопчина  &  3675 &  49 &  1.986218\\\\\n",
       "\t АИОдоевский   &  3450 &  46 &  1.864613\\\\\n",
       "\t ПАВяземский   &  3225 &  43 &  1.743008\\\\\n",
       "\t АИПодолинский &  3075 &  41 &  1.661938\\\\\n",
       "\t АСХомяков     &  2625 &  35 &  1.418727\\\\\n",
       "\t ПАКатенин     &  2625 &  35 &  1.418727\\\\\n",
       "\t ВИСоколовский &  2550 &  34 &  1.378192\\\\\n",
       "\t ДВДавыдов     &  2550 &  34 &  1.378192\\\\\n",
       "\t НВКукольник   &  2250 &  30 &  1.216052\\\\\n",
       "\\end{tabular}\n"
      ],
      "text/markdown": [
       "\n",
       "A tibble: 20 × 4\n",
       "\n",
       "| author &lt;chr&gt; | n_gamma &lt;int&gt; | n_texts &lt;dbl&gt; | percentage &lt;dbl&gt; |\n",
       "|---|---|---|---|\n",
       "| МЮЛермонтов   | 30150 | 402 | 16.295095 |\n",
       "| АСПушкин      | 20100 | 268 | 10.863397 |\n",
       "| ВГБенедиктов  | 12750 | 170 |  6.890961 |\n",
       "| ВАЖуковский   | 11100 | 148 |  5.999189 |\n",
       "| АИПолежаев    | 10200 | 136 |  5.512769 |\n",
       "| НМЯзыков      |  7650 | 102 |  4.134576 |\n",
       "| АВКольцов     |  6975 |  93 |  3.769761 |\n",
       "| НАНекрасов    |  4725 |  63 |  2.553709 |\n",
       "| ППЕршов       |  4350 |  58 |  2.351034 |\n",
       "| ФИТютчев      |  4350 |  58 |  2.351034 |\n",
       "| ЕАБаратынский |  3675 |  49 |  1.986218 |\n",
       "| ЕПРостопчина  |  3675 |  49 |  1.986218 |\n",
       "| АИОдоевский   |  3450 |  46 |  1.864613 |\n",
       "| ПАВяземский   |  3225 |  43 |  1.743008 |\n",
       "| АИПодолинский |  3075 |  41 |  1.661938 |\n",
       "| АСХомяков     |  2625 |  35 |  1.418727 |\n",
       "| ПАКатенин     |  2625 |  35 |  1.418727 |\n",
       "| ВИСоколовский |  2550 |  34 |  1.378192 |\n",
       "| ДВДавыдов     |  2550 |  34 |  1.378192 |\n",
       "| НВКукольник   |  2250 |  30 |  1.216052 |\n",
       "\n"
      ],
      "text/plain": [
       "   author        n_gamma n_texts percentage\n",
       "1  МЮЛермонтов   30150   402     16.295095 \n",
       "2  АСПушкин      20100   268     10.863397 \n",
       "3  ВГБенедиктов  12750   170      6.890961 \n",
       "4  ВАЖуковский   11100   148      5.999189 \n",
       "5  АИПолежаев    10200   136      5.512769 \n",
       "6  НМЯзыков       7650   102      4.134576 \n",
       "7  АВКольцов      6975    93      3.769761 \n",
       "8  НАНекрасов     4725    63      2.553709 \n",
       "9  ППЕршов        4350    58      2.351034 \n",
       "10 ФИТютчев       4350    58      2.351034 \n",
       "11 ЕАБаратынский  3675    49      1.986218 \n",
       "12 ЕПРостопчина   3675    49      1.986218 \n",
       "13 АИОдоевский    3450    46      1.864613 \n",
       "14 ПАВяземский    3225    43      1.743008 \n",
       "15 АИПодолинский  3075    41      1.661938 \n",
       "16 АСХомяков      2625    35      1.418727 \n",
       "17 ПАКатенин      2625    35      1.418727 \n",
       "18 ВИСоколовский  2550    34      1.378192 \n",
       "19 ДВДавыдов      2550    34      1.378192 \n",
       "20 НВКукольник    2250    30      1.216052 "
      ]
     },
     "metadata": {},
     "output_type": "display_data"
    },
    {
     "data": {
      "text/plain": [
       "   Min. 1st Qu.  Median    Mean 3rd Qu.    Max. \n",
       "   1.00    3.00   15.00   31.63   29.75  402.00 "
      ]
     },
     "metadata": {},
     "output_type": "display_data"
    },
    {
     "data": {
      "image/png": "[encoded data removed]",
      "text/plain": [
       "plot without title"
      ]
     },
     "metadata": {
      "image/png": {
       "height": 420,
       "width": 420
      }
     },
     "output_type": "display_data"
    }
   ],
   "source": [
    "rnc_authors <- gamma %>% \n",
    "    filter(corpus == \"N\") %>% \n",
    "    mutate(decade = floor(as.numeric(year)/5)*5) %>% \n",
    "    filter(decade %in% c(1830, 1835)) %>% \n",
    "    group_by(author) %>% \n",
    "    summarise(n_gamma = sum(n()),\n",
    "             n_texts = n_gamma/75) %>% \n",
    "    arrange(desc(n_texts))\n",
    "\n",
    "rnc_authors %>% \n",
    "    ungroup() %>%\n",
    "    summarise(total_texts = sum(n_texts))\n",
    "\n",
    "rnc_authors <- rnc_authors %>% \n",
    "    mutate(percentage = n_texts/2467*100)\n",
    "\n",
    "head(rnc_authors, 20)\n",
    "summary(rnc_authors$n_texts)\n",
    "\n",
    "rnc_authors %>% \n",
    "    ggplot(aes(x = n_texts, \n",
    "               y = reorder_within(author, n_texts, author))) + \n",
    "    geom_col() +\n",
    "    theme(axis.text.y = element_blank())"
   ]
  },
  {
   "cell_type": "code",
   "execution_count": 7,
   "id": "442c065d",
   "metadata": {},
   "outputs": [
    {
     "data": {
      "text/html": [
       "0.681254092482305"
      ],
      "text/latex": [
       "0.681254092482305"
      ],
      "text/markdown": [
       "0.681254092482305"
      ],
      "text/plain": [
       "[1] 0.6812541"
      ]
     },
     "metadata": {},
     "output_type": "display_data"
    }
   ],
   "source": [
    "# Gini index\n",
    "library(ineq)\n",
    "ineq(rnc_authors$n_texts, type = \"Gini\")"
   ]
  },
  {
   "cell_type": "code",
   "execution_count": 12,
   "id": "de39db30",
   "metadata": {},
   "outputs": [
    {
     "data": {
      "text/html": [
       "<table class=\"dataframe\">\n",
       "<caption>A tibble: 15 × 4</caption>\n",
       "<thead>\n",
       "\t<tr><th scope=col>author</th><th scope=col>n_gamma</th><th scope=col>n_texts</th><th scope=col>percentage</th></tr>\n",
       "\t<tr><th scope=col>&lt;chr&gt;</th><th scope=col>&lt;int&gt;</th><th scope=col>&lt;dbl&gt;</th><th scope=col>&lt;dbl&gt;</th></tr>\n",
       "</thead>\n",
       "<tbody>\n",
       "\t<tr><td>ТимофеевАВ   </td><td>3525</td><td>47</td><td>3.946264</td></tr>\n",
       "\t<tr><td>КозловИИ     </td><td>2925</td><td>39</td><td>3.274559</td></tr>\n",
       "\t<tr><td>МенцовФН     </td><td>2700</td><td>36</td><td>3.022670</td></tr>\n",
       "\t<tr><td>ЯкубовичЛА   </td><td>2700</td><td>36</td><td>3.022670</td></tr>\n",
       "\t<tr><td>БернетЕ      </td><td>2325</td><td>31</td><td>2.602855</td></tr>\n",
       "\t<tr><td>КропоткинДА  </td><td>2025</td><td>27</td><td>2.267003</td></tr>\n",
       "\t<tr><td>РостопчинаЕП </td><td>2025</td><td>27</td><td>2.267003</td></tr>\n",
       "\t<tr><td>ГлинкаФН     </td><td>1950</td><td>26</td><td>2.183039</td></tr>\n",
       "\t<tr><td>СоколовскийВИ</td><td>1800</td><td>24</td><td>2.015113</td></tr>\n",
       "\t<tr><td>СтромиловСИ  </td><td>1800</td><td>24</td><td>2.015113</td></tr>\n",
       "\t<tr><td>АйбулатКМ    </td><td>1650</td><td>22</td><td>1.847187</td></tr>\n",
       "\t<tr><td>ГребенкаЕП   </td><td>1350</td><td>18</td><td>1.511335</td></tr>\n",
       "\t<tr><td>ПушкинАС     </td><td>1350</td><td>18</td><td>1.511335</td></tr>\n",
       "\t<tr><td>КониФА       </td><td>1275</td><td>17</td><td>1.427372</td></tr>\n",
       "\t<tr><td>ШаховаЕН     </td><td>1125</td><td>15</td><td>1.259446</td></tr>\n",
       "</tbody>\n",
       "</table>\n"
      ],
      "text/latex": [
       "A tibble: 15 × 4\n",
       "\\begin{tabular}{llll}\n",
       " author & n\\_gamma & n\\_texts & percentage\\\\\n",
       " <chr> & <int> & <dbl> & <dbl>\\\\\n",
       "\\hline\n",
       "\t ТимофеевАВ    & 3525 & 47 & 3.946264\\\\\n",
       "\t КозловИИ      & 2925 & 39 & 3.274559\\\\\n",
       "\t МенцовФН      & 2700 & 36 & 3.022670\\\\\n",
       "\t ЯкубовичЛА    & 2700 & 36 & 3.022670\\\\\n",
       "\t БернетЕ       & 2325 & 31 & 2.602855\\\\\n",
       "\t КропоткинДА   & 2025 & 27 & 2.267003\\\\\n",
       "\t РостопчинаЕП  & 2025 & 27 & 2.267003\\\\\n",
       "\t ГлинкаФН      & 1950 & 26 & 2.183039\\\\\n",
       "\t СоколовскийВИ & 1800 & 24 & 2.015113\\\\\n",
       "\t СтромиловСИ   & 1800 & 24 & 2.015113\\\\\n",
       "\t АйбулатКМ     & 1650 & 22 & 1.847187\\\\\n",
       "\t ГребенкаЕП    & 1350 & 18 & 1.511335\\\\\n",
       "\t ПушкинАС      & 1350 & 18 & 1.511335\\\\\n",
       "\t КониФА        & 1275 & 17 & 1.427372\\\\\n",
       "\t ШаховаЕН      & 1125 & 15 & 1.259446\\\\\n",
       "\\end{tabular}\n"
      ],
      "text/markdown": [
       "\n",
       "A tibble: 15 × 4\n",
       "\n",
       "| author &lt;chr&gt; | n_gamma &lt;int&gt; | n_texts &lt;dbl&gt; | percentage &lt;dbl&gt; |\n",
       "|---|---|---|---|\n",
       "| ТимофеевАВ    | 3525 | 47 | 3.946264 |\n",
       "| КозловИИ      | 2925 | 39 | 3.274559 |\n",
       "| МенцовФН      | 2700 | 36 | 3.022670 |\n",
       "| ЯкубовичЛА    | 2700 | 36 | 3.022670 |\n",
       "| БернетЕ       | 2325 | 31 | 2.602855 |\n",
       "| КропоткинДА   | 2025 | 27 | 2.267003 |\n",
       "| РостопчинаЕП  | 2025 | 27 | 2.267003 |\n",
       "| ГлинкаФН      | 1950 | 26 | 2.183039 |\n",
       "| СоколовскийВИ | 1800 | 24 | 2.015113 |\n",
       "| СтромиловСИ   | 1800 | 24 | 2.015113 |\n",
       "| АйбулатКМ     | 1650 | 22 | 1.847187 |\n",
       "| ГребенкаЕП    | 1350 | 18 | 1.511335 |\n",
       "| ПушкинАС      | 1350 | 18 | 1.511335 |\n",
       "| КониФА        | 1275 | 17 | 1.427372 |\n",
       "| ШаховаЕН      | 1125 | 15 | 1.259446 |\n",
       "\n"
      ],
      "text/plain": [
       "   author        n_gamma n_texts percentage\n",
       "1  ТимофеевАВ    3525    47      3.946264  \n",
       "2  КозловИИ      2925    39      3.274559  \n",
       "3  МенцовФН      2700    36      3.022670  \n",
       "4  ЯкубовичЛА    2700    36      3.022670  \n",
       "5  БернетЕ       2325    31      2.602855  \n",
       "6  КропоткинДА   2025    27      2.267003  \n",
       "7  РостопчинаЕП  2025    27      2.267003  \n",
       "8  ГлинкаФН      1950    26      2.183039  \n",
       "9  СоколовскийВИ 1800    24      2.015113  \n",
       "10 СтромиловСИ   1800    24      2.015113  \n",
       "11 АйбулатКМ     1650    22      1.847187  \n",
       "12 ГребенкаЕП    1350    18      1.511335  \n",
       "13 ПушкинАС      1350    18      1.511335  \n",
       "14 КониФА        1275    17      1.427372  \n",
       "15 ШаховаЕН      1125    15      1.259446  "
      ]
     },
     "metadata": {},
     "output_type": "display_data"
    },
    {
     "data": {
      "text/html": [
       "0.635928403423024"
      ],
      "text/latex": [
       "0.635928403423024"
      ],
      "text/markdown": [
       "0.635928403423024"
      ],
      "text/plain": [
       "[1] 0.6359284"
      ]
     },
     "metadata": {},
     "output_type": "display_data"
    }
   ],
   "source": [
    "gamma_per_test <- gamma %>% \n",
    "    filter(corpus == \"P\") %>% \n",
    "    filter(year > 1829 & year < 1840) %>% \n",
    "    group_by(author) %>% \n",
    "    summarise(n_gamma = sum(n()),\n",
    "             n_texts = n_gamma/75) %>% \n",
    "    arrange(desc(n_texts)) %>% \n",
    "    ungroup()\n",
    "\n",
    "# gamma_per_test %>% \n",
    "#    summarise(total_text = sum(n_texts)) # 1191\n",
    "\n",
    "gamma_per_test %>% \n",
    "    filter(author != \"NA\") %>% \n",
    "    mutate(percentage = n_texts/1191*100) %>% \n",
    "    head(15)\n",
    "\n",
    "ineq(gamma_per_test$n_texts, type = \"Gini\")"
   ]
  },
  {
   "cell_type": "markdown",
   "id": "97790cf3",
   "metadata": {},
   "source": [
    "Sampling"
   ]
  },
  {
   "cell_type": "code",
   "execution_count": 6,
   "id": "0918ca37",
   "metadata": {},
   "outputs": [],
   "source": [
    "# filter overpresented authors\n",
    "top_authors <- rnc_authors %>% \n",
    "    filter(n_texts > 30) %>% select(author) # 19 authors\n",
    "\n",
    "# randomly select 30 texts by each author\n",
    "sampled_id <- gamma %>% \n",
    "    filter(corpus == \"N\") %>% \n",
    "    # select slice\n",
    "    filter(year > 1829 & year < 1840) %>%\n",
    "    select(index, author) %>% \n",
    "    distinct() %>% \n",
    "    filter(author %in% top_authors$author) %>% \n",
    "    group_by(author) %>% \n",
    "    sample_n(30) %>% \n",
    "    ungroup() %>%\n",
    "    select(-author)\n",
    "\n",
    "# retrieve gamma values for samples for these authors\n",
    "gamma_top <- inner_join(sampled_id, gamma, by = \"index\", multiple = \"all\")"
   ]
  },
  {
   "cell_type": "markdown",
   "id": "ac578b96",
   "metadata": {},
   "source": [
    "Merging"
   ]
  },
  {
   "cell_type": "code",
   "execution_count": 7,
   "id": "08389b45",
   "metadata": {},
   "outputs": [
    {
     "data": {
      "text/html": [
       "<table class=\"dataframe\">\n",
       "<caption>A tibble: 6 × 8</caption>\n",
       "<thead>\n",
       "\t<tr><th scope=col>index</th><th scope=col>corpus</th><th scope=col>id</th><th scope=col>year</th><th scope=col>author</th><th scope=col>formula</th><th scope=col>topic</th><th scope=col>gamma</th></tr>\n",
       "\t<tr><th scope=col>&lt;chr&gt;</th><th scope=col>&lt;chr&gt;</th><th scope=col>&lt;chr&gt;</th><th scope=col>&lt;chr&gt;</th><th scope=col>&lt;chr&gt;</th><th scope=col>&lt;chr&gt;</th><th scope=col>&lt;int&gt;</th><th scope=col>&lt;dbl&gt;</th></tr>\n",
       "</thead>\n",
       "<tbody>\n",
       "\t<tr><td>N_6701-1</td><td>N</td><td>6701-1</td><td>1830</td><td>АВКольцов</td><td>anapaest_регулярная:2+1</td><td>1</td><td>0.008695652</td></tr>\n",
       "\t<tr><td>N_6701-1</td><td>N</td><td>6701-1</td><td>1830</td><td>АВКольцов</td><td>anapaest_регулярная:2+1</td><td>2</td><td>0.008695652</td></tr>\n",
       "\t<tr><td>N_6701-1</td><td>N</td><td>6701-1</td><td>1830</td><td>АВКольцов</td><td>anapaest_регулярная:2+1</td><td>3</td><td>0.008695652</td></tr>\n",
       "\t<tr><td>N_6701-1</td><td>N</td><td>6701-1</td><td>1830</td><td>АВКольцов</td><td>anapaest_регулярная:2+1</td><td>4</td><td>0.008695652</td></tr>\n",
       "\t<tr><td>N_6701-1</td><td>N</td><td>6701-1</td><td>1830</td><td>АВКольцов</td><td>anapaest_регулярная:2+1</td><td>5</td><td>0.008695652</td></tr>\n",
       "\t<tr><td>N_6701-1</td><td>N</td><td>6701-1</td><td>1830</td><td>АВКольцов</td><td>anapaest_регулярная:2+1</td><td>6</td><td>0.008695652</td></tr>\n",
       "</tbody>\n",
       "</table>\n"
      ],
      "text/latex": [
       "A tibble: 6 × 8\n",
       "\\begin{tabular}{llllllll}\n",
       " index & corpus & id & year & author & formula & topic & gamma\\\\\n",
       " <chr> & <chr> & <chr> & <chr> & <chr> & <chr> & <int> & <dbl>\\\\\n",
       "\\hline\n",
       "\t N\\_6701-1 & N & 6701-1 & 1830 & АВКольцов & anapaest\\_регулярная:2+1 & 1 & 0.008695652\\\\\n",
       "\t N\\_6701-1 & N & 6701-1 & 1830 & АВКольцов & anapaest\\_регулярная:2+1 & 2 & 0.008695652\\\\\n",
       "\t N\\_6701-1 & N & 6701-1 & 1830 & АВКольцов & anapaest\\_регулярная:2+1 & 3 & 0.008695652\\\\\n",
       "\t N\\_6701-1 & N & 6701-1 & 1830 & АВКольцов & anapaest\\_регулярная:2+1 & 4 & 0.008695652\\\\\n",
       "\t N\\_6701-1 & N & 6701-1 & 1830 & АВКольцов & anapaest\\_регулярная:2+1 & 5 & 0.008695652\\\\\n",
       "\t N\\_6701-1 & N & 6701-1 & 1830 & АВКольцов & anapaest\\_регулярная:2+1 & 6 & 0.008695652\\\\\n",
       "\\end{tabular}\n"
      ],
      "text/markdown": [
       "\n",
       "A tibble: 6 × 8\n",
       "\n",
       "| index &lt;chr&gt; | corpus &lt;chr&gt; | id &lt;chr&gt; | year &lt;chr&gt; | author &lt;chr&gt; | formula &lt;chr&gt; | topic &lt;int&gt; | gamma &lt;dbl&gt; |\n",
       "|---|---|---|---|---|---|---|---|\n",
       "| N_6701-1 | N | 6701-1 | 1830 | АВКольцов | anapaest_регулярная:2+1 | 1 | 0.008695652 |\n",
       "| N_6701-1 | N | 6701-1 | 1830 | АВКольцов | anapaest_регулярная:2+1 | 2 | 0.008695652 |\n",
       "| N_6701-1 | N | 6701-1 | 1830 | АВКольцов | anapaest_регулярная:2+1 | 3 | 0.008695652 |\n",
       "| N_6701-1 | N | 6701-1 | 1830 | АВКольцов | anapaest_регулярная:2+1 | 4 | 0.008695652 |\n",
       "| N_6701-1 | N | 6701-1 | 1830 | АВКольцов | anapaest_регулярная:2+1 | 5 | 0.008695652 |\n",
       "| N_6701-1 | N | 6701-1 | 1830 | АВКольцов | anapaest_регулярная:2+1 | 6 | 0.008695652 |\n",
       "\n"
      ],
      "text/plain": [
       "  index    corpus id     year author    formula                 topic\n",
       "1 N_6701-1 N      6701-1 1830 АВКольцов anapaest_регулярная:2+1 1    \n",
       "2 N_6701-1 N      6701-1 1830 АВКольцов anapaest_регулярная:2+1 2    \n",
       "3 N_6701-1 N      6701-1 1830 АВКольцов anapaest_регулярная:2+1 3    \n",
       "4 N_6701-1 N      6701-1 1830 АВКольцов anapaest_регулярная:2+1 4    \n",
       "5 N_6701-1 N      6701-1 1830 АВКольцов anapaest_регулярная:2+1 5    \n",
       "6 N_6701-1 N      6701-1 1830 АВКольцов anapaest_регулярная:2+1 6    \n",
       "  gamma      \n",
       "1 0.008695652\n",
       "2 0.008695652\n",
       "3 0.008695652\n",
       "4 0.008695652\n",
       "5 0.008695652\n",
       "6 0.008695652"
      ]
     },
     "metadata": {},
     "output_type": "display_data"
    },
    {
     "name": "stdout",
     "output_type": "stream",
     "text": [
      "[1] \"Number of texts in each corpus after sampling:\"\n"
     ]
    },
    {
     "data": {
      "text/html": [
       "<table class=\"dataframe\">\n",
       "<caption>A grouped_df: 2 × 2</caption>\n",
       "<thead>\n",
       "\t<tr><th scope=col>corpus</th><th scope=col>n</th></tr>\n",
       "\t<tr><th scope=col>&lt;chr&gt;</th><th scope=col>&lt;int&gt;</th></tr>\n",
       "</thead>\n",
       "<tbody>\n",
       "\t<tr><td>N</td><td>1173</td></tr>\n",
       "\t<tr><td>P</td><td>1191</td></tr>\n",
       "</tbody>\n",
       "</table>\n"
      ],
      "text/latex": [
       "A grouped\\_df: 2 × 2\n",
       "\\begin{tabular}{ll}\n",
       " corpus & n\\\\\n",
       " <chr> & <int>\\\\\n",
       "\\hline\n",
       "\t N & 1173\\\\\n",
       "\t P & 1191\\\\\n",
       "\\end{tabular}\n"
      ],
      "text/markdown": [
       "\n",
       "A grouped_df: 2 × 2\n",
       "\n",
       "| corpus &lt;chr&gt; | n &lt;int&gt; |\n",
       "|---|---|\n",
       "| N | 1173 |\n",
       "| P | 1191 |\n",
       "\n"
      ],
      "text/plain": [
       "  corpus n   \n",
       "1 N      1173\n",
       "2 P      1191"
      ]
     },
     "metadata": {},
     "output_type": "display_data"
    }
   ],
   "source": [
    "# select texts from RNC by non-prevalent authors\n",
    "gamma_nontop <- gamma %>% \n",
    "    filter(corpus == \"N\" & !author %in% top_authors$author) %>% \n",
    "    filter(year > 1829 & year < 1840)\n",
    "\n",
    "# retrieve all the gamma values for texts from periodicals\n",
    "gamma_periodicals <- gamma %>% \n",
    "    filter(corpus == \"P\") %>% \n",
    "    filter(year > 1829 & year < 1840) \n",
    "\n",
    "# merge the three together\n",
    "gamma1830 <- rbind(gamma_top, gamma_nontop, gamma_periodicals)\n",
    "\n",
    "head(gamma1830)\n",
    "\n",
    "print(\"Number of texts in each corpus after sampling:\")\n",
    "gamma1830 %>% \n",
    "    select(index, corpus) %>% \n",
    "    distinct() %>% \n",
    "    group_by(corpus) %>% \n",
    "    count()"
   ]
  },
  {
   "cell_type": "code",
   "execution_count": 8,
   "id": "a382e738",
   "metadata": {},
   "outputs": [],
   "source": [
    "save(gamma1830, file = \"../data/gamma_1830.Rda\")"
   ]
  },
  {
   "cell_type": "markdown",
   "id": "f6801378",
   "metadata": {},
   "source": [
    "## Preparation of nodes & edges"
   ]
  },
  {
   "cell_type": "code",
   "execution_count": 3,
   "id": "edd9158f",
   "metadata": {},
   "outputs": [
    {
     "name": "stdout",
     "output_type": "stream",
     "text": [
      "Rows: 177,300\n",
      "Columns: 8\n",
      "$ index   \u001b[3m\u001b[90m<chr>\u001b[39m\u001b[23m \"N_6701-1\", \"N_6701-1\", \"N_6701-1\", \"N_6701-1\", \"N_6701-1\", \"N…\n",
      "$ corpus  \u001b[3m\u001b[90m<chr>\u001b[39m\u001b[23m \"N\", \"N\", \"N\", \"N\", \"N\", \"N\", \"N\", \"N\", \"N\", \"N\", \"N\", \"N\", \"N…\n",
      "$ id      \u001b[3m\u001b[90m<chr>\u001b[39m\u001b[23m \"6701-1\", \"6701-1\", \"6701-1\", \"6701-1\", \"6701-1\", \"6701-1\", \"6…\n",
      "$ year    \u001b[3m\u001b[90m<chr>\u001b[39m\u001b[23m \"1830\", \"1830\", \"1830\", \"1830\", \"1830\", \"1830\", \"1830\", \"1830\"…\n",
      "$ author  \u001b[3m\u001b[90m<chr>\u001b[39m\u001b[23m \"АВКольцов\", \"АВКольцов\", \"АВКольцов\", \"АВКольцов\", \"АВКольцов…\n",
      "$ formula \u001b[3m\u001b[90m<chr>\u001b[39m\u001b[23m \"anapaest_регулярная:2+1\", \"anapaest_регулярная:2+1\", \"anapaes…\n",
      "$ topic   \u001b[3m\u001b[90m<int>\u001b[39m\u001b[23m 1, 2, 3, 4, 5, 6, 7, 8, 9, 10, 11, 12, 13, 14, 15, 16, 17, 18,…\n",
      "$ gamma   \u001b[3m\u001b[90m<dbl>\u001b[39m\u001b[23m 0.008695652, 0.008695652, 0.008695652, 0.008695652, 0.00869565…\n"
     ]
    }
   ],
   "source": [
    "load(\"../data/gamma_1830.Rda\")\n",
    "glimpse(gamma1830)"
   ]
  },
  {
   "cell_type": "markdown",
   "id": "498b9e10",
   "metadata": {},
   "source": [
    "#### Appendix: Table 1"
   ]
  },
  {
   "cell_type": "code",
   "execution_count": 4,
   "id": "4761db6d",
   "metadata": {},
   "outputs": [
    {
     "name": "stdout",
     "output_type": "stream",
     "text": [
      "[1] \"Total number of unique poems in periodicals corpus:\"\n"
     ]
    },
    {
     "data": {
      "text/html": [
       "897"
      ],
      "text/latex": [
       "897"
      ],
      "text/markdown": [
       "897"
      ],
      "text/plain": [
       "[1] 897"
      ]
     },
     "metadata": {},
     "output_type": "display_data"
    }
   ],
   "source": [
    "print(\"Total number of unique poems in periodicals corpus:\")\n",
    "gamma1830 %>% \n",
    "    filter(corpus == \"P\") %>% \n",
    "    mutate(id = str_remove_all(index, \"-\\\\d+$\")) %>% \n",
    "    select(id) %>% \n",
    "    distinct() %>%\n",
    "    nrow()"
   ]
  },
  {
   "cell_type": "code",
   "execution_count": 5,
   "id": "0a8379c0",
   "metadata": {},
   "outputs": [
    {
     "data": {
      "text/html": [
       "<table class=\"dataframe\">\n",
       "<caption>A rowwise_df: 2 × 7</caption>\n",
       "<thead>\n",
       "\t<tr><th scope=col>corpus</th><th scope=col>iamb_4</th><th scope=col>iamb_free</th><th scope=col>trochee_4</th><th scope=col>iamb_6</th><th scope=col>other</th><th scope=col>total</th></tr>\n",
       "\t<tr><th scope=col>&lt;chr&gt;</th><th scope=col>&lt;int&gt;</th><th scope=col>&lt;int&gt;</th><th scope=col>&lt;int&gt;</th><th scope=col>&lt;int&gt;</th><th scope=col>&lt;int&gt;</th><th scope=col>&lt;int&gt;</th></tr>\n",
       "</thead>\n",
       "<tbody>\n",
       "\t<tr><td>N</td><td>329</td><td>140</td><td>146</td><td>82</td><td>476</td><td>1173</td></tr>\n",
       "\t<tr><td>P</td><td>325</td><td>293</td><td>156</td><td>65</td><td>352</td><td>1191</td></tr>\n",
       "</tbody>\n",
       "</table>\n"
      ],
      "text/latex": [
       "A rowwise\\_df: 2 × 7\n",
       "\\begin{tabular}{lllllll}\n",
       " corpus & iamb\\_4 & iamb\\_free & trochee\\_4 & iamb\\_6 & other & total\\\\\n",
       " <chr> & <int> & <int> & <int> & <int> & <int> & <int>\\\\\n",
       "\\hline\n",
       "\t N & 329 & 140 & 146 & 82 & 476 & 1173\\\\\n",
       "\t P & 325 & 293 & 156 & 65 & 352 & 1191\\\\\n",
       "\\end{tabular}\n"
      ],
      "text/markdown": [
       "\n",
       "A rowwise_df: 2 × 7\n",
       "\n",
       "| corpus &lt;chr&gt; | iamb_4 &lt;int&gt; | iamb_free &lt;int&gt; | trochee_4 &lt;int&gt; | iamb_6 &lt;int&gt; | other &lt;int&gt; | total &lt;int&gt; |\n",
       "|---|---|---|---|---|---|---|\n",
       "| N | 329 | 140 | 146 | 82 | 476 | 1173 |\n",
       "| P | 325 | 293 | 156 | 65 | 352 | 1191 |\n",
       "\n"
      ],
      "text/plain": [
       "  corpus iamb_4 iamb_free trochee_4 iamb_6 other total\n",
       "1 N      329    140       146       82     476   1173 \n",
       "2 P      325    293       156       65     352   1191 "
      ]
     },
     "metadata": {},
     "output_type": "display_data"
    },
    {
     "data": {
      "text/html": [
       "<table class=\"dataframe\">\n",
       "<caption>A rowwise_df: 1 × 1</caption>\n",
       "<thead>\n",
       "\t<tr><th scope=col>total</th></tr>\n",
       "\t<tr><th scope=col>&lt;int&gt;</th></tr>\n",
       "</thead>\n",
       "<tbody>\n",
       "\t<tr><td>1173</td></tr>\n",
       "</tbody>\n",
       "</table>\n"
      ],
      "text/latex": [
       "A rowwise\\_df: 1 × 1\n",
       "\\begin{tabular}{l}\n",
       " total\\\\\n",
       " <int>\\\\\n",
       "\\hline\n",
       "\t 1173\\\\\n",
       "\\end{tabular}\n"
      ],
      "text/markdown": [
       "\n",
       "A rowwise_df: 1 × 1\n",
       "\n",
       "| total &lt;int&gt; |\n",
       "|---|\n",
       "| 1173 |\n",
       "\n"
      ],
      "text/plain": [
       "  total\n",
       "1 1173 "
      ]
     },
     "metadata": {},
     "output_type": "display_data"
    },
    {
     "data": {
      "text/html": [
       "<table class=\"dataframe\">\n",
       "<caption>A grouped_df: 12 × 4</caption>\n",
       "<thead>\n",
       "\t<tr><th scope=col>corpus</th><th scope=col>formula</th><th scope=col>n</th><th scope=col>perc</th></tr>\n",
       "\t<tr><th scope=col>&lt;chr&gt;</th><th scope=col>&lt;chr&gt;</th><th scope=col>&lt;int&gt;</th><th scope=col>&lt;list&gt;</th></tr>\n",
       "</thead>\n",
       "<tbody>\n",
       "\t<tr><td>N</td><td>iamb_4   </td><td> 329</td><td>28</td></tr>\n",
       "\t<tr><td>N</td><td>iamb_free</td><td> 140</td><td>11.9</td></tr>\n",
       "\t<tr><td>N</td><td>trochee_4</td><td> 146</td><td>12.4</td></tr>\n",
       "\t<tr><td>N</td><td>iamb_6   </td><td>  82</td><td>7</td></tr>\n",
       "\t<tr><td>N</td><td>other    </td><td> 476</td><td>40.6</td></tr>\n",
       "\t<tr><td>N</td><td>total    </td><td>1173</td><td>100</td></tr>\n",
       "\t<tr><td>P</td><td>iamb_4   </td><td> 325</td><td>27.3</td></tr>\n",
       "\t<tr><td>P</td><td>iamb_free</td><td> 293</td><td>24.6</td></tr>\n",
       "\t<tr><td>P</td><td>trochee_4</td><td> 156</td><td>13.1</td></tr>\n",
       "\t<tr><td>P</td><td>iamb_6   </td><td>  65</td><td>5.5</td></tr>\n",
       "\t<tr><td>P</td><td>other    </td><td> 352</td><td>29.6</td></tr>\n",
       "\t<tr><td>P</td><td>total    </td><td>1191</td><td>100</td></tr>\n",
       "</tbody>\n",
       "</table>\n"
      ],
      "text/latex": [
       "A grouped\\_df: 12 × 4\n",
       "\\begin{tabular}{llll}\n",
       " corpus & formula & n & perc\\\\\n",
       " <chr> & <chr> & <int> & <list>\\\\\n",
       "\\hline\n",
       "\t N & iamb\\_4    &  329 & 28\\\\\n",
       "\t N & iamb\\_free &  140 & 11.9\\\\\n",
       "\t N & trochee\\_4 &  146 & 12.4\\\\\n",
       "\t N & iamb\\_6    &   82 & 7\\\\\n",
       "\t N & other     &  476 & 40.6\\\\\n",
       "\t N & total     & 1173 & 100\\\\\n",
       "\t P & iamb\\_4    &  325 & 27.3\\\\\n",
       "\t P & iamb\\_free &  293 & 24.6\\\\\n",
       "\t P & trochee\\_4 &  156 & 13.1\\\\\n",
       "\t P & iamb\\_6    &   65 & 5.5\\\\\n",
       "\t P & other     &  352 & 29.6\\\\\n",
       "\t P & total     & 1191 & 100\\\\\n",
       "\\end{tabular}\n"
      ],
      "text/markdown": [
       "\n",
       "A grouped_df: 12 × 4\n",
       "\n",
       "| corpus &lt;chr&gt; | formula &lt;chr&gt; | n &lt;int&gt; | perc &lt;list&gt; |\n",
       "|---|---|---|---|\n",
       "| N | iamb_4    |  329 | 28 |\n",
       "| N | iamb_free |  140 | 11.9 |\n",
       "| N | trochee_4 |  146 | 12.4 |\n",
       "| N | iamb_6    |   82 | 7 |\n",
       "| N | other     |  476 | 40.6 |\n",
       "| N | total     | 1173 | 100 |\n",
       "| P | iamb_4    |  325 | 27.3 |\n",
       "| P | iamb_free |  293 | 24.6 |\n",
       "| P | trochee_4 |  156 | 13.1 |\n",
       "| P | iamb_6    |   65 | 5.5 |\n",
       "| P | other     |  352 | 29.6 |\n",
       "| P | total     | 1191 | 100 |\n",
       "\n"
      ],
      "text/plain": [
       "   corpus formula   n    perc\n",
       "1  N      iamb_4     329 28  \n",
       "2  N      iamb_free  140 11.9\n",
       "3  N      trochee_4  146 12.4\n",
       "4  N      iamb_6      82 7   \n",
       "5  N      other      476 40.6\n",
       "6  N      total     1173 100 \n",
       "7  P      iamb_4     325 27.3\n",
       "8  P      iamb_free  293 24.6\n",
       "9  P      trochee_4  156 13.1\n",
       "10 P      iamb_6      65 5.5 \n",
       "11 P      other      352 29.6\n",
       "12 P      total     1191 100 "
      ]
     },
     "metadata": {},
     "output_type": "display_data"
    }
   ],
   "source": [
    "counts_main <- gamma1830 %>% \n",
    "    select(index, corpus, formula) %>% \n",
    "    filter(formula %in% c(\"iamb_4\", \"iamb_6\", \"iamb_free\", \"trochee_4\")) %>% \n",
    "    distinct() %>% \n",
    "    group_by(corpus, formula) %>% \n",
    "    count(sort = T) %>% \n",
    "    pivot_wider(names_from = formula, values_from = n)\n",
    "\n",
    "rnc_others <- gamma1830 %>% \n",
    "    select(index, corpus, formula) %>% \n",
    "    distinct() %>% \n",
    "    filter(corpus == \"N\" & !formula %in% c(\"iamb_4\", \"iamb_6\", \"iamb_free\", \"trochee_4\")) %>% \n",
    "    count() %>% \n",
    "    pull()\n",
    "\n",
    "per_others <- gamma1830 %>% \n",
    "    select(index, corpus, formula) %>% \n",
    "    distinct() %>% \n",
    "    filter(corpus == \"P\" & !formula %in% c(\"iamb_4\", \"iamb_6\", \"iamb_free\", \"trochee_4\")) %>% \n",
    "    count() %>% \n",
    "    pull()\n",
    "\n",
    "counts <- cbind(counts_main, other = c(rnc_others, per_others))\n",
    "\n",
    "counts_fin <- counts %>% \n",
    "    ungroup() %>% \n",
    "    rowwise(corpus) %>% mutate(total = sum(across(where(is.numeric))))\n",
    "\n",
    "counts_fin\n",
    "\n",
    "counts_fin[1,7]\n",
    "\n",
    "counts_fin %>% \n",
    "    pivot_longer(!corpus, names_to = \"formula\", values_to = \"n\") %>% \n",
    "    group_by(corpus, formula) %>% \n",
    "    mutate(perc = ifelse(corpus == \"N\",\n",
    "               round(n/counts_fin[1,7]*100,1),\n",
    "               round(n/counts_fin[2,7]*100,1)))\n"
   ]
  },
  {
   "cell_type": "markdown",
   "id": "a907d2b7",
   "metadata": {},
   "source": [
    "### Network creation"
   ]
  },
  {
   "cell_type": "markdown",
   "id": "4e70cf59",
   "metadata": {},
   "source": [
    "Extract topic labels & Create edges: detect highly probable topics appeared in the same poems"
   ]
  },
  {
   "cell_type": "code",
   "execution_count": 6,
   "id": "e4f66859",
   "metadata": {},
   "outputs": [
    {
     "data": {
      "text/html": [
       "<table class=\"dataframe\">\n",
       "<caption>A tibble: 6 × 2</caption>\n",
       "<thead>\n",
       "\t<tr><th scope=col>topic</th><th scope=col>label</th></tr>\n",
       "\t<tr><th scope=col>&lt;int&gt;</th><th scope=col>&lt;chr&gt;</th></tr>\n",
       "</thead>\n",
       "<tbody>\n",
       "\t<tr><td>1</td><td>1_старик девица красный молодой старый</td></tr>\n",
       "\t<tr><td>2</td><td>2_брат два жена муж другой            </td></tr>\n",
       "\t<tr><td>3</td><td>3_искать исчезать везде дух след      </td></tr>\n",
       "\t<tr><td>4</td><td>4_дева прекрасный краса чистый молодой</td></tr>\n",
       "\t<tr><td>5</td><td>5_бог давать сила боже господь        </td></tr>\n",
       "\t<tr><td>6</td><td>6_слава великий герой отечество россия</td></tr>\n",
       "</tbody>\n",
       "</table>\n"
      ],
      "text/latex": [
       "A tibble: 6 × 2\n",
       "\\begin{tabular}{ll}\n",
       " topic & label\\\\\n",
       " <int> & <chr>\\\\\n",
       "\\hline\n",
       "\t 1 & 1\\_старик девица красный молодой старый\\\\\n",
       "\t 2 & 2\\_брат два жена муж другой            \\\\\n",
       "\t 3 & 3\\_искать исчезать везде дух след      \\\\\n",
       "\t 4 & 4\\_дева прекрасный краса чистый молодой\\\\\n",
       "\t 5 & 5\\_бог давать сила боже господь        \\\\\n",
       "\t 6 & 6\\_слава великий герой отечество россия\\\\\n",
       "\\end{tabular}\n"
      ],
      "text/markdown": [
       "\n",
       "A tibble: 6 × 2\n",
       "\n",
       "| topic &lt;int&gt; | label &lt;chr&gt; |\n",
       "|---|---|\n",
       "| 1 | 1_старик девица красный молодой старый |\n",
       "| 2 | 2_брат два жена муж другой             |\n",
       "| 3 | 3_искать исчезать везде дух след       |\n",
       "| 4 | 4_дева прекрасный краса чистый молодой |\n",
       "| 5 | 5_бог давать сила боже господь         |\n",
       "| 6 | 6_слава великий герой отечество россия |\n",
       "\n"
      ],
      "text/plain": [
       "  topic label                                 \n",
       "1 1     1_старик девица красный молодой старый\n",
       "2 2     2_брат два жена муж другой            \n",
       "3 3     3_искать исчезать везде дух след      \n",
       "4 4     4_дева прекрасный краса чистый молодой\n",
       "5 5     5_бог давать сила боже господь        \n",
       "6 6     6_слава великий герой отечество россия"
      ]
     },
     "metadata": {},
     "output_type": "display_data"
    },
    {
     "data": {
      "text/html": [
       "<table class=\"dataframe\">\n",
       "<caption>A grouped_df: 6 × 14</caption>\n",
       "<thead>\n",
       "\t<tr><th scope=col>index</th><th scope=col>corpus</th><th scope=col>id</th><th scope=col>year</th><th scope=col>author</th><th scope=col>formula</th><th scope=col>topic</th><th scope=col>gamma</th><th scope=col>from</th><th scope=col>to</th><th scope=col>slice</th><th scope=col>edge_id</th><th scope=col>source</th><th scope=col>target</th></tr>\n",
       "\t<tr><th scope=col>&lt;chr&gt;</th><th scope=col>&lt;chr&gt;</th><th scope=col>&lt;chr&gt;</th><th scope=col>&lt;chr&gt;</th><th scope=col>&lt;chr&gt;</th><th scope=col>&lt;chr&gt;</th><th scope=col>&lt;int&gt;</th><th scope=col>&lt;dbl&gt;</th><th scope=col>&lt;int&gt;</th><th scope=col>&lt;int&gt;</th><th scope=col>&lt;dbl&gt;</th><th scope=col>&lt;chr&gt;</th><th scope=col>&lt;chr&gt;</th><th scope=col>&lt;chr&gt;</th></tr>\n",
       "</thead>\n",
       "<tbody>\n",
       "\t<tr><td>N_6701-1</td><td>N</td><td>6701-1</td><td>1830</td><td>АВКольцов</td><td>anapaest_регулярная:2+1</td><td>23</td><td>0.06086957</td><td>23</td><td>25</td><td>1830</td><td>23 25</td><td>23_белый грудь черный лицо кудри</td><td>25_взор око речь взгляд улыбка      </td></tr>\n",
       "\t<tr><td>N_6701-1</td><td>N</td><td>6701-1</td><td>1830</td><td>АВКольцов</td><td>anapaest_регулярная:2+1</td><td>23</td><td>0.06086957</td><td>23</td><td>34</td><td>1830</td><td>23 34</td><td>23_белый грудь черный лицо кудри</td><td>34_слеза сердце плакать тоска печаль</td></tr>\n",
       "\t<tr><td>N_6701-1</td><td>N</td><td>6701-1</td><td>1830</td><td>АВКольцов</td><td>anapaest_регулярная:2+1</td><td>23</td><td>0.06086957</td><td>23</td><td>37</td><td>1830</td><td>23 37</td><td>23_белый грудь черный лицо кудри</td><td>37_огонь пламень грудь гореть око   </td></tr>\n",
       "\t<tr><td>N_6701-1</td><td>N</td><td>6701-1</td><td>1830</td><td>АВКольцов</td><td>anapaest_регулярная:2+1</td><td>23</td><td>0.06086957</td><td>23</td><td>56</td><td>1830</td><td>23 56</td><td>23_белый грудь черный лицо кудри</td><td>56_рука нога голова глаз подымать   </td></tr>\n",
       "\t<tr><td>N_6701-1</td><td>N</td><td>6701-1</td><td>1830</td><td>АВКольцов</td><td>anapaest_регулярная:2+1</td><td>25</td><td>0.04347826</td><td>25</td><td>34</td><td>1830</td><td>25 34</td><td>25_взор око речь взгляд улыбка  </td><td>34_слеза сердце плакать тоска печаль</td></tr>\n",
       "\t<tr><td>N_6701-1</td><td>N</td><td>6701-1</td><td>1830</td><td>АВКольцов</td><td>anapaest_регулярная:2+1</td><td>25</td><td>0.04347826</td><td>25</td><td>37</td><td>1830</td><td>25 37</td><td>25_взор око речь взгляд улыбка  </td><td>37_огонь пламень грудь гореть око   </td></tr>\n",
       "</tbody>\n",
       "</table>\n"
      ],
      "text/latex": [
       "A grouped\\_df: 6 × 14\n",
       "\\begin{tabular}{llllllllllllll}\n",
       " index & corpus & id & year & author & formula & topic & gamma & from & to & slice & edge\\_id & source & target\\\\\n",
       " <chr> & <chr> & <chr> & <chr> & <chr> & <chr> & <int> & <dbl> & <int> & <int> & <dbl> & <chr> & <chr> & <chr>\\\\\n",
       "\\hline\n",
       "\t N\\_6701-1 & N & 6701-1 & 1830 & АВКольцов & anapaest\\_регулярная:2+1 & 23 & 0.06086957 & 23 & 25 & 1830 & 23 25 & 23\\_белый грудь черный лицо кудри & 25\\_взор око речь взгляд улыбка      \\\\\n",
       "\t N\\_6701-1 & N & 6701-1 & 1830 & АВКольцов & anapaest\\_регулярная:2+1 & 23 & 0.06086957 & 23 & 34 & 1830 & 23 34 & 23\\_белый грудь черный лицо кудри & 34\\_слеза сердце плакать тоска печаль\\\\\n",
       "\t N\\_6701-1 & N & 6701-1 & 1830 & АВКольцов & anapaest\\_регулярная:2+1 & 23 & 0.06086957 & 23 & 37 & 1830 & 23 37 & 23\\_белый грудь черный лицо кудри & 37\\_огонь пламень грудь гореть око   \\\\\n",
       "\t N\\_6701-1 & N & 6701-1 & 1830 & АВКольцов & anapaest\\_регулярная:2+1 & 23 & 0.06086957 & 23 & 56 & 1830 & 23 56 & 23\\_белый грудь черный лицо кудри & 56\\_рука нога голова глаз подымать   \\\\\n",
       "\t N\\_6701-1 & N & 6701-1 & 1830 & АВКольцов & anapaest\\_регулярная:2+1 & 25 & 0.04347826 & 25 & 34 & 1830 & 25 34 & 25\\_взор око речь взгляд улыбка   & 34\\_слеза сердце плакать тоска печаль\\\\\n",
       "\t N\\_6701-1 & N & 6701-1 & 1830 & АВКольцов & anapaest\\_регулярная:2+1 & 25 & 0.04347826 & 25 & 37 & 1830 & 25 37 & 25\\_взор око речь взгляд улыбка   & 37\\_огонь пламень грудь гореть око   \\\\\n",
       "\\end{tabular}\n"
      ],
      "text/markdown": [
       "\n",
       "A grouped_df: 6 × 14\n",
       "\n",
       "| index &lt;chr&gt; | corpus &lt;chr&gt; | id &lt;chr&gt; | year &lt;chr&gt; | author &lt;chr&gt; | formula &lt;chr&gt; | topic &lt;int&gt; | gamma &lt;dbl&gt; | from &lt;int&gt; | to &lt;int&gt; | slice &lt;dbl&gt; | edge_id &lt;chr&gt; | source &lt;chr&gt; | target &lt;chr&gt; |\n",
       "|---|---|---|---|---|---|---|---|---|---|---|---|---|---|\n",
       "| N_6701-1 | N | 6701-1 | 1830 | АВКольцов | anapaest_регулярная:2+1 | 23 | 0.06086957 | 23 | 25 | 1830 | 23 25 | 23_белый грудь черный лицо кудри | 25_взор око речь взгляд улыбка       |\n",
       "| N_6701-1 | N | 6701-1 | 1830 | АВКольцов | anapaest_регулярная:2+1 | 23 | 0.06086957 | 23 | 34 | 1830 | 23 34 | 23_белый грудь черный лицо кудри | 34_слеза сердце плакать тоска печаль |\n",
       "| N_6701-1 | N | 6701-1 | 1830 | АВКольцов | anapaest_регулярная:2+1 | 23 | 0.06086957 | 23 | 37 | 1830 | 23 37 | 23_белый грудь черный лицо кудри | 37_огонь пламень грудь гореть око    |\n",
       "| N_6701-1 | N | 6701-1 | 1830 | АВКольцов | anapaest_регулярная:2+1 | 23 | 0.06086957 | 23 | 56 | 1830 | 23 56 | 23_белый грудь черный лицо кудри | 56_рука нога голова глаз подымать    |\n",
       "| N_6701-1 | N | 6701-1 | 1830 | АВКольцов | anapaest_регулярная:2+1 | 25 | 0.04347826 | 25 | 34 | 1830 | 25 34 | 25_взор око речь взгляд улыбка   | 34_слеза сердце плакать тоска печаль |\n",
       "| N_6701-1 | N | 6701-1 | 1830 | АВКольцов | anapaest_регулярная:2+1 | 25 | 0.04347826 | 25 | 37 | 1830 | 25 37 | 25_взор око речь взгляд улыбка   | 37_огонь пламень грудь гореть око    |\n",
       "\n"
      ],
      "text/plain": [
       "  index    corpus id     year author    formula                 topic\n",
       "1 N_6701-1 N      6701-1 1830 АВКольцов anapaest_регулярная:2+1 23   \n",
       "2 N_6701-1 N      6701-1 1830 АВКольцов anapaest_регулярная:2+1 23   \n",
       "3 N_6701-1 N      6701-1 1830 АВКольцов anapaest_регулярная:2+1 23   \n",
       "4 N_6701-1 N      6701-1 1830 АВКольцов anapaest_регулярная:2+1 23   \n",
       "5 N_6701-1 N      6701-1 1830 АВКольцов anapaest_регулярная:2+1 25   \n",
       "6 N_6701-1 N      6701-1 1830 АВКольцов anapaest_регулярная:2+1 25   \n",
       "  gamma      from to slice edge_id source                          \n",
       "1 0.06086957 23   25 1830  23 25   23_белый грудь черный лицо кудри\n",
       "2 0.06086957 23   34 1830  23 34   23_белый грудь черный лицо кудри\n",
       "3 0.06086957 23   37 1830  23 37   23_белый грудь черный лицо кудри\n",
       "4 0.06086957 23   56 1830  23 56   23_белый грудь черный лицо кудри\n",
       "5 0.04347826 25   34 1830  25 34   25_взор око речь взгляд улыбка  \n",
       "6 0.04347826 25   37 1830  25 37   25_взор око речь взгляд улыбка  \n",
       "  target                              \n",
       "1 25_взор око речь взгляд улыбка      \n",
       "2 34_слеза сердце плакать тоска печаль\n",
       "3 37_огонь пламень грудь гореть око   \n",
       "4 56_рука нога голова глаз подымать   \n",
       "5 34_слеза сердце плакать тоска печаль\n",
       "6 37_огонь пламень грудь гореть око   "
      ]
     },
     "metadata": {},
     "output_type": "display_data"
    }
   ],
   "source": [
    "topic_labels <- get_topic_labels(beta, n_labels = 5)\n",
    "head(topic_labels)\n",
    "\n",
    "edges_1830 <- compute_edges(gamma1830,\n",
    "                           gamma_thresh = 0.05,\n",
    "                           time_slice = 5)\n",
    "\n",
    "head(edges_1830)"
   ]
  },
  {
   "cell_type": "code",
   "execution_count": 7,
   "id": "e3211825",
   "metadata": {},
   "outputs": [
    {
     "data": {
      "text/html": [
       "<style>\n",
       ".list-inline {list-style: none; margin:0; padding: 0}\n",
       ".list-inline>li {display: inline-block}\n",
       ".list-inline>li:not(:last-child)::after {content: \"\\00b7\"; padding: 0 .5ex}\n",
       "</style>\n",
       "<ol class=list-inline><li>'iamb_4'</li><li>'iamb_free'</li><li>'trochee_4'</li><li>'iamb_5'</li><li>'iamb_6'</li><li>'amphibrach_4'</li><li>'trochee_free'</li><li>'amphibrach_free'</li></ol>\n"
      ],
      "text/latex": [
       "\\begin{enumerate*}\n",
       "\\item 'iamb\\_4'\n",
       "\\item 'iamb\\_free'\n",
       "\\item 'trochee\\_4'\n",
       "\\item 'iamb\\_5'\n",
       "\\item 'iamb\\_6'\n",
       "\\item 'amphibrach\\_4'\n",
       "\\item 'trochee\\_free'\n",
       "\\item 'amphibrach\\_free'\n",
       "\\end{enumerate*}\n"
      ],
      "text/markdown": [
       "1. 'iamb_4'\n",
       "2. 'iamb_free'\n",
       "3. 'trochee_4'\n",
       "4. 'iamb_5'\n",
       "5. 'iamb_6'\n",
       "6. 'amphibrach_4'\n",
       "7. 'trochee_free'\n",
       "8. 'amphibrach_free'\n",
       "\n",
       "\n"
      ],
      "text/plain": [
       "[1] \"iamb_4\"          \"iamb_free\"       \"trochee_4\"       \"iamb_5\"         \n",
       "[5] \"iamb_6\"          \"amphibrach_4\"    \"trochee_free\"    \"amphibrach_free\""
      ]
     },
     "metadata": {},
     "output_type": "display_data"
    }
   ],
   "source": [
    "# select top meters\n",
    "meter_counts_1830 <- gamma1830 %>% \n",
    "  rename(\"meter\" = \"formula\") %>% \n",
    "  filter(!str_detect(meter, \"other\") & meter != \"NA\") %>% \n",
    "  group_by(meter, corpus) %>% \n",
    "  count(sort = T) %>% \n",
    "  mutate(n_texts = n/75) %>%\n",
    "  ungroup() %>% \n",
    "  filter(n > 10)\n",
    "\n",
    "top_meters_1830 <- meter_counts_1830 %>% \n",
    "  group_by(meter) %>%\n",
    "  summarise(total = sum(n)) %>% \n",
    "  arrange(desc(total))\n",
    "\n",
    "top_meters_1830$meter[1:8]"
   ]
  },
  {
   "cell_type": "code",
   "execution_count": 8,
   "id": "521f7e2d",
   "metadata": {},
   "outputs": [
    {
     "data": {
      "text/html": [
       "<table class=\"dataframe\">\n",
       "<caption>A tibble: 6 × 6</caption>\n",
       "<thead>\n",
       "\t<tr><th scope=col>meter</th><th scope=col>corpus</th><th scope=col>edge_id</th><th scope=col>source</th><th scope=col>target</th><th scope=col>n</th></tr>\n",
       "\t<tr><th scope=col>&lt;chr&gt;</th><th scope=col>&lt;chr&gt;</th><th scope=col>&lt;chr&gt;</th><th scope=col>&lt;chr&gt;</th><th scope=col>&lt;chr&gt;</th><th scope=col>&lt;int&gt;</th></tr>\n",
       "</thead>\n",
       "<tbody>\n",
       "\t<tr><td>iamb_free</td><td>P</td><td>30 42</td><td>30_небо земля мир земной небесный</td><td>42_душа мечта поэт живой восторг</td><td>10</td></tr>\n",
       "\t<tr><td>iamb_4   </td><td>P</td><td>8 74 </td><td>8_звезда небо луна ночь луч      </td><td>74_луч солнце небо заря блистать</td><td> 9</td></tr>\n",
       "\t<tr><td>iamb_4   </td><td>N</td><td>30 42</td><td>30_небо земля мир земной небесный</td><td>42_душа мечта поэт живой восторг</td><td> 8</td></tr>\n",
       "\t<tr><td>iamb_4   </td><td>P</td><td>24 72</td><td>24_вода луг тень ручей роща      </td><td>72_гора лес скала дикий стоять  </td><td> 8</td></tr>\n",
       "\t<tr><td>iamb_4   </td><td>P</td><td>30 74</td><td>30_небо земля мир земной небесный</td><td>74_луч солнце небо заря блистать</td><td> 8</td></tr>\n",
       "\t<tr><td>trochee_4</td><td>P</td><td>8 26 </td><td>8_звезда небо луна ночь луч      </td><td>26_волна море берег вода брег   </td><td> 8</td></tr>\n",
       "</tbody>\n",
       "</table>\n"
      ],
      "text/latex": [
       "A tibble: 6 × 6\n",
       "\\begin{tabular}{llllll}\n",
       " meter & corpus & edge\\_id & source & target & n\\\\\n",
       " <chr> & <chr> & <chr> & <chr> & <chr> & <int>\\\\\n",
       "\\hline\n",
       "\t iamb\\_free & P & 30 42 & 30\\_небо земля мир земной небесный & 42\\_душа мечта поэт живой восторг & 10\\\\\n",
       "\t iamb\\_4    & P & 8 74  & 8\\_звезда небо луна ночь луч       & 74\\_луч солнце небо заря блистать &  9\\\\\n",
       "\t iamb\\_4    & N & 30 42 & 30\\_небо земля мир земной небесный & 42\\_душа мечта поэт живой восторг &  8\\\\\n",
       "\t iamb\\_4    & P & 24 72 & 24\\_вода луг тень ручей роща       & 72\\_гора лес скала дикий стоять   &  8\\\\\n",
       "\t iamb\\_4    & P & 30 74 & 30\\_небо земля мир земной небесный & 74\\_луч солнце небо заря блистать &  8\\\\\n",
       "\t trochee\\_4 & P & 8 26  & 8\\_звезда небо луна ночь луч       & 26\\_волна море берег вода брег    &  8\\\\\n",
       "\\end{tabular}\n"
      ],
      "text/markdown": [
       "\n",
       "A tibble: 6 × 6\n",
       "\n",
       "| meter &lt;chr&gt; | corpus &lt;chr&gt; | edge_id &lt;chr&gt; | source &lt;chr&gt; | target &lt;chr&gt; | n &lt;int&gt; |\n",
       "|---|---|---|---|---|---|\n",
       "| iamb_free | P | 30 42 | 30_небо земля мир земной небесный | 42_душа мечта поэт живой восторг | 10 |\n",
       "| iamb_4    | P | 8 74  | 8_звезда небо луна ночь луч       | 74_луч солнце небо заря блистать |  9 |\n",
       "| iamb_4    | N | 30 42 | 30_небо земля мир земной небесный | 42_душа мечта поэт живой восторг |  8 |\n",
       "| iamb_4    | P | 24 72 | 24_вода луг тень ручей роща       | 72_гора лес скала дикий стоять   |  8 |\n",
       "| iamb_4    | P | 30 74 | 30_небо земля мир земной небесный | 74_луч солнце небо заря блистать |  8 |\n",
       "| trochee_4 | P | 8 26  | 8_звезда небо луна ночь луч       | 26_волна море берег вода брег    |  8 |\n",
       "\n"
      ],
      "text/plain": [
       "  meter     corpus edge_id source                           \n",
       "1 iamb_free P      30 42   30_небо земля мир земной небесный\n",
       "2 iamb_4    P      8 74    8_звезда небо луна ночь луч      \n",
       "3 iamb_4    N      30 42   30_небо земля мир земной небесный\n",
       "4 iamb_4    P      24 72   24_вода луг тень ручей роща      \n",
       "5 iamb_4    P      30 74   30_небо земля мир земной небесный\n",
       "6 trochee_4 P      8 26    8_звезда небо луна ночь луч      \n",
       "  target                           n \n",
       "1 42_душа мечта поэт живой восторг 10\n",
       "2 74_луч солнце небо заря блистать  9\n",
       "3 42_душа мечта поэт живой восторг  8\n",
       "4 72_гора лес скала дикий стоять    8\n",
       "5 74_луч солнце небо заря блистать  8\n",
       "6 26_волна море берег вода брег     8"
      ]
     },
     "metadata": {},
     "output_type": "display_data"
    }
   ],
   "source": [
    "links_1830 <- edges_1830 %>% \n",
    "  mutate(meter = formula) %>%\n",
    "  # filter out only 8 most interesting meters\n",
    "  filter(meter %in% top_meters_1830$meter[1:8]) %>% \n",
    "  # group and count edges\n",
    "  group_by(meter, corpus) %>% \n",
    "  count(meter, edge_id, source, target, sort = T) %>% \n",
    "  # filter non-frequent edges\n",
    "  filter(n > 2) %>% \n",
    "  ungroup() \n",
    "\n",
    "# quick check\n",
    "head(links_1830)"
   ]
  },
  {
   "cell_type": "markdown",
   "id": "fbd1225c",
   "metadata": {},
   "source": [
    "Create node- and edgelist"
   ]
  },
  {
   "cell_type": "code",
   "execution_count": 9,
   "id": "ea51fcae",
   "metadata": {},
   "outputs": [
    {
     "data": {
      "text/html": [
       "<style>\n",
       ".list-inline {list-style: none; margin:0; padding: 0}\n",
       ".list-inline>li {display: inline-block}\n",
       ".list-inline>li:not(:last-child)::after {content: \"\\00b7\"; padding: 0 .5ex}\n",
       "</style>\n",
       "<ol class=list-inline><li>'iamb_4__30 42'</li><li>'iamb_4__12 42'</li><li>'iamb_4__17 55'</li><li>'iamb_4__28 55'</li><li>'iamb_4__42 75'</li><li>'trochee_4__13 66'</li></ol>\n"
      ],
      "text/latex": [
       "\\begin{enumerate*}\n",
       "\\item 'iamb\\_4\\_\\_30 42'\n",
       "\\item 'iamb\\_4\\_\\_12 42'\n",
       "\\item 'iamb\\_4\\_\\_17 55'\n",
       "\\item 'iamb\\_4\\_\\_28 55'\n",
       "\\item 'iamb\\_4\\_\\_42 75'\n",
       "\\item 'trochee\\_4\\_\\_13 66'\n",
       "\\end{enumerate*}\n"
      ],
      "text/markdown": [
       "1. 'iamb_4__30 42'\n",
       "2. 'iamb_4__12 42'\n",
       "3. 'iamb_4__17 55'\n",
       "4. 'iamb_4__28 55'\n",
       "5. 'iamb_4__42 75'\n",
       "6. 'trochee_4__13 66'\n",
       "\n",
       "\n"
      ],
      "text/plain": [
       "[1] \"iamb_4__30 42\"    \"iamb_4__12 42\"    \"iamb_4__17 55\"    \"iamb_4__28 55\"   \n",
       "[5] \"iamb_4__42 75\"    \"trochee_4__13 66\""
      ]
     },
     "metadata": {},
     "output_type": "display_data"
    },
    {
     "data": {
      "text/html": [
       "<style>\n",
       ".list-inline {list-style: none; margin:0; padding: 0}\n",
       ".list-inline>li {display: inline-block}\n",
       ".list-inline>li:not(:last-child)::after {content: \"\\00b7\"; padding: 0 .5ex}\n",
       "</style>\n",
       "<ol class=list-inline><li>'iamb_free__30 42'</li><li>'iamb_4__8 74'</li><li>'iamb_4__24 72'</li><li>'iamb_4__30 74'</li><li>'trochee_4__8 26'</li><li>'iamb_4__8 11'</li></ol>\n"
      ],
      "text/latex": [
       "\\begin{enumerate*}\n",
       "\\item 'iamb\\_free\\_\\_30 42'\n",
       "\\item 'iamb\\_4\\_\\_8 74'\n",
       "\\item 'iamb\\_4\\_\\_24 72'\n",
       "\\item 'iamb\\_4\\_\\_30 74'\n",
       "\\item 'trochee\\_4\\_\\_8 26'\n",
       "\\item 'iamb\\_4\\_\\_8 11'\n",
       "\\end{enumerate*}\n"
      ],
      "text/markdown": [
       "1. 'iamb_free__30 42'\n",
       "2. 'iamb_4__8 74'\n",
       "3. 'iamb_4__24 72'\n",
       "4. 'iamb_4__30 74'\n",
       "5. 'trochee_4__8 26'\n",
       "6. 'iamb_4__8 11'\n",
       "\n",
       "\n"
      ],
      "text/plain": [
       "[1] \"iamb_free__30 42\" \"iamb_4__8 74\"     \"iamb_4__24 72\"    \"iamb_4__30 74\"   \n",
       "[5] \"trochee_4__8 26\"  \"iamb_4__8 11\"    "
      ]
     },
     "metadata": {},
     "output_type": "display_data"
    },
    {
     "name": "stdout",
     "output_type": "stream",
     "text": [
      "[1] \"Intersection between built edges:\"\n"
     ]
    },
    {
     "data": {
      "text/html": [
       "<style>\n",
       ".list-inline {list-style: none; margin:0; padding: 0}\n",
       ".list-inline>li {display: inline-block}\n",
       ".list-inline>li:not(:last-child)::after {content: \"\\00b7\"; padding: 0 .5ex}\n",
       "</style>\n",
       "<ol class=list-inline><li>'iamb_4__30 42'</li><li>'iamb_4__12 42'</li><li>'iamb_4__10 27'</li><li>'iamb_4__12 55'</li><li>'iamb_4__21 24'</li><li>'iamb_4__27 54'</li></ol>\n"
      ],
      "text/latex": [
       "\\begin{enumerate*}\n",
       "\\item 'iamb\\_4\\_\\_30 42'\n",
       "\\item 'iamb\\_4\\_\\_12 42'\n",
       "\\item 'iamb\\_4\\_\\_10 27'\n",
       "\\item 'iamb\\_4\\_\\_12 55'\n",
       "\\item 'iamb\\_4\\_\\_21 24'\n",
       "\\item 'iamb\\_4\\_\\_27 54'\n",
       "\\end{enumerate*}\n"
      ],
      "text/markdown": [
       "1. 'iamb_4__30 42'\n",
       "2. 'iamb_4__12 42'\n",
       "3. 'iamb_4__10 27'\n",
       "4. 'iamb_4__12 55'\n",
       "5. 'iamb_4__21 24'\n",
       "6. 'iamb_4__27 54'\n",
       "\n",
       "\n"
      ],
      "text/plain": [
       "[1] \"iamb_4__30 42\" \"iamb_4__12 42\" \"iamb_4__10 27\" \"iamb_4__12 55\"\n",
       "[5] \"iamb_4__21 24\" \"iamb_4__27 54\""
      ]
     },
     "metadata": {},
     "output_type": "display_data"
    }
   ],
   "source": [
    "edges_rnc <- links_1830 %>% \n",
    "    mutate(meter_edge = paste0(meter, \"__\", edge_id)) %>% \n",
    "    filter(corpus == \"N\") %>% \n",
    "    pull(meter_edge)\n",
    "\n",
    "edges_per <- links_1830 |> \n",
    "    mutate(meter_edge = paste0(meter, \"__\", edge_id)) %>% \n",
    "    filter(corpus == \"P\") %>% \n",
    "    pull(meter_edge)\n",
    "\n",
    "head(edges_rnc)\n",
    "head(edges_per)\n",
    "\n",
    "edges_intersection <- intersect(edges_rnc, edges_per)\n",
    "print(\"Intersection between built edges:\")\n",
    "head(edges_intersection)"
   ]
  },
  {
   "cell_type": "code",
   "execution_count": 10,
   "id": "5bf8099c",
   "metadata": {},
   "outputs": [
    {
     "data": {
      "text/html": [
       "<table class=\"dataframe\">\n",
       "<caption>A tibble: 6 × 8</caption>\n",
       "<thead>\n",
       "\t<tr><th scope=col>source</th><th scope=col>target</th><th scope=col>n</th><th scope=col>meter</th><th scope=col>corpus</th><th scope=col>group</th><th scope=col>width</th><th scope=col>corpus_fullname</th></tr>\n",
       "\t<tr><th scope=col>&lt;chr&gt;</th><th scope=col>&lt;chr&gt;</th><th scope=col>&lt;int&gt;</th><th scope=col>&lt;chr&gt;</th><th scope=col>&lt;chr&gt;</th><th scope=col>&lt;chr&gt;</th><th scope=col>&lt;dbl&gt;</th><th scope=col>&lt;chr&gt;</th></tr>\n",
       "</thead>\n",
       "<tbody>\n",
       "\t<tr><td>30_небо земля мир земной небесный</td><td>42_душа мечта поэт живой восторг</td><td>10</td><td>iamb_free</td><td>P</td><td>Unique edge </td><td>1.0</td><td>Periodicals</td></tr>\n",
       "\t<tr><td>8_звезда небо луна ночь луч      </td><td>74_луч солнце небо заря блистать</td><td> 9</td><td>iamb_4   </td><td>P</td><td>Unique edge </td><td>0.9</td><td>Periodicals</td></tr>\n",
       "\t<tr><td>30_небо земля мир земной небесный</td><td>42_душа мечта поэт живой восторг</td><td> 8</td><td>iamb_4   </td><td>N</td><td>Both corpora</td><td>0.8</td><td>RNC        </td></tr>\n",
       "\t<tr><td>24_вода луг тень ручей роща      </td><td>72_гора лес скала дикий стоять  </td><td> 8</td><td>iamb_4   </td><td>P</td><td>Both corpora</td><td>0.8</td><td>Periodicals</td></tr>\n",
       "\t<tr><td>30_небо земля мир земной небесный</td><td>74_луч солнце небо заря блистать</td><td> 8</td><td>iamb_4   </td><td>P</td><td>Unique edge </td><td>0.8</td><td>Periodicals</td></tr>\n",
       "\t<tr><td>8_звезда небо луна ночь луч      </td><td>26_волна море берег вода брег   </td><td> 8</td><td>trochee_4</td><td>P</td><td>Both corpora</td><td>0.8</td><td>Periodicals</td></tr>\n",
       "</tbody>\n",
       "</table>\n"
      ],
      "text/latex": [
       "A tibble: 6 × 8\n",
       "\\begin{tabular}{llllllll}\n",
       " source & target & n & meter & corpus & group & width & corpus\\_fullname\\\\\n",
       " <chr> & <chr> & <int> & <chr> & <chr> & <chr> & <dbl> & <chr>\\\\\n",
       "\\hline\n",
       "\t 30\\_небо земля мир земной небесный & 42\\_душа мечта поэт живой восторг & 10 & iamb\\_free & P & Unique edge  & 1.0 & Periodicals\\\\\n",
       "\t 8\\_звезда небо луна ночь луч       & 74\\_луч солнце небо заря блистать &  9 & iamb\\_4    & P & Unique edge  & 0.9 & Periodicals\\\\\n",
       "\t 30\\_небо земля мир земной небесный & 42\\_душа мечта поэт живой восторг &  8 & iamb\\_4    & N & Both corpora & 0.8 & RNC        \\\\\n",
       "\t 24\\_вода луг тень ручей роща       & 72\\_гора лес скала дикий стоять   &  8 & iamb\\_4    & P & Both corpora & 0.8 & Periodicals\\\\\n",
       "\t 30\\_небо земля мир земной небесный & 74\\_луч солнце небо заря блистать &  8 & iamb\\_4    & P & Unique edge  & 0.8 & Periodicals\\\\\n",
       "\t 8\\_звезда небо луна ночь луч       & 26\\_волна море берег вода брег    &  8 & trochee\\_4 & P & Both corpora & 0.8 & Periodicals\\\\\n",
       "\\end{tabular}\n"
      ],
      "text/markdown": [
       "\n",
       "A tibble: 6 × 8\n",
       "\n",
       "| source &lt;chr&gt; | target &lt;chr&gt; | n &lt;int&gt; | meter &lt;chr&gt; | corpus &lt;chr&gt; | group &lt;chr&gt; | width &lt;dbl&gt; | corpus_fullname &lt;chr&gt; |\n",
       "|---|---|---|---|---|---|---|---|\n",
       "| 30_небо земля мир земной небесный | 42_душа мечта поэт живой восторг | 10 | iamb_free | P | Unique edge  | 1.0 | Periodicals |\n",
       "| 8_звезда небо луна ночь луч       | 74_луч солнце небо заря блистать |  9 | iamb_4    | P | Unique edge  | 0.9 | Periodicals |\n",
       "| 30_небо земля мир земной небесный | 42_душа мечта поэт живой восторг |  8 | iamb_4    | N | Both corpora | 0.8 | RNC         |\n",
       "| 24_вода луг тень ручей роща       | 72_гора лес скала дикий стоять   |  8 | iamb_4    | P | Both corpora | 0.8 | Periodicals |\n",
       "| 30_небо земля мир земной небесный | 74_луч солнце небо заря блистать |  8 | iamb_4    | P | Unique edge  | 0.8 | Periodicals |\n",
       "| 8_звезда небо луна ночь луч       | 26_волна море берег вода брег    |  8 | trochee_4 | P | Both corpora | 0.8 | Periodicals |\n",
       "\n"
      ],
      "text/plain": [
       "  source                            target                           n \n",
       "1 30_небо земля мир земной небесный 42_душа мечта поэт живой восторг 10\n",
       "2 8_звезда небо луна ночь луч       74_луч солнце небо заря блистать  9\n",
       "3 30_небо земля мир земной небесный 42_душа мечта поэт живой восторг  8\n",
       "4 24_вода луг тень ручей роща       72_гора лес скала дикий стоять    8\n",
       "5 30_небо земля мир земной небесный 74_луч солнце небо заря блистать  8\n",
       "6 8_звезда небо луна ночь луч       26_волна море берег вода брег     8\n",
       "  meter     corpus group        width corpus_fullname\n",
       "1 iamb_free P      Unique edge  1.0   Periodicals    \n",
       "2 iamb_4    P      Unique edge  0.9   Periodicals    \n",
       "3 iamb_4    N      Both corpora 0.8   RNC            \n",
       "4 iamb_4    P      Both corpora 0.8   Periodicals    \n",
       "5 iamb_4    P      Unique edge  0.8   Periodicals    \n",
       "6 trochee_4 P      Both corpora 0.8   Periodicals    "
      ]
     },
     "metadata": {},
     "output_type": "display_data"
    },
    {
     "data": {
      "text/html": [
       "<table class=\"dataframe\">\n",
       "<caption>A tibble: 6 × 2</caption>\n",
       "<thead>\n",
       "\t<tr><th scope=col>source</th><th scope=col>idn</th></tr>\n",
       "\t<tr><th scope=col>&lt;chr&gt;</th><th scope=col>&lt;dbl&gt;</th></tr>\n",
       "</thead>\n",
       "<tbody>\n",
       "\t<tr><td>42_душа мечта поэт живой восторг    </td><td>42</td></tr>\n",
       "\t<tr><td>74_луч солнце небо заря блистать    </td><td>74</td></tr>\n",
       "\t<tr><td>72_гора лес скала дикий стоять      </td><td>72</td></tr>\n",
       "\t<tr><td>26_волна море берег вода брег       </td><td>26</td></tr>\n",
       "\t<tr><td>55_душа жизнь страсть страдание мука</td><td>55</td></tr>\n",
       "\t<tr><td>75_сердце душа любовь дар радость   </td><td>75</td></tr>\n",
       "</tbody>\n",
       "</table>\n"
      ],
      "text/latex": [
       "A tibble: 6 × 2\n",
       "\\begin{tabular}{ll}\n",
       " source & idn\\\\\n",
       " <chr> & <dbl>\\\\\n",
       "\\hline\n",
       "\t 42\\_душа мечта поэт живой восторг     & 42\\\\\n",
       "\t 74\\_луч солнце небо заря блистать     & 74\\\\\n",
       "\t 72\\_гора лес скала дикий стоять       & 72\\\\\n",
       "\t 26\\_волна море берег вода брег        & 26\\\\\n",
       "\t 55\\_душа жизнь страсть страдание мука & 55\\\\\n",
       "\t 75\\_сердце душа любовь дар радость    & 75\\\\\n",
       "\\end{tabular}\n"
      ],
      "text/markdown": [
       "\n",
       "A tibble: 6 × 2\n",
       "\n",
       "| source &lt;chr&gt; | idn &lt;dbl&gt; |\n",
       "|---|---|\n",
       "| 42_душа мечта поэт живой восторг     | 42 |\n",
       "| 74_луч солнце небо заря блистать     | 74 |\n",
       "| 72_гора лес скала дикий стоять       | 72 |\n",
       "| 26_волна море берег вода брег        | 26 |\n",
       "| 55_душа жизнь страсть страдание мука | 55 |\n",
       "| 75_сердце душа любовь дар радость    | 75 |\n",
       "\n"
      ],
      "text/plain": [
       "  source                               idn\n",
       "1 42_душа мечта поэт живой восторг     42 \n",
       "2 74_луч солнце небо заря блистать     74 \n",
       "3 72_гора лес скала дикий стоять       72 \n",
       "4 26_волна море берег вода брег        26 \n",
       "5 55_душа жизнь страсть страдание мука 55 \n",
       "6 75_сердце душа любовь дар радость    75 "
      ]
     },
     "metadata": {},
     "output_type": "display_data"
    },
    {
     "data": {
      "text/html": [
       "73"
      ],
      "text/latex": [
       "73"
      ],
      "text/markdown": [
       "73"
      ],
      "text/plain": [
       "[1] 73"
      ]
     },
     "metadata": {},
     "output_type": "display_data"
    }
   ],
   "source": [
    "edgelist <- links_1830 %>% \n",
    "    mutate(meter_edge = paste0(meter, \"__\", edge_id),\n",
    "           # create a column indicating if an edge is present in both corpora\n",
    "          group = ifelse(meter_edge %in% edges_intersection, \"Both corpora\", \"Unique edge\")) %>% \n",
    "    select(source, target, n, meter, corpus, group) %>% \n",
    "    mutate(width = n/10,\n",
    "          corpus_fullname = ifelse(corpus == \"P\", \"Periodicals\", \"RNC\"))\n",
    "\n",
    "nodelist <- tibble(source = unique(c(links_1830$target, \n",
    "                                     links_1830$source))) %>% \n",
    "  mutate(idn = as.numeric(str_replace(source, \"^([0-9].*?)_.*\", \"\\\\1\"))) \n",
    "\n",
    "head(edgelist)\n",
    "head(nodelist) \n",
    "nrow(nodelist)"
   ]
  },
  {
   "cell_type": "markdown",
   "id": "7d678a3f",
   "metadata": {},
   "source": [
    "## Networks visualisations"
   ]
  },
  {
   "cell_type": "markdown",
   "id": "d17bc741",
   "metadata": {},
   "source": [
    "### Create network"
   ]
  },
  {
   "cell_type": "code",
   "execution_count": 11,
   "id": "3bca5bc1",
   "metadata": {},
   "outputs": [
    {
     "data": {
      "text/plain": [
       "IGRAPH fd23e8c UN-- 73 638 -- \n",
       "+ attr: name (v/c), idn (v/n), n (e/n), meter (e/c), corpus (e/c),\n",
       "| group (e/c), width (e/n), corpus_fullname (e/c)\n",
       "+ edges from fd23e8c (vertex names):\n",
       "[1] 42_душа мечта поэт живой восторг--30_небо земля мир земной небесный     \n",
       "[2] 74_луч солнце небо заря блистать--8_звезда небо луна ночь луч           \n",
       "[3] 42_душа мечта поэт живой восторг--30_небо земля мир земной небесный     \n",
       "[4] 72_гора лес скала дикий стоять  --24_вода луг тень ручей роща           \n",
       "[5] 74_луч солнце небо заря блистать--30_небо земля мир земной небесный     \n",
       "[6] 26_волна море берег вода брег   --8_звезда небо луна ночь луч           \n",
       "[7] 42_душа мечта поэт живой восторг--12_любовь сердце страсть кровь чувство\n",
       "+ ... omitted several edges"
      ]
     },
     "metadata": {},
     "output_type": "display_data"
    }
   ],
   "source": [
    "net1830 <- graph_from_data_frame(d = edgelist, vertices = nodelist, directed = F)\n",
    "net1830"
   ]
  },
  {
   "cell_type": "markdown",
   "id": "217bdc5c",
   "metadata": {},
   "source": [
    "### networks viz"
   ]
  },
  {
   "cell_type": "code",
   "execution_count": 12,
   "id": "aee4c886",
   "metadata": {},
   "outputs": [],
   "source": [
    "# function for network visualisation\n",
    "\n",
    "# taken as input net, meter as a string & colour palette value\n",
    "\n",
    "network <- function(network, meter_value, palette_v) {\n",
    "  ggraph(network, layout = \"kk\") +\n",
    "    # one layer for edges which are unique for each corpus (RNC or Periodicals)\n",
    "    geom_edge_fan(aes(color = group,\n",
    "                      filter = meter %in% c(meter_value) & group == \"Unique edge\", \n",
    "                      width = n), \n",
    "                      alpha = 0.4) +\n",
    "    \n",
    "    # second layer for intersected edges\n",
    "    geom_edge_fan(aes(color = group,\n",
    "                      filter = meter %in% c(meter_value) & group == \"Both corpora\", \n",
    "                      width = n), \n",
    "                      alpha = 1) +\n",
    "    \n",
    "    geom_node_point() +\n",
    "    #geom_node_text(aes(label=idn), \n",
    "    #               hjust=0.1, \n",
    "    #               vjust=-0.4, \n",
    "    #               size=3, \n",
    "    #               color=\"grey50\") +\n",
    "    theme_void() + \n",
    "    theme(strip.text = element_text(size = 18)) +\n",
    "    facet_wrap(~corpus_fullname, \n",
    "               scales=\"free_x\", \n",
    "               drop=T,\n",
    "               ncol = 2) + \n",
    "    scale_edge_color_manual(values = palette_v) + \n",
    "    #labs(title = meter_value) + \n",
    "    theme(legend.position = \"None\")\n",
    "}"
   ]
  },
  {
   "cell_type": "code",
   "execution_count": 13,
   "id": "427dbbe9",
   "metadata": {},
   "outputs": [
    {
     "name": "stderr",
     "output_type": "stream",
     "text": [
      "Warning message:\n",
      "“\u001b[1m\u001b[22mUsing the `size` aesthetic in this geom was deprecated in ggplot2 3.4.0.\n",
      "\u001b[36mℹ\u001b[39m Please use `linewidth` in the `default_aes` field and elsewhere instead.”\n"
     ]
    },
    {
     "data": {
      "image/png": "[encoded data removed]",
      "text/plain": [
       "plot without title"
      ]
     },
     "metadata": {
      "image/png": {
       "height": 420,
       "width": 420
      }
     },
     "output_type": "display_data"
    }
   ],
   "source": [
    "network(net1830, \"iamb_4\", c(wes_palette(\"Darjeeling1\")[2], wes_palette(\"Royal1\")[1]))"
   ]
  },
  {
   "cell_type": "markdown",
   "id": "64153208",
   "metadata": {},
   "source": [
    "### Analysis"
   ]
  },
  {
   "cell_type": "markdown",
   "id": "79be735e",
   "metadata": {},
   "source": [
    "Degree and betweenness"
   ]
  },
  {
   "cell_type": "code",
   "execution_count": 14,
   "id": "ddfa8fb7",
   "metadata": {},
   "outputs": [],
   "source": [
    "degree_betweenness <- function(formula, subcorpus) {\n",
    "    # create network for selected meter\n",
    "    net_temp <- graph_from_data_frame(d=edgelist %>% \n",
    "                                          filter(meter == formula, corpus == subcorpus),\n",
    "                                      vertices = nodelist,\n",
    "                                      directed = F)\n",
    "\n",
    "    ## betweenness\n",
    "    # extract betweenness stats\n",
    "    betw <- igraph::betweenness(net_temp)\n",
    "\n",
    "    # named vector to tibble\n",
    "    # str(betw)\n",
    "    betw_tib <- as_tibble(as.list(betw)) %>% \n",
    "      mutate(x = \"x\") %>% \n",
    "      pivot_longer(!x, names_to = \"source\", values_to = \"betw_meter\") %>% \n",
    "      select(-x)\n",
    "\n",
    "    # attach betweenness values to nodelist\n",
    "    nodelist_temp <- inner_join(nodelist, betw_tib, by = \"source\") %>% \n",
    "        mutate(meter = formula)\n",
    "\n",
    "    ## degree\n",
    "    # extract degree values\n",
    "    deg <- igraph::degree(net_temp, mode=\"all\")\n",
    "\n",
    "    degree_tib <- as_tibble(as.list(deg)) %>% \n",
    "      mutate(x = \"x\") %>% \n",
    "      pivot_longer(!x, names_to = \"source\", values_to = \"degree_meter\") %>% \n",
    "      select(-x)\n",
    "\n",
    "    # attach degree to nodelist\n",
    "    nodelist_result <- inner_join(nodelist_temp, degree_tib, by = \"source\")\n",
    "\n",
    "    nodelist_result\n",
    "}"
   ]
  },
  {
   "cell_type": "code",
   "execution_count": 15,
   "id": "47f766de",
   "metadata": {},
   "outputs": [
    {
     "name": "stdout",
     "output_type": "stream",
     "text": [
      "[1] \"Top-10 nodes by degree\"\n",
      "[1] \"Periodicals\"\n"
     ]
    },
    {
     "data": {
      "text/html": [
       "<table class=\"dataframe\">\n",
       "<caption>A tibble: 10 × 5</caption>\n",
       "<thead>\n",
       "\t<tr><th scope=col>source</th><th scope=col>idn</th><th scope=col>betw_meter</th><th scope=col>meter</th><th scope=col>degree_meter</th></tr>\n",
       "\t<tr><th scope=col>&lt;chr&gt;</th><th scope=col>&lt;dbl&gt;</th><th scope=col>&lt;dbl&gt;</th><th scope=col>&lt;chr&gt;</th><th scope=col>&lt;dbl&gt;</th></tr>\n",
       "</thead>\n",
       "<tbody>\n",
       "\t<tr><td>8_звезда небо луна ночь луч         </td><td> 8</td><td>385.19520</td><td>iamb_4</td><td>28</td></tr>\n",
       "\t<tr><td>42_душа мечта поэт живой восторг    </td><td>42</td><td>289.65401</td><td>iamb_4</td><td>21</td></tr>\n",
       "\t<tr><td>74_луч солнце небо заря блистать    </td><td>74</td><td> 98.75843</td><td>iamb_4</td><td>18</td></tr>\n",
       "\t<tr><td>55_душа жизнь страсть страдание мука</td><td>55</td><td>162.50424</td><td>iamb_4</td><td>15</td></tr>\n",
       "\t<tr><td>65_край страна родной чужой далекий </td><td>65</td><td>155.74455</td><td>iamb_4</td><td>14</td></tr>\n",
       "\t<tr><td>30_небо земля мир земной небесный   </td><td>30</td><td>136.98553</td><td>iamb_4</td><td>13</td></tr>\n",
       "\t<tr><td>34_слеза сердце плакать тоска печаль</td><td>34</td><td>120.61528</td><td>iamb_4</td><td>13</td></tr>\n",
       "\t<tr><td>54_жизнь радость надежда день мечта </td><td>54</td><td> 51.04183</td><td>iamb_4</td><td>12</td></tr>\n",
       "\t<tr><td>27_сердце дума душа тоска полный    </td><td>27</td><td> 24.20361</td><td>iamb_4</td><td>11</td></tr>\n",
       "\t<tr><td>10_пора день память помнить забывать</td><td>10</td><td> 45.21718</td><td>iamb_4</td><td>11</td></tr>\n",
       "</tbody>\n",
       "</table>\n"
      ],
      "text/latex": [
       "A tibble: 10 × 5\n",
       "\\begin{tabular}{lllll}\n",
       " source & idn & betw\\_meter & meter & degree\\_meter\\\\\n",
       " <chr> & <dbl> & <dbl> & <chr> & <dbl>\\\\\n",
       "\\hline\n",
       "\t 8\\_звезда небо луна ночь луч          &  8 & 385.19520 & iamb\\_4 & 28\\\\\n",
       "\t 42\\_душа мечта поэт живой восторг     & 42 & 289.65401 & iamb\\_4 & 21\\\\\n",
       "\t 74\\_луч солнце небо заря блистать     & 74 &  98.75843 & iamb\\_4 & 18\\\\\n",
       "\t 55\\_душа жизнь страсть страдание мука & 55 & 162.50424 & iamb\\_4 & 15\\\\\n",
       "\t 65\\_край страна родной чужой далекий  & 65 & 155.74455 & iamb\\_4 & 14\\\\\n",
       "\t 30\\_небо земля мир земной небесный    & 30 & 136.98553 & iamb\\_4 & 13\\\\\n",
       "\t 34\\_слеза сердце плакать тоска печаль & 34 & 120.61528 & iamb\\_4 & 13\\\\\n",
       "\t 54\\_жизнь радость надежда день мечта  & 54 &  51.04183 & iamb\\_4 & 12\\\\\n",
       "\t 27\\_сердце дума душа тоска полный     & 27 &  24.20361 & iamb\\_4 & 11\\\\\n",
       "\t 10\\_пора день память помнить забывать & 10 &  45.21718 & iamb\\_4 & 11\\\\\n",
       "\\end{tabular}\n"
      ],
      "text/markdown": [
       "\n",
       "A tibble: 10 × 5\n",
       "\n",
       "| source &lt;chr&gt; | idn &lt;dbl&gt; | betw_meter &lt;dbl&gt; | meter &lt;chr&gt; | degree_meter &lt;dbl&gt; |\n",
       "|---|---|---|---|---|\n",
       "| 8_звезда небо луна ночь луч          |  8 | 385.19520 | iamb_4 | 28 |\n",
       "| 42_душа мечта поэт живой восторг     | 42 | 289.65401 | iamb_4 | 21 |\n",
       "| 74_луч солнце небо заря блистать     | 74 |  98.75843 | iamb_4 | 18 |\n",
       "| 55_душа жизнь страсть страдание мука | 55 | 162.50424 | iamb_4 | 15 |\n",
       "| 65_край страна родной чужой далекий  | 65 | 155.74455 | iamb_4 | 14 |\n",
       "| 30_небо земля мир земной небесный    | 30 | 136.98553 | iamb_4 | 13 |\n",
       "| 34_слеза сердце плакать тоска печаль | 34 | 120.61528 | iamb_4 | 13 |\n",
       "| 54_жизнь радость надежда день мечта  | 54 |  51.04183 | iamb_4 | 12 |\n",
       "| 27_сердце дума душа тоска полный     | 27 |  24.20361 | iamb_4 | 11 |\n",
       "| 10_пора день память помнить забывать | 10 |  45.21718 | iamb_4 | 11 |\n",
       "\n"
      ],
      "text/plain": [
       "   source                               idn betw_meter meter  degree_meter\n",
       "1  8_звезда небо луна ночь луч           8  385.19520  iamb_4 28          \n",
       "2  42_душа мечта поэт живой восторг     42  289.65401  iamb_4 21          \n",
       "3  74_луч солнце небо заря блистать     74   98.75843  iamb_4 18          \n",
       "4  55_душа жизнь страсть страдание мука 55  162.50424  iamb_4 15          \n",
       "5  65_край страна родной чужой далекий  65  155.74455  iamb_4 14          \n",
       "6  30_небо земля мир земной небесный    30  136.98553  iamb_4 13          \n",
       "7  34_слеза сердце плакать тоска печаль 34  120.61528  iamb_4 13          \n",
       "8  54_жизнь радость надежда день мечта  54   51.04183  iamb_4 12          \n",
       "9  27_сердце дума душа тоска полный     27   24.20361  iamb_4 11          \n",
       "10 10_пора день память помнить забывать 10   45.21718  iamb_4 11          "
      ]
     },
     "metadata": {},
     "output_type": "display_data"
    },
    {
     "name": "stdout",
     "output_type": "stream",
     "text": [
      "[1] \"RNC\"\n"
     ]
    },
    {
     "data": {
      "text/html": [
       "<table class=\"dataframe\">\n",
       "<caption>A tibble: 10 × 5</caption>\n",
       "<thead>\n",
       "\t<tr><th scope=col>source</th><th scope=col>idn</th><th scope=col>betw_meter</th><th scope=col>meter</th><th scope=col>degree_meter</th></tr>\n",
       "\t<tr><th scope=col>&lt;chr&gt;</th><th scope=col>&lt;dbl&gt;</th><th scope=col>&lt;dbl&gt;</th><th scope=col>&lt;chr&gt;</th><th scope=col>&lt;dbl&gt;</th></tr>\n",
       "</thead>\n",
       "<tbody>\n",
       "\t<tr><td>55_душа жизнь страсть страдание мука  </td><td>55</td><td>395.30791</td><td>iamb_4</td><td>25</td></tr>\n",
       "\t<tr><td>42_душа мечта поэт живой восторг      </td><td>42</td><td>332.08433</td><td>iamb_4</td><td>22</td></tr>\n",
       "\t<tr><td>27_сердце дума душа тоска полный      </td><td>27</td><td>181.16678</td><td>iamb_4</td><td>20</td></tr>\n",
       "\t<tr><td>49_гроб могила прах земля мертвый     </td><td>49</td><td>140.53739</td><td>iamb_4</td><td>14</td></tr>\n",
       "\t<tr><td>12_любовь сердце страсть кровь чувство</td><td>12</td><td>152.35876</td><td>iamb_4</td><td>13</td></tr>\n",
       "\t<tr><td>10_пора день память помнить забывать  </td><td>10</td><td> 63.97452</td><td>iamb_4</td><td>11</td></tr>\n",
       "\t<tr><td>30_небо земля мир земной небесный     </td><td>30</td><td> 29.06940</td><td>iamb_4</td><td>10</td></tr>\n",
       "\t<tr><td>24_вода луг тень ручей роща           </td><td>24</td><td> 52.10828</td><td>iamb_4</td><td> 9</td></tr>\n",
       "\t<tr><td>50_петь песня звук песнь певец        </td><td>50</td><td> 31.57855</td><td>iamb_4</td><td> 9</td></tr>\n",
       "\t<tr><td>72_гора лес скала дикий стоять        </td><td>72</td><td> 80.12744</td><td>iamb_4</td><td> 8</td></tr>\n",
       "</tbody>\n",
       "</table>\n"
      ],
      "text/latex": [
       "A tibble: 10 × 5\n",
       "\\begin{tabular}{lllll}\n",
       " source & idn & betw\\_meter & meter & degree\\_meter\\\\\n",
       " <chr> & <dbl> & <dbl> & <chr> & <dbl>\\\\\n",
       "\\hline\n",
       "\t 55\\_душа жизнь страсть страдание мука   & 55 & 395.30791 & iamb\\_4 & 25\\\\\n",
       "\t 42\\_душа мечта поэт живой восторг       & 42 & 332.08433 & iamb\\_4 & 22\\\\\n",
       "\t 27\\_сердце дума душа тоска полный       & 27 & 181.16678 & iamb\\_4 & 20\\\\\n",
       "\t 49\\_гроб могила прах земля мертвый      & 49 & 140.53739 & iamb\\_4 & 14\\\\\n",
       "\t 12\\_любовь сердце страсть кровь чувство & 12 & 152.35876 & iamb\\_4 & 13\\\\\n",
       "\t 10\\_пора день память помнить забывать   & 10 &  63.97452 & iamb\\_4 & 11\\\\\n",
       "\t 30\\_небо земля мир земной небесный      & 30 &  29.06940 & iamb\\_4 & 10\\\\\n",
       "\t 24\\_вода луг тень ручей роща            & 24 &  52.10828 & iamb\\_4 &  9\\\\\n",
       "\t 50\\_петь песня звук песнь певец         & 50 &  31.57855 & iamb\\_4 &  9\\\\\n",
       "\t 72\\_гора лес скала дикий стоять         & 72 &  80.12744 & iamb\\_4 &  8\\\\\n",
       "\\end{tabular}\n"
      ],
      "text/markdown": [
       "\n",
       "A tibble: 10 × 5\n",
       "\n",
       "| source &lt;chr&gt; | idn &lt;dbl&gt; | betw_meter &lt;dbl&gt; | meter &lt;chr&gt; | degree_meter &lt;dbl&gt; |\n",
       "|---|---|---|---|---|\n",
       "| 55_душа жизнь страсть страдание мука   | 55 | 395.30791 | iamb_4 | 25 |\n",
       "| 42_душа мечта поэт живой восторг       | 42 | 332.08433 | iamb_4 | 22 |\n",
       "| 27_сердце дума душа тоска полный       | 27 | 181.16678 | iamb_4 | 20 |\n",
       "| 49_гроб могила прах земля мертвый      | 49 | 140.53739 | iamb_4 | 14 |\n",
       "| 12_любовь сердце страсть кровь чувство | 12 | 152.35876 | iamb_4 | 13 |\n",
       "| 10_пора день память помнить забывать   | 10 |  63.97452 | iamb_4 | 11 |\n",
       "| 30_небо земля мир земной небесный      | 30 |  29.06940 | iamb_4 | 10 |\n",
       "| 24_вода луг тень ручей роща            | 24 |  52.10828 | iamb_4 |  9 |\n",
       "| 50_петь песня звук песнь певец         | 50 |  31.57855 | iamb_4 |  9 |\n",
       "| 72_гора лес скала дикий стоять         | 72 |  80.12744 | iamb_4 |  8 |\n",
       "\n"
      ],
      "text/plain": [
       "   source                                 idn betw_meter meter  degree_meter\n",
       "1  55_душа жизнь страсть страдание мука   55  395.30791  iamb_4 25          \n",
       "2  42_душа мечта поэт живой восторг       42  332.08433  iamb_4 22          \n",
       "3  27_сердце дума душа тоска полный       27  181.16678  iamb_4 20          \n",
       "4  49_гроб могила прах земля мертвый      49  140.53739  iamb_4 14          \n",
       "5  12_любовь сердце страсть кровь чувство 12  152.35876  iamb_4 13          \n",
       "6  10_пора день память помнить забывать   10   63.97452  iamb_4 11          \n",
       "7  30_небо земля мир земной небесный      30   29.06940  iamb_4 10          \n",
       "8  24_вода луг тень ручей роща            24   52.10828  iamb_4  9          \n",
       "9  50_петь песня звук песнь певец         50   31.57855  iamb_4  9          \n",
       "10 72_гора лес скала дикий стоять         72   80.12744  iamb_4  8          "
      ]
     },
     "metadata": {},
     "output_type": "display_data"
    }
   ],
   "source": [
    "print(\"Top-10 nodes by degree\")\n",
    "print(\"Periodicals\")\n",
    "degree_betweenness(\"iamb_4\", \"P\") %>% arrange(desc(degree_meter)) %>% head(10)\n",
    "print(\"RNC\")\n",
    "degree_betweenness(\"iamb_4\", \"N\") %>% arrange(desc(degree_meter)) %>% head(10)"
   ]
  },
  {
   "cell_type": "code",
   "execution_count": 16,
   "id": "d9a90777",
   "metadata": {},
   "outputs": [
    {
     "name": "stdout",
     "output_type": "stream",
     "text": [
      "[1] \"Top-10 nodes by degree\"\n",
      "[1] \"Periodicals\"\n"
     ]
    },
    {
     "data": {
      "text/html": [
       "<table class=\"dataframe\">\n",
       "<caption>A tibble: 10 × 5</caption>\n",
       "<thead>\n",
       "\t<tr><th scope=col>source</th><th scope=col>idn</th><th scope=col>betw_meter</th><th scope=col>meter</th><th scope=col>degree_meter</th></tr>\n",
       "\t<tr><th scope=col>&lt;chr&gt;</th><th scope=col>&lt;dbl&gt;</th><th scope=col>&lt;dbl&gt;</th><th scope=col>&lt;chr&gt;</th><th scope=col>&lt;dbl&gt;</th></tr>\n",
       "</thead>\n",
       "<tbody>\n",
       "\t<tr><td>74_луч солнце небо заря блистать </td><td>74</td><td>256.66667</td><td>trochee_4</td><td>10</td></tr>\n",
       "\t<tr><td>26_волна море берег вода брег    </td><td>26</td><td>204.33333</td><td>trochee_4</td><td>10</td></tr>\n",
       "\t<tr><td>30_небо земля мир земной небесный</td><td>30</td><td>121.66667</td><td>trochee_4</td><td> 5</td></tr>\n",
       "\t<tr><td>8_звезда небо луна ночь луч      </td><td> 8</td><td> 92.00000</td><td>trochee_4</td><td> 5</td></tr>\n",
       "\t<tr><td>67_лететь крыло орел птица летать</td><td>67</td><td>185.00000</td><td>trochee_4</td><td> 4</td></tr>\n",
       "\t<tr><td>15_пить вино чаша пир гость      </td><td>15</td><td> 47.00000</td><td>trochee_4</td><td> 4</td></tr>\n",
       "\t<tr><td>11_святой молитва вера храм божий</td><td>11</td><td> 38.66667</td><td>trochee_4</td><td> 3</td></tr>\n",
       "\t<tr><td>24_вода луг тень ручей роща      </td><td>24</td><td>  0.00000</td><td>trochee_4</td><td> 3</td></tr>\n",
       "\t<tr><td>52_грудь уста сладкий нега слеза </td><td>52</td><td> 27.00000</td><td>trochee_4</td><td> 3</td></tr>\n",
       "\t<tr><td>13_меч бой враг герой поле       </td><td>13</td><td> 37.66667</td><td>trochee_4</td><td> 3</td></tr>\n",
       "</tbody>\n",
       "</table>\n"
      ],
      "text/latex": [
       "A tibble: 10 × 5\n",
       "\\begin{tabular}{lllll}\n",
       " source & idn & betw\\_meter & meter & degree\\_meter\\\\\n",
       " <chr> & <dbl> & <dbl> & <chr> & <dbl>\\\\\n",
       "\\hline\n",
       "\t 74\\_луч солнце небо заря блистать  & 74 & 256.66667 & trochee\\_4 & 10\\\\\n",
       "\t 26\\_волна море берег вода брег     & 26 & 204.33333 & trochee\\_4 & 10\\\\\n",
       "\t 30\\_небо земля мир земной небесный & 30 & 121.66667 & trochee\\_4 &  5\\\\\n",
       "\t 8\\_звезда небо луна ночь луч       &  8 &  92.00000 & trochee\\_4 &  5\\\\\n",
       "\t 67\\_лететь крыло орел птица летать & 67 & 185.00000 & trochee\\_4 &  4\\\\\n",
       "\t 15\\_пить вино чаша пир гость       & 15 &  47.00000 & trochee\\_4 &  4\\\\\n",
       "\t 11\\_святой молитва вера храм божий & 11 &  38.66667 & trochee\\_4 &  3\\\\\n",
       "\t 24\\_вода луг тень ручей роща       & 24 &   0.00000 & trochee\\_4 &  3\\\\\n",
       "\t 52\\_грудь уста сладкий нега слеза  & 52 &  27.00000 & trochee\\_4 &  3\\\\\n",
       "\t 13\\_меч бой враг герой поле        & 13 &  37.66667 & trochee\\_4 &  3\\\\\n",
       "\\end{tabular}\n"
      ],
      "text/markdown": [
       "\n",
       "A tibble: 10 × 5\n",
       "\n",
       "| source &lt;chr&gt; | idn &lt;dbl&gt; | betw_meter &lt;dbl&gt; | meter &lt;chr&gt; | degree_meter &lt;dbl&gt; |\n",
       "|---|---|---|---|---|\n",
       "| 74_луч солнце небо заря блистать  | 74 | 256.66667 | trochee_4 | 10 |\n",
       "| 26_волна море берег вода брег     | 26 | 204.33333 | trochee_4 | 10 |\n",
       "| 30_небо земля мир земной небесный | 30 | 121.66667 | trochee_4 |  5 |\n",
       "| 8_звезда небо луна ночь луч       |  8 |  92.00000 | trochee_4 |  5 |\n",
       "| 67_лететь крыло орел птица летать | 67 | 185.00000 | trochee_4 |  4 |\n",
       "| 15_пить вино чаша пир гость       | 15 |  47.00000 | trochee_4 |  4 |\n",
       "| 11_святой молитва вера храм божий | 11 |  38.66667 | trochee_4 |  3 |\n",
       "| 24_вода луг тень ручей роща       | 24 |   0.00000 | trochee_4 |  3 |\n",
       "| 52_грудь уста сладкий нега слеза  | 52 |  27.00000 | trochee_4 |  3 |\n",
       "| 13_меч бой враг герой поле        | 13 |  37.66667 | trochee_4 |  3 |\n",
       "\n"
      ],
      "text/plain": [
       "   source                            idn betw_meter meter     degree_meter\n",
       "1  74_луч солнце небо заря блистать  74  256.66667  trochee_4 10          \n",
       "2  26_волна море берег вода брег     26  204.33333  trochee_4 10          \n",
       "3  30_небо земля мир земной небесный 30  121.66667  trochee_4  5          \n",
       "4  8_звезда небо луна ночь луч        8   92.00000  trochee_4  5          \n",
       "5  67_лететь крыло орел птица летать 67  185.00000  trochee_4  4          \n",
       "6  15_пить вино чаша пир гость       15   47.00000  trochee_4  4          \n",
       "7  11_святой молитва вера храм божий 11   38.66667  trochee_4  3          \n",
       "8  24_вода луг тень ручей роща       24    0.00000  trochee_4  3          \n",
       "9  52_грудь уста сладкий нега слеза  52   27.00000  trochee_4  3          \n",
       "10 13_меч бой враг герой поле        13   37.66667  trochee_4  3          "
      ]
     },
     "metadata": {},
     "output_type": "display_data"
    },
    {
     "name": "stdout",
     "output_type": "stream",
     "text": [
      "[1] \"RNC\"\n"
     ]
    },
    {
     "data": {
      "text/html": [
       "<table class=\"dataframe\">\n",
       "<caption>A tibble: 10 × 5</caption>\n",
       "<thead>\n",
       "\t<tr><th scope=col>source</th><th scope=col>idn</th><th scope=col>betw_meter</th><th scope=col>meter</th><th scope=col>degree_meter</th></tr>\n",
       "\t<tr><th scope=col>&lt;chr&gt;</th><th scope=col>&lt;dbl&gt;</th><th scope=col>&lt;dbl&gt;</th><th scope=col>&lt;chr&gt;</th><th scope=col>&lt;dbl&gt;</th></tr>\n",
       "</thead>\n",
       "<tbody>\n",
       "\t<tr><td>13_меч бой враг герой поле            </td><td>13</td><td>75.16667</td><td>trochee_4</td><td>8</td></tr>\n",
       "\t<tr><td>1_старик девица красный молодой старый</td><td> 1</td><td>43.50000</td><td>trochee_4</td><td>6</td></tr>\n",
       "\t<tr><td>74_луч солнце небо заря блистать      </td><td>74</td><td>80.00000</td><td>trochee_4</td><td>5</td></tr>\n",
       "\t<tr><td>72_гора лес скала дикий стоять        </td><td>72</td><td>76.50000</td><td>trochee_4</td><td>5</td></tr>\n",
       "\t<tr><td>26_волна море берег вода брег         </td><td>26</td><td>77.83333</td><td>trochee_4</td><td>5</td></tr>\n",
       "\t<tr><td>66_буря туча гром небо ветер          </td><td>66</td><td>19.50000</td><td>trochee_4</td><td>5</td></tr>\n",
       "\t<tr><td>8_звезда небо луна ночь луч           </td><td> 8</td><td>78.66667</td><td>trochee_4</td><td>5</td></tr>\n",
       "\t<tr><td>73_конь дорога поле бежать лететь     </td><td>73</td><td> 7.00000</td><td>trochee_4</td><td>4</td></tr>\n",
       "\t<tr><td>4_дева прекрасный краса чистый молодой</td><td> 4</td><td>68.00000</td><td>trochee_4</td><td>4</td></tr>\n",
       "\t<tr><td>53_сон спать ночь просыпаться тишина  </td><td>53</td><td>10.16667</td><td>trochee_4</td><td>3</td></tr>\n",
       "</tbody>\n",
       "</table>\n"
      ],
      "text/latex": [
       "A tibble: 10 × 5\n",
       "\\begin{tabular}{lllll}\n",
       " source & idn & betw\\_meter & meter & degree\\_meter\\\\\n",
       " <chr> & <dbl> & <dbl> & <chr> & <dbl>\\\\\n",
       "\\hline\n",
       "\t 13\\_меч бой враг герой поле             & 13 & 75.16667 & trochee\\_4 & 8\\\\\n",
       "\t 1\\_старик девица красный молодой старый &  1 & 43.50000 & trochee\\_4 & 6\\\\\n",
       "\t 74\\_луч солнце небо заря блистать       & 74 & 80.00000 & trochee\\_4 & 5\\\\\n",
       "\t 72\\_гора лес скала дикий стоять         & 72 & 76.50000 & trochee\\_4 & 5\\\\\n",
       "\t 26\\_волна море берег вода брег          & 26 & 77.83333 & trochee\\_4 & 5\\\\\n",
       "\t 66\\_буря туча гром небо ветер           & 66 & 19.50000 & trochee\\_4 & 5\\\\\n",
       "\t 8\\_звезда небо луна ночь луч            &  8 & 78.66667 & trochee\\_4 & 5\\\\\n",
       "\t 73\\_конь дорога поле бежать лететь      & 73 &  7.00000 & trochee\\_4 & 4\\\\\n",
       "\t 4\\_дева прекрасный краса чистый молодой &  4 & 68.00000 & trochee\\_4 & 4\\\\\n",
       "\t 53\\_сон спать ночь просыпаться тишина   & 53 & 10.16667 & trochee\\_4 & 3\\\\\n",
       "\\end{tabular}\n"
      ],
      "text/markdown": [
       "\n",
       "A tibble: 10 × 5\n",
       "\n",
       "| source &lt;chr&gt; | idn &lt;dbl&gt; | betw_meter &lt;dbl&gt; | meter &lt;chr&gt; | degree_meter &lt;dbl&gt; |\n",
       "|---|---|---|---|---|\n",
       "| 13_меч бой враг герой поле             | 13 | 75.16667 | trochee_4 | 8 |\n",
       "| 1_старик девица красный молодой старый |  1 | 43.50000 | trochee_4 | 6 |\n",
       "| 74_луч солнце небо заря блистать       | 74 | 80.00000 | trochee_4 | 5 |\n",
       "| 72_гора лес скала дикий стоять         | 72 | 76.50000 | trochee_4 | 5 |\n",
       "| 26_волна море берег вода брег          | 26 | 77.83333 | trochee_4 | 5 |\n",
       "| 66_буря туча гром небо ветер           | 66 | 19.50000 | trochee_4 | 5 |\n",
       "| 8_звезда небо луна ночь луч            |  8 | 78.66667 | trochee_4 | 5 |\n",
       "| 73_конь дорога поле бежать лететь      | 73 |  7.00000 | trochee_4 | 4 |\n",
       "| 4_дева прекрасный краса чистый молодой |  4 | 68.00000 | trochee_4 | 4 |\n",
       "| 53_сон спать ночь просыпаться тишина   | 53 | 10.16667 | trochee_4 | 3 |\n",
       "\n"
      ],
      "text/plain": [
       "   source                                 idn betw_meter meter     degree_meter\n",
       "1  13_меч бой враг герой поле             13  75.16667   trochee_4 8           \n",
       "2  1_старик девица красный молодой старый  1  43.50000   trochee_4 6           \n",
       "3  74_луч солнце небо заря блистать       74  80.00000   trochee_4 5           \n",
       "4  72_гора лес скала дикий стоять         72  76.50000   trochee_4 5           \n",
       "5  26_волна море берег вода брег          26  77.83333   trochee_4 5           \n",
       "6  66_буря туча гром небо ветер           66  19.50000   trochee_4 5           \n",
       "7  8_звезда небо луна ночь луч             8  78.66667   trochee_4 5           \n",
       "8  73_конь дорога поле бежать лететь      73   7.00000   trochee_4 4           \n",
       "9  4_дева прекрасный краса чистый молодой  4  68.00000   trochee_4 4           \n",
       "10 53_сон спать ночь просыпаться тишина   53  10.16667   trochee_4 3           "
      ]
     },
     "metadata": {},
     "output_type": "display_data"
    }
   ],
   "source": [
    "print(\"Top-10 nodes by degree\")\n",
    "print(\"Periodicals\")\n",
    "degree_betweenness(\"trochee_4\", \"P\") %>% arrange(desc(degree_meter)) %>% head(10)\n",
    "print(\"RNC\")\n",
    "degree_betweenness(\"trochee_4\", \"N\") %>% arrange(desc(degree_meter)) %>% head(10)"
   ]
  },
  {
   "cell_type": "code",
   "execution_count": 17,
   "id": "85c734b3",
   "metadata": {},
   "outputs": [
    {
     "name": "stdout",
     "output_type": "stream",
     "text": [
      "[1] \"Top-10 nodes by degree\"\n",
      "[1] \"Periodicals\"\n"
     ]
    },
    {
     "data": {
      "text/html": [
       "<table class=\"dataframe\">\n",
       "<caption>A tibble: 10 × 5</caption>\n",
       "<thead>\n",
       "\t<tr><th scope=col>source</th><th scope=col>idn</th><th scope=col>betw_meter</th><th scope=col>meter</th><th scope=col>degree_meter</th></tr>\n",
       "\t<tr><th scope=col>&lt;chr&gt;</th><th scope=col>&lt;dbl&gt;</th><th scope=col>&lt;dbl&gt;</th><th scope=col>&lt;chr&gt;</th><th scope=col>&lt;dbl&gt;</th></tr>\n",
       "</thead>\n",
       "<tbody>\n",
       "\t<tr><td>55_душа жизнь страсть страдание мука  </td><td>55</td><td>38</td><td>iamb_6</td><td>7</td></tr>\n",
       "\t<tr><td>11_святой молитва вера храм божий     </td><td>11</td><td>16</td><td>iamb_6</td><td>3</td></tr>\n",
       "\t<tr><td>42_душа мечта поэт живой восторг      </td><td>42</td><td> 9</td><td>iamb_6</td><td>2</td></tr>\n",
       "\t<tr><td>54_жизнь радость надежда день мечта   </td><td>54</td><td> 9</td><td>iamb_6</td><td>2</td></tr>\n",
       "\t<tr><td>12_любовь сердце страсть кровь чувство</td><td>12</td><td> 0</td><td>iamb_6</td><td>2</td></tr>\n",
       "\t<tr><td>27_сердце дума душа тоска полный      </td><td>27</td><td> 0</td><td>iamb_6</td><td>1</td></tr>\n",
       "\t<tr><td>49_гроб могила прах земля мертвый     </td><td>49</td><td> 0</td><td>iamb_6</td><td>1</td></tr>\n",
       "\t<tr><td>31_враг смерть страшный ужасный кровь </td><td>31</td><td> 0</td><td>iamb_6</td><td>1</td></tr>\n",
       "\t<tr><td>53_сон спать ночь просыпаться тишина  </td><td>53</td><td> 0</td><td>iamb_6</td><td>1</td></tr>\n",
       "\t<tr><td>34_слеза сердце плакать тоска печаль  </td><td>34</td><td> 0</td><td>iamb_6</td><td>1</td></tr>\n",
       "</tbody>\n",
       "</table>\n"
      ],
      "text/latex": [
       "A tibble: 10 × 5\n",
       "\\begin{tabular}{lllll}\n",
       " source & idn & betw\\_meter & meter & degree\\_meter\\\\\n",
       " <chr> & <dbl> & <dbl> & <chr> & <dbl>\\\\\n",
       "\\hline\n",
       "\t 55\\_душа жизнь страсть страдание мука   & 55 & 38 & iamb\\_6 & 7\\\\\n",
       "\t 11\\_святой молитва вера храм божий      & 11 & 16 & iamb\\_6 & 3\\\\\n",
       "\t 42\\_душа мечта поэт живой восторг       & 42 &  9 & iamb\\_6 & 2\\\\\n",
       "\t 54\\_жизнь радость надежда день мечта    & 54 &  9 & iamb\\_6 & 2\\\\\n",
       "\t 12\\_любовь сердце страсть кровь чувство & 12 &  0 & iamb\\_6 & 2\\\\\n",
       "\t 27\\_сердце дума душа тоска полный       & 27 &  0 & iamb\\_6 & 1\\\\\n",
       "\t 49\\_гроб могила прах земля мертвый      & 49 &  0 & iamb\\_6 & 1\\\\\n",
       "\t 31\\_враг смерть страшный ужасный кровь  & 31 &  0 & iamb\\_6 & 1\\\\\n",
       "\t 53\\_сон спать ночь просыпаться тишина   & 53 &  0 & iamb\\_6 & 1\\\\\n",
       "\t 34\\_слеза сердце плакать тоска печаль   & 34 &  0 & iamb\\_6 & 1\\\\\n",
       "\\end{tabular}\n"
      ],
      "text/markdown": [
       "\n",
       "A tibble: 10 × 5\n",
       "\n",
       "| source &lt;chr&gt; | idn &lt;dbl&gt; | betw_meter &lt;dbl&gt; | meter &lt;chr&gt; | degree_meter &lt;dbl&gt; |\n",
       "|---|---|---|---|---|\n",
       "| 55_душа жизнь страсть страдание мука   | 55 | 38 | iamb_6 | 7 |\n",
       "| 11_святой молитва вера храм божий      | 11 | 16 | iamb_6 | 3 |\n",
       "| 42_душа мечта поэт живой восторг       | 42 |  9 | iamb_6 | 2 |\n",
       "| 54_жизнь радость надежда день мечта    | 54 |  9 | iamb_6 | 2 |\n",
       "| 12_любовь сердце страсть кровь чувство | 12 |  0 | iamb_6 | 2 |\n",
       "| 27_сердце дума душа тоска полный       | 27 |  0 | iamb_6 | 1 |\n",
       "| 49_гроб могила прах земля мертвый      | 49 |  0 | iamb_6 | 1 |\n",
       "| 31_враг смерть страшный ужасный кровь  | 31 |  0 | iamb_6 | 1 |\n",
       "| 53_сон спать ночь просыпаться тишина   | 53 |  0 | iamb_6 | 1 |\n",
       "| 34_слеза сердце плакать тоска печаль   | 34 |  0 | iamb_6 | 1 |\n",
       "\n"
      ],
      "text/plain": [
       "   source                                 idn betw_meter meter  degree_meter\n",
       "1  55_душа жизнь страсть страдание мука   55  38         iamb_6 7           \n",
       "2  11_святой молитва вера храм божий      11  16         iamb_6 3           \n",
       "3  42_душа мечта поэт живой восторг       42   9         iamb_6 2           \n",
       "4  54_жизнь радость надежда день мечта    54   9         iamb_6 2           \n",
       "5  12_любовь сердце страсть кровь чувство 12   0         iamb_6 2           \n",
       "6  27_сердце дума душа тоска полный       27   0         iamb_6 1           \n",
       "7  49_гроб могила прах земля мертвый      49   0         iamb_6 1           \n",
       "8  31_враг смерть страшный ужасный кровь  31   0         iamb_6 1           \n",
       "9  53_сон спать ночь просыпаться тишина   53   0         iamb_6 1           \n",
       "10 34_слеза сердце плакать тоска печаль   34   0         iamb_6 1           "
      ]
     },
     "metadata": {},
     "output_type": "display_data"
    },
    {
     "name": "stdout",
     "output_type": "stream",
     "text": [
      "[1] \"RNC\"\n"
     ]
    },
    {
     "data": {
      "text/html": [
       "<table class=\"dataframe\">\n",
       "<caption>A tibble: 10 × 5</caption>\n",
       "<thead>\n",
       "\t<tr><th scope=col>source</th><th scope=col>idn</th><th scope=col>betw_meter</th><th scope=col>meter</th><th scope=col>degree_meter</th></tr>\n",
       "\t<tr><th scope=col>&lt;chr&gt;</th><th scope=col>&lt;dbl&gt;</th><th scope=col>&lt;dbl&gt;</th><th scope=col>&lt;chr&gt;</th><th scope=col>&lt;dbl&gt;</th></tr>\n",
       "</thead>\n",
       "<tbody>\n",
       "\t<tr><td>42_душа мечта поэт живой восторг    </td><td>42</td><td>10</td><td>iamb_6</td><td>5</td></tr>\n",
       "\t<tr><td>24_вода луг тень ручей роща         </td><td>24</td><td> 8</td><td>iamb_6</td><td>3</td></tr>\n",
       "\t<tr><td>72_гора лес скала дикий стоять      </td><td>72</td><td> 4</td><td>iamb_6</td><td>2</td></tr>\n",
       "\t<tr><td>53_сон спать ночь просыпаться тишина</td><td>53</td><td> 4</td><td>iamb_6</td><td>2</td></tr>\n",
       "\t<tr><td>75_сердце душа любовь дар радость   </td><td>75</td><td> 0</td><td>iamb_6</td><td>1</td></tr>\n",
       "\t<tr><td>11_святой молитва вера храм божий   </td><td>11</td><td> 0</td><td>iamb_6</td><td>1</td></tr>\n",
       "\t<tr><td>54_жизнь радость надежда день мечта </td><td>54</td><td> 0</td><td>iamb_6</td><td>1</td></tr>\n",
       "\t<tr><td>35_толпа свет смех игра забава      </td><td>35</td><td> 0</td><td>iamb_6</td><td>1</td></tr>\n",
       "\t<tr><td>50_петь песня звук песнь певец      </td><td>50</td><td> 0</td><td>iamb_6</td><td>1</td></tr>\n",
       "\t<tr><td>23_белый грудь черный лицо кудри    </td><td>23</td><td> 0</td><td>iamb_6</td><td>1</td></tr>\n",
       "</tbody>\n",
       "</table>\n"
      ],
      "text/latex": [
       "A tibble: 10 × 5\n",
       "\\begin{tabular}{lllll}\n",
       " source & idn & betw\\_meter & meter & degree\\_meter\\\\\n",
       " <chr> & <dbl> & <dbl> & <chr> & <dbl>\\\\\n",
       "\\hline\n",
       "\t 42\\_душа мечта поэт живой восторг     & 42 & 10 & iamb\\_6 & 5\\\\\n",
       "\t 24\\_вода луг тень ручей роща          & 24 &  8 & iamb\\_6 & 3\\\\\n",
       "\t 72\\_гора лес скала дикий стоять       & 72 &  4 & iamb\\_6 & 2\\\\\n",
       "\t 53\\_сон спать ночь просыпаться тишина & 53 &  4 & iamb\\_6 & 2\\\\\n",
       "\t 75\\_сердце душа любовь дар радость    & 75 &  0 & iamb\\_6 & 1\\\\\n",
       "\t 11\\_святой молитва вера храм божий    & 11 &  0 & iamb\\_6 & 1\\\\\n",
       "\t 54\\_жизнь радость надежда день мечта  & 54 &  0 & iamb\\_6 & 1\\\\\n",
       "\t 35\\_толпа свет смех игра забава       & 35 &  0 & iamb\\_6 & 1\\\\\n",
       "\t 50\\_петь песня звук песнь певец       & 50 &  0 & iamb\\_6 & 1\\\\\n",
       "\t 23\\_белый грудь черный лицо кудри     & 23 &  0 & iamb\\_6 & 1\\\\\n",
       "\\end{tabular}\n"
      ],
      "text/markdown": [
       "\n",
       "A tibble: 10 × 5\n",
       "\n",
       "| source &lt;chr&gt; | idn &lt;dbl&gt; | betw_meter &lt;dbl&gt; | meter &lt;chr&gt; | degree_meter &lt;dbl&gt; |\n",
       "|---|---|---|---|---|\n",
       "| 42_душа мечта поэт живой восторг     | 42 | 10 | iamb_6 | 5 |\n",
       "| 24_вода луг тень ручей роща          | 24 |  8 | iamb_6 | 3 |\n",
       "| 72_гора лес скала дикий стоять       | 72 |  4 | iamb_6 | 2 |\n",
       "| 53_сон спать ночь просыпаться тишина | 53 |  4 | iamb_6 | 2 |\n",
       "| 75_сердце душа любовь дар радость    | 75 |  0 | iamb_6 | 1 |\n",
       "| 11_святой молитва вера храм божий    | 11 |  0 | iamb_6 | 1 |\n",
       "| 54_жизнь радость надежда день мечта  | 54 |  0 | iamb_6 | 1 |\n",
       "| 35_толпа свет смех игра забава       | 35 |  0 | iamb_6 | 1 |\n",
       "| 50_петь песня звук песнь певец       | 50 |  0 | iamb_6 | 1 |\n",
       "| 23_белый грудь черный лицо кудри     | 23 |  0 | iamb_6 | 1 |\n",
       "\n"
      ],
      "text/plain": [
       "   source                               idn betw_meter meter  degree_meter\n",
       "1  42_душа мечта поэт живой восторг     42  10         iamb_6 5           \n",
       "2  24_вода луг тень ручей роща          24   8         iamb_6 3           \n",
       "3  72_гора лес скала дикий стоять       72   4         iamb_6 2           \n",
       "4  53_сон спать ночь просыпаться тишина 53   4         iamb_6 2           \n",
       "5  75_сердце душа любовь дар радость    75   0         iamb_6 1           \n",
       "6  11_святой молитва вера храм божий    11   0         iamb_6 1           \n",
       "7  54_жизнь радость надежда день мечта  54   0         iamb_6 1           \n",
       "8  35_толпа свет смех игра забава       35   0         iamb_6 1           \n",
       "9  50_петь песня звук песнь певец       50   0         iamb_6 1           \n",
       "10 23_белый грудь черный лицо кудри     23   0         iamb_6 1           "
      ]
     },
     "metadata": {},
     "output_type": "display_data"
    }
   ],
   "source": [
    "print(\"Top-10 nodes by degree\")\n",
    "print(\"Periodicals\")\n",
    "degree_betweenness(\"iamb_6\", \"P\") %>% arrange(desc(degree_meter)) %>% head(10)\n",
    "print(\"RNC\")\n",
    "degree_betweenness(\"iamb_6\", \"N\") %>% arrange(desc(degree_meter)) %>% head(10)"
   ]
  },
  {
   "cell_type": "markdown",
   "id": "fbcb7787",
   "metadata": {},
   "source": [
    "Top connections in Iamb-4 and Trochee-4 by corpus"
   ]
  },
  {
   "cell_type": "code",
   "execution_count": 18,
   "id": "7c1725c7",
   "metadata": {},
   "outputs": [
    {
     "data": {
      "text/html": [
       "<table class=\"dataframe\">\n",
       "<caption>A grouped_df: 35 × 6</caption>\n",
       "<thead>\n",
       "\t<tr><th scope=col>meter</th><th scope=col>corpus</th><th scope=col>edge_id</th><th scope=col>source</th><th scope=col>target</th><th scope=col>n</th></tr>\n",
       "\t<tr><th scope=col>&lt;chr&gt;</th><th scope=col>&lt;chr&gt;</th><th scope=col>&lt;chr&gt;</th><th scope=col>&lt;chr&gt;</th><th scope=col>&lt;chr&gt;</th><th scope=col>&lt;int&gt;</th></tr>\n",
       "</thead>\n",
       "<tbody>\n",
       "\t<tr><td>trochee_4</td><td>P</td><td>8 26 </td><td>8_звезда небо луна ночь луч           </td><td>26_волна море берег вода брег         </td><td>8</td></tr>\n",
       "\t<tr><td>trochee_4</td><td>P</td><td>24 26</td><td>24_вода луг тень ручей роща           </td><td>26_волна море берег вода брег         </td><td>7</td></tr>\n",
       "\t<tr><td>trochee_4</td><td>P</td><td>8 24 </td><td>8_звезда небо луна ночь луч           </td><td>24_вода луг тень ручей роща           </td><td>6</td></tr>\n",
       "\t<tr><td>trochee_4</td><td>P</td><td>8 74 </td><td>8_звезда небо луна ночь луч           </td><td>74_луч солнце небо заря блистать      </td><td>6</td></tr>\n",
       "\t<tr><td>trochee_4</td><td>P</td><td>1 51 </td><td>1_старик девица красный молодой старый</td><td>51_сидеть окно дверь дом стоять       </td><td>5</td></tr>\n",
       "\t<tr><td>trochee_4</td><td>P</td><td>23 52</td><td>23_белый грудь черный лицо кудри      </td><td>52_грудь уста сладкий нега слеза      </td><td>5</td></tr>\n",
       "\t<tr><td>trochee_4</td><td>P</td><td>24 74</td><td>24_вода луг тень ручей роща           </td><td>74_луч солнце небо заря блистать      </td><td>5</td></tr>\n",
       "\t<tr><td>trochee_4</td><td>P</td><td>26 74</td><td>26_волна море берег вода брег         </td><td>74_луч солнце небо заря блистать      </td><td>5</td></tr>\n",
       "\t<tr><td>trochee_4</td><td>P</td><td>30 74</td><td>30_небо земля мир земной небесный     </td><td>74_луч солнце небо заря блистать      </td><td>5</td></tr>\n",
       "\t<tr><td>iamb_6   </td><td>P</td><td>34 55</td><td>34_слеза сердце плакать тоска печаль  </td><td>55_душа жизнь страсть страдание мука  </td><td>4</td></tr>\n",
       "\t<tr><td>iamb_6   </td><td>P</td><td>54 55</td><td>54_жизнь радость надежда день мечта   </td><td>55_душа жизнь страсть страдание мука  </td><td>4</td></tr>\n",
       "\t<tr><td>iamb_6   </td><td>P</td><td>11 12</td><td>11_святой молитва вера храм божий     </td><td>12_любовь сердце страсть кровь чувство</td><td>3</td></tr>\n",
       "\t<tr><td>iamb_6   </td><td>P</td><td>11 42</td><td>11_святой молитва вера храм божий     </td><td>42_душа мечта поэт живой восторг      </td><td>3</td></tr>\n",
       "\t<tr><td>iamb_6   </td><td>P</td><td>11 55</td><td>11_святой молитва вера храм божий     </td><td>55_душа жизнь страсть страдание мука  </td><td>3</td></tr>\n",
       "\t<tr><td>iamb_6   </td><td>P</td><td>12 55</td><td>12_любовь сердце страсть кровь чувство</td><td>55_душа жизнь страсть страдание мука  </td><td>3</td></tr>\n",
       "\t<tr><td>iamb_6   </td><td>P</td><td>23 42</td><td>23_белый грудь черный лицо кудри      </td><td>42_душа мечта поэт живой восторг      </td><td>3</td></tr>\n",
       "\t<tr><td>iamb_6   </td><td>P</td><td>27 54</td><td>27_сердце дума душа тоска полный      </td><td>54_жизнь радость надежда день мечта   </td><td>3</td></tr>\n",
       "\t<tr><td>iamb_6   </td><td>P</td><td>31 55</td><td>31_враг смерть страшный ужасный кровь </td><td>55_душа жизнь страсть страдание мука  </td><td>3</td></tr>\n",
       "\t<tr><td>iamb_6   </td><td>P</td><td>49 53</td><td>49_гроб могила прах земля мертвый     </td><td>53_сон спать ночь просыпаться тишина  </td><td>3</td></tr>\n",
       "\t<tr><td>iamb_6   </td><td>P</td><td>5 55 </td><td>5_бог давать сила боже господь        </td><td>55_душа жизнь страсть страдание мука  </td><td>3</td></tr>\n",
       "\t<tr><td>iamb_6   </td><td>P</td><td>55 58</td><td>55_душа жизнь страсть страдание мука  </td><td>58_день ночь тень час утро            </td><td>3</td></tr>\n",
       "\t<tr><td>iamb_4   </td><td>P</td><td>8 74 </td><td>8_звезда небо луна ночь луч           </td><td>74_луч солнце небо заря блистать      </td><td>9</td></tr>\n",
       "\t<tr><td>iamb_4   </td><td>P</td><td>24 72</td><td>24_вода луг тень ручей роща           </td><td>72_гора лес скала дикий стоять        </td><td>8</td></tr>\n",
       "\t<tr><td>iamb_4   </td><td>P</td><td>30 74</td><td>30_небо земля мир земной небесный     </td><td>74_луч солнце небо заря блистать      </td><td>8</td></tr>\n",
       "\t<tr><td>iamb_4   </td><td>P</td><td>8 11 </td><td>8_звезда небо луна ночь луч           </td><td>11_святой молитва вера храм божий     </td><td>7</td></tr>\n",
       "\t<tr><td>iamb_4   </td><td>P</td><td>13 69</td><td>13_меч бой враг герой поле            </td><td>69_царь народ русский царство князь   </td><td>6</td></tr>\n",
       "\t<tr><td>iamb_4   </td><td>P</td><td>22 49</td><td>22_слышать голос звук шум тихо        </td><td>49_гроб могила прах земля мертвый     </td><td>6</td></tr>\n",
       "\t<tr><td>iamb_4   </td><td>P</td><td>26 72</td><td>26_волна море берег вода брег         </td><td>72_гора лес скала дикий стоять        </td><td>6</td></tr>\n",
       "\t<tr><td>iamb_4   </td><td>P</td><td>42 54</td><td>42_душа мечта поэт живой восторг      </td><td>54_жизнь радость надежда день мечта   </td><td>6</td></tr>\n",
       "\t<tr><td>iamb_4   </td><td>P</td><td>42 65</td><td>42_душа мечта поэт живой восторг      </td><td>65_край страна родной чужой далекий   </td><td>6</td></tr>\n",
       "\t<tr><td>iamb_4   </td><td>P</td><td>8 12 </td><td>8_звезда небо луна ночь луч           </td><td>12_любовь сердце страсть кровь чувство</td><td>6</td></tr>\n",
       "\t<tr><td>iamb_4   </td><td>P</td><td>8 26 </td><td>8_звезда небо луна ночь луч           </td><td>26_волна море берег вода брег         </td><td>6</td></tr>\n",
       "\t<tr><td>iamb_4   </td><td>P</td><td>8 27 </td><td>8_звезда небо луна ночь луч           </td><td>27_сердце дума душа тоска полный      </td><td>6</td></tr>\n",
       "\t<tr><td>iamb_4   </td><td>P</td><td>8 30 </td><td>8_звезда небо луна ночь луч           </td><td>30_небо земля мир земной небесный     </td><td>6</td></tr>\n",
       "\t<tr><td>iamb_4   </td><td>P</td><td>8 54 </td><td>8_звезда небо луна ночь луч           </td><td>54_жизнь радость надежда день мечта   </td><td>6</td></tr>\n",
       "</tbody>\n",
       "</table>\n"
      ],
      "text/latex": [
       "A grouped\\_df: 35 × 6\n",
       "\\begin{tabular}{llllll}\n",
       " meter & corpus & edge\\_id & source & target & n\\\\\n",
       " <chr> & <chr> & <chr> & <chr> & <chr> & <int>\\\\\n",
       "\\hline\n",
       "\t trochee\\_4 & P & 8 26  & 8\\_звезда небо луна ночь луч            & 26\\_волна море берег вода брег          & 8\\\\\n",
       "\t trochee\\_4 & P & 24 26 & 24\\_вода луг тень ручей роща            & 26\\_волна море берег вода брег          & 7\\\\\n",
       "\t trochee\\_4 & P & 8 24  & 8\\_звезда небо луна ночь луч            & 24\\_вода луг тень ручей роща            & 6\\\\\n",
       "\t trochee\\_4 & P & 8 74  & 8\\_звезда небо луна ночь луч            & 74\\_луч солнце небо заря блистать       & 6\\\\\n",
       "\t trochee\\_4 & P & 1 51  & 1\\_старик девица красный молодой старый & 51\\_сидеть окно дверь дом стоять        & 5\\\\\n",
       "\t trochee\\_4 & P & 23 52 & 23\\_белый грудь черный лицо кудри       & 52\\_грудь уста сладкий нега слеза       & 5\\\\\n",
       "\t trochee\\_4 & P & 24 74 & 24\\_вода луг тень ручей роща            & 74\\_луч солнце небо заря блистать       & 5\\\\\n",
       "\t trochee\\_4 & P & 26 74 & 26\\_волна море берег вода брег          & 74\\_луч солнце небо заря блистать       & 5\\\\\n",
       "\t trochee\\_4 & P & 30 74 & 30\\_небо земля мир земной небесный      & 74\\_луч солнце небо заря блистать       & 5\\\\\n",
       "\t iamb\\_6    & P & 34 55 & 34\\_слеза сердце плакать тоска печаль   & 55\\_душа жизнь страсть страдание мука   & 4\\\\\n",
       "\t iamb\\_6    & P & 54 55 & 54\\_жизнь радость надежда день мечта    & 55\\_душа жизнь страсть страдание мука   & 4\\\\\n",
       "\t iamb\\_6    & P & 11 12 & 11\\_святой молитва вера храм божий      & 12\\_любовь сердце страсть кровь чувство & 3\\\\\n",
       "\t iamb\\_6    & P & 11 42 & 11\\_святой молитва вера храм божий      & 42\\_душа мечта поэт живой восторг       & 3\\\\\n",
       "\t iamb\\_6    & P & 11 55 & 11\\_святой молитва вера храм божий      & 55\\_душа жизнь страсть страдание мука   & 3\\\\\n",
       "\t iamb\\_6    & P & 12 55 & 12\\_любовь сердце страсть кровь чувство & 55\\_душа жизнь страсть страдание мука   & 3\\\\\n",
       "\t iamb\\_6    & P & 23 42 & 23\\_белый грудь черный лицо кудри       & 42\\_душа мечта поэт живой восторг       & 3\\\\\n",
       "\t iamb\\_6    & P & 27 54 & 27\\_сердце дума душа тоска полный       & 54\\_жизнь радость надежда день мечта    & 3\\\\\n",
       "\t iamb\\_6    & P & 31 55 & 31\\_враг смерть страшный ужасный кровь  & 55\\_душа жизнь страсть страдание мука   & 3\\\\\n",
       "\t iamb\\_6    & P & 49 53 & 49\\_гроб могила прах земля мертвый      & 53\\_сон спать ночь просыпаться тишина   & 3\\\\\n",
       "\t iamb\\_6    & P & 5 55  & 5\\_бог давать сила боже господь         & 55\\_душа жизнь страсть страдание мука   & 3\\\\\n",
       "\t iamb\\_6    & P & 55 58 & 55\\_душа жизнь страсть страдание мука   & 58\\_день ночь тень час утро             & 3\\\\\n",
       "\t iamb\\_4    & P & 8 74  & 8\\_звезда небо луна ночь луч            & 74\\_луч солнце небо заря блистать       & 9\\\\\n",
       "\t iamb\\_4    & P & 24 72 & 24\\_вода луг тень ручей роща            & 72\\_гора лес скала дикий стоять         & 8\\\\\n",
       "\t iamb\\_4    & P & 30 74 & 30\\_небо земля мир земной небесный      & 74\\_луч солнце небо заря блистать       & 8\\\\\n",
       "\t iamb\\_4    & P & 8 11  & 8\\_звезда небо луна ночь луч            & 11\\_святой молитва вера храм божий      & 7\\\\\n",
       "\t iamb\\_4    & P & 13 69 & 13\\_меч бой враг герой поле             & 69\\_царь народ русский царство князь    & 6\\\\\n",
       "\t iamb\\_4    & P & 22 49 & 22\\_слышать голос звук шум тихо         & 49\\_гроб могила прах земля мертвый      & 6\\\\\n",
       "\t iamb\\_4    & P & 26 72 & 26\\_волна море берег вода брег          & 72\\_гора лес скала дикий стоять         & 6\\\\\n",
       "\t iamb\\_4    & P & 42 54 & 42\\_душа мечта поэт живой восторг       & 54\\_жизнь радость надежда день мечта    & 6\\\\\n",
       "\t iamb\\_4    & P & 42 65 & 42\\_душа мечта поэт живой восторг       & 65\\_край страна родной чужой далекий    & 6\\\\\n",
       "\t iamb\\_4    & P & 8 12  & 8\\_звезда небо луна ночь луч            & 12\\_любовь сердце страсть кровь чувство & 6\\\\\n",
       "\t iamb\\_4    & P & 8 26  & 8\\_звезда небо луна ночь луч            & 26\\_волна море берег вода брег          & 6\\\\\n",
       "\t iamb\\_4    & P & 8 27  & 8\\_звезда небо луна ночь луч            & 27\\_сердце дума душа тоска полный       & 6\\\\\n",
       "\t iamb\\_4    & P & 8 30  & 8\\_звезда небо луна ночь луч            & 30\\_небо земля мир земной небесный      & 6\\\\\n",
       "\t iamb\\_4    & P & 8 54  & 8\\_звезда небо луна ночь луч            & 54\\_жизнь радость надежда день мечта    & 6\\\\\n",
       "\\end{tabular}\n"
      ],
      "text/markdown": [
       "\n",
       "A grouped_df: 35 × 6\n",
       "\n",
       "| meter &lt;chr&gt; | corpus &lt;chr&gt; | edge_id &lt;chr&gt; | source &lt;chr&gt; | target &lt;chr&gt; | n &lt;int&gt; |\n",
       "|---|---|---|---|---|---|\n",
       "| trochee_4 | P | 8 26  | 8_звезда небо луна ночь луч            | 26_волна море берег вода брег          | 8 |\n",
       "| trochee_4 | P | 24 26 | 24_вода луг тень ручей роща            | 26_волна море берег вода брег          | 7 |\n",
       "| trochee_4 | P | 8 24  | 8_звезда небо луна ночь луч            | 24_вода луг тень ручей роща            | 6 |\n",
       "| trochee_4 | P | 8 74  | 8_звезда небо луна ночь луч            | 74_луч солнце небо заря блистать       | 6 |\n",
       "| trochee_4 | P | 1 51  | 1_старик девица красный молодой старый | 51_сидеть окно дверь дом стоять        | 5 |\n",
       "| trochee_4 | P | 23 52 | 23_белый грудь черный лицо кудри       | 52_грудь уста сладкий нега слеза       | 5 |\n",
       "| trochee_4 | P | 24 74 | 24_вода луг тень ручей роща            | 74_луч солнце небо заря блистать       | 5 |\n",
       "| trochee_4 | P | 26 74 | 26_волна море берег вода брег          | 74_луч солнце небо заря блистать       | 5 |\n",
       "| trochee_4 | P | 30 74 | 30_небо земля мир земной небесный      | 74_луч солнце небо заря блистать       | 5 |\n",
       "| iamb_6    | P | 34 55 | 34_слеза сердце плакать тоска печаль   | 55_душа жизнь страсть страдание мука   | 4 |\n",
       "| iamb_6    | P | 54 55 | 54_жизнь радость надежда день мечта    | 55_душа жизнь страсть страдание мука   | 4 |\n",
       "| iamb_6    | P | 11 12 | 11_святой молитва вера храм божий      | 12_любовь сердце страсть кровь чувство | 3 |\n",
       "| iamb_6    | P | 11 42 | 11_святой молитва вера храм божий      | 42_душа мечта поэт живой восторг       | 3 |\n",
       "| iamb_6    | P | 11 55 | 11_святой молитва вера храм божий      | 55_душа жизнь страсть страдание мука   | 3 |\n",
       "| iamb_6    | P | 12 55 | 12_любовь сердце страсть кровь чувство | 55_душа жизнь страсть страдание мука   | 3 |\n",
       "| iamb_6    | P | 23 42 | 23_белый грудь черный лицо кудри       | 42_душа мечта поэт живой восторг       | 3 |\n",
       "| iamb_6    | P | 27 54 | 27_сердце дума душа тоска полный       | 54_жизнь радость надежда день мечта    | 3 |\n",
       "| iamb_6    | P | 31 55 | 31_враг смерть страшный ужасный кровь  | 55_душа жизнь страсть страдание мука   | 3 |\n",
       "| iamb_6    | P | 49 53 | 49_гроб могила прах земля мертвый      | 53_сон спать ночь просыпаться тишина   | 3 |\n",
       "| iamb_6    | P | 5 55  | 5_бог давать сила боже господь         | 55_душа жизнь страсть страдание мука   | 3 |\n",
       "| iamb_6    | P | 55 58 | 55_душа жизнь страсть страдание мука   | 58_день ночь тень час утро             | 3 |\n",
       "| iamb_4    | P | 8 74  | 8_звезда небо луна ночь луч            | 74_луч солнце небо заря блистать       | 9 |\n",
       "| iamb_4    | P | 24 72 | 24_вода луг тень ручей роща            | 72_гора лес скала дикий стоять         | 8 |\n",
       "| iamb_4    | P | 30 74 | 30_небо земля мир земной небесный      | 74_луч солнце небо заря блистать       | 8 |\n",
       "| iamb_4    | P | 8 11  | 8_звезда небо луна ночь луч            | 11_святой молитва вера храм божий      | 7 |\n",
       "| iamb_4    | P | 13 69 | 13_меч бой враг герой поле             | 69_царь народ русский царство князь    | 6 |\n",
       "| iamb_4    | P | 22 49 | 22_слышать голос звук шум тихо         | 49_гроб могила прах земля мертвый      | 6 |\n",
       "| iamb_4    | P | 26 72 | 26_волна море берег вода брег          | 72_гора лес скала дикий стоять         | 6 |\n",
       "| iamb_4    | P | 42 54 | 42_душа мечта поэт живой восторг       | 54_жизнь радость надежда день мечта    | 6 |\n",
       "| iamb_4    | P | 42 65 | 42_душа мечта поэт живой восторг       | 65_край страна родной чужой далекий    | 6 |\n",
       "| iamb_4    | P | 8 12  | 8_звезда небо луна ночь луч            | 12_любовь сердце страсть кровь чувство | 6 |\n",
       "| iamb_4    | P | 8 26  | 8_звезда небо луна ночь луч            | 26_волна море берег вода брег          | 6 |\n",
       "| iamb_4    | P | 8 27  | 8_звезда небо луна ночь луч            | 27_сердце дума душа тоска полный       | 6 |\n",
       "| iamb_4    | P | 8 30  | 8_звезда небо луна ночь луч            | 30_небо земля мир земной небесный      | 6 |\n",
       "| iamb_4    | P | 8 54  | 8_звезда небо луна ночь луч            | 54_жизнь радость надежда день мечта    | 6 |\n",
       "\n"
      ],
      "text/plain": [
       "   meter     corpus edge_id source                                \n",
       "1  trochee_4 P      8 26    8_звезда небо луна ночь луч           \n",
       "2  trochee_4 P      24 26   24_вода луг тень ручей роща           \n",
       "3  trochee_4 P      8 24    8_звезда небо луна ночь луч           \n",
       "4  trochee_4 P      8 74    8_звезда небо луна ночь луч           \n",
       "5  trochee_4 P      1 51    1_старик девица красный молодой старый\n",
       "6  trochee_4 P      23 52   23_белый грудь черный лицо кудри      \n",
       "7  trochee_4 P      24 74   24_вода луг тень ручей роща           \n",
       "8  trochee_4 P      26 74   26_волна море берег вода брег         \n",
       "9  trochee_4 P      30 74   30_небо земля мир земной небесный     \n",
       "10 iamb_6    P      34 55   34_слеза сердце плакать тоска печаль  \n",
       "11 iamb_6    P      54 55   54_жизнь радость надежда день мечта   \n",
       "12 iamb_6    P      11 12   11_святой молитва вера храм божий     \n",
       "13 iamb_6    P      11 42   11_святой молитва вера храм божий     \n",
       "14 iamb_6    P      11 55   11_святой молитва вера храм божий     \n",
       "15 iamb_6    P      12 55   12_любовь сердце страсть кровь чувство\n",
       "16 iamb_6    P      23 42   23_белый грудь черный лицо кудри      \n",
       "17 iamb_6    P      27 54   27_сердце дума душа тоска полный      \n",
       "18 iamb_6    P      31 55   31_враг смерть страшный ужасный кровь \n",
       "19 iamb_6    P      49 53   49_гроб могила прах земля мертвый     \n",
       "20 iamb_6    P      5 55    5_бог давать сила боже господь        \n",
       "21 iamb_6    P      55 58   55_душа жизнь страсть страдание мука  \n",
       "22 iamb_4    P      8 74    8_звезда небо луна ночь луч           \n",
       "23 iamb_4    P      24 72   24_вода луг тень ручей роща           \n",
       "24 iamb_4    P      30 74   30_небо земля мир земной небесный     \n",
       "25 iamb_4    P      8 11    8_звезда небо луна ночь луч           \n",
       "26 iamb_4    P      13 69   13_меч бой враг герой поле            \n",
       "27 iamb_4    P      22 49   22_слышать голос звук шум тихо        \n",
       "28 iamb_4    P      26 72   26_волна море берег вода брег         \n",
       "29 iamb_4    P      42 54   42_душа мечта поэт живой восторг      \n",
       "30 iamb_4    P      42 65   42_душа мечта поэт живой восторг      \n",
       "31 iamb_4    P      8 12    8_звезда небо луна ночь луч           \n",
       "32 iamb_4    P      8 26    8_звезда небо луна ночь луч           \n",
       "33 iamb_4    P      8 27    8_звезда небо луна ночь луч           \n",
       "34 iamb_4    P      8 30    8_звезда небо луна ночь луч           \n",
       "35 iamb_4    P      8 54    8_звезда небо луна ночь луч           \n",
       "   target                                 n\n",
       "1  26_волна море берег вода брег          8\n",
       "2  26_волна море берег вода брег          7\n",
       "3  24_вода луг тень ручей роща            6\n",
       "4  74_луч солнце небо заря блистать       6\n",
       "5  51_сидеть окно дверь дом стоять        5\n",
       "6  52_грудь уста сладкий нега слеза       5\n",
       "7  74_луч солнце небо заря блистать       5\n",
       "8  74_луч солнце небо заря блистать       5\n",
       "9  74_луч солнце небо заря блистать       5\n",
       "10 55_душа жизнь страсть страдание мука   4\n",
       "11 55_душа жизнь страсть страдание мука   4\n",
       "12 12_любовь сердце страсть кровь чувство 3\n",
       "13 42_душа мечта поэт живой восторг       3\n",
       "14 55_душа жизнь страсть страдание мука   3\n",
       "15 55_душа жизнь страсть страдание мука   3\n",
       "16 42_душа мечта поэт живой восторг       3\n",
       "17 54_жизнь радость надежда день мечта    3\n",
       "18 55_душа жизнь страсть страдание мука   3\n",
       "19 53_сон спать ночь просыпаться тишина   3\n",
       "20 55_душа жизнь страсть страдание мука   3\n",
       "21 58_день ночь тень час утро             3\n",
       "22 74_луч солнце небо заря блистать       9\n",
       "23 72_гора лес скала дикий стоять         8\n",
       "24 74_луч солнце небо заря блистать       8\n",
       "25 11_святой молитва вера храм божий      7\n",
       "26 69_царь народ русский царство князь    6\n",
       "27 49_гроб могила прах земля мертвый      6\n",
       "28 72_гора лес скала дикий стоять         6\n",
       "29 54_жизнь радость надежда день мечта    6\n",
       "30 65_край страна родной чужой далекий    6\n",
       "31 12_любовь сердце страсть кровь чувство 6\n",
       "32 26_волна море берег вода брег          6\n",
       "33 27_сердце дума душа тоска полный       6\n",
       "34 30_небо земля мир земной небесный      6\n",
       "35 54_жизнь радость надежда день мечта    6"
      ]
     },
     "metadata": {},
     "output_type": "display_data"
    }
   ],
   "source": [
    "links_1830 %>% \n",
    "    filter(corpus == \"P\" & meter %in% c(\"trochee_4\", \"iamb_4\", \"iamb_6\")) %>% \n",
    "    group_by(meter) %>% \n",
    "    top_n(5, n) %>% \n",
    "    arrange(desc(n)) %>%\n",
    "    arrange(desc(meter)) %>% \n",
    "    arrange(desc(corpus))"
   ]
  },
  {
   "cell_type": "code",
   "execution_count": 19,
   "id": "e85ea696",
   "metadata": {},
   "outputs": [
    {
     "data": {
      "text/html": [
       "<table class=\"dataframe\">\n",
       "<caption>A grouped_df: 22 × 6</caption>\n",
       "<thead>\n",
       "\t<tr><th scope=col>meter</th><th scope=col>corpus</th><th scope=col>edge_id</th><th scope=col>source</th><th scope=col>target</th><th scope=col>n</th></tr>\n",
       "\t<tr><th scope=col>&lt;chr&gt;</th><th scope=col>&lt;chr&gt;</th><th scope=col>&lt;chr&gt;</th><th scope=col>&lt;chr&gt;</th><th scope=col>&lt;chr&gt;</th><th scope=col>&lt;int&gt;</th></tr>\n",
       "</thead>\n",
       "<tbody>\n",
       "\t<tr><td>trochee_4</td><td>N</td><td>13 66</td><td>13_меч бой враг герой поле              </td><td>66_буря туча гром небо ветер           </td><td>7</td></tr>\n",
       "\t<tr><td>trochee_4</td><td>N</td><td>52 74</td><td>52_грудь уста сладкий нега слеза        </td><td>74_луч солнце небо заря блистать       </td><td>6</td></tr>\n",
       "\t<tr><td>trochee_4</td><td>N</td><td>1 26 </td><td>1_старик девица красный молодой старый  </td><td>26_волна море берег вода брег          </td><td>5</td></tr>\n",
       "\t<tr><td>trochee_4</td><td>N</td><td>1 66 </td><td>1_старик девица красный молодой старый  </td><td>66_буря туча гром небо ветер           </td><td>5</td></tr>\n",
       "\t<tr><td>trochee_4</td><td>N</td><td>26 67</td><td>26_волна море берег вода брег           </td><td>67_лететь крыло орел птица летать      </td><td>5</td></tr>\n",
       "\t<tr><td>iamb_6   </td><td>N</td><td>11 42</td><td>11_святой молитва вера храм божий       </td><td>42_душа мечта поэт живой восторг       </td><td>4</td></tr>\n",
       "\t<tr><td>iamb_6   </td><td>N</td><td>23 53</td><td>23_белый грудь черный лицо кудри        </td><td>53_сон спать ночь просыпаться тишина   </td><td>4</td></tr>\n",
       "\t<tr><td>iamb_6   </td><td>N</td><td>68 72</td><td>68_зреть глава глас внимать вещать      </td><td>72_гора лес скала дикий стоять         </td><td>4</td></tr>\n",
       "\t<tr><td>iamb_6   </td><td>N</td><td>15 54</td><td>15_пить вино чаша пир гость             </td><td>54_жизнь радость надежда день мечта    </td><td>3</td></tr>\n",
       "\t<tr><td>iamb_6   </td><td>N</td><td>19 46</td><td>19_муза певец слава дар поэт            </td><td>46_стих писать читать перо поэт        </td><td>3</td></tr>\n",
       "\t<tr><td>iamb_6   </td><td>N</td><td>24 48</td><td>24_вода луг тень ручей роща             </td><td>48_тишина мирный тихий счастливый покой</td><td>3</td></tr>\n",
       "\t<tr><td>iamb_6   </td><td>N</td><td>24 53</td><td>24_вода луг тень ручей роща             </td><td>53_сон спать ночь просыпаться тишина   </td><td>3</td></tr>\n",
       "\t<tr><td>iamb_6   </td><td>N</td><td>24 72</td><td>24_вода луг тень ручей роща             </td><td>72_гора лес скала дикий стоять         </td><td>3</td></tr>\n",
       "\t<tr><td>iamb_6   </td><td>N</td><td>35 42</td><td>35_толпа свет смех игра забава          </td><td>42_душа мечта поэт живой восторг       </td><td>3</td></tr>\n",
       "\t<tr><td>iamb_6   </td><td>N</td><td>4 42 </td><td>4_дева прекрасный краса чистый молодой  </td><td>42_душа мечта поэт живой восторг       </td><td>3</td></tr>\n",
       "\t<tr><td>iamb_6   </td><td>N</td><td>42 50</td><td>42_душа мечта поэт живой восторг        </td><td>50_петь песня звук песнь певец         </td><td>3</td></tr>\n",
       "\t<tr><td>iamb_6   </td><td>N</td><td>42 75</td><td>42_душа мечта поэт живой восторг        </td><td>75_сердце душа любовь дар радость      </td><td>3</td></tr>\n",
       "\t<tr><td>iamb_4   </td><td>N</td><td>30 42</td><td>30_небо земля мир земной небесный       </td><td>42_душа мечта поэт живой восторг       </td><td>8</td></tr>\n",
       "\t<tr><td>iamb_4   </td><td>N</td><td>12 42</td><td>12_любовь сердце страсть кровь чувство  </td><td>42_душа мечта поэт живой восторг       </td><td>7</td></tr>\n",
       "\t<tr><td>iamb_4   </td><td>N</td><td>17 55</td><td>17_любить сердце жить любовь милый      </td><td>55_душа жизнь страсть страдание мука   </td><td>7</td></tr>\n",
       "\t<tr><td>iamb_4   </td><td>N</td><td>28 55</td><td>28_счастие судьба пускай находить давать</td><td>55_душа жизнь страсть страдание мука   </td><td>7</td></tr>\n",
       "\t<tr><td>iamb_4   </td><td>N</td><td>42 75</td><td>42_душа мечта поэт живой восторг        </td><td>75_сердце душа любовь дар радость      </td><td>7</td></tr>\n",
       "</tbody>\n",
       "</table>\n"
      ],
      "text/latex": [
       "A grouped\\_df: 22 × 6\n",
       "\\begin{tabular}{llllll}\n",
       " meter & corpus & edge\\_id & source & target & n\\\\\n",
       " <chr> & <chr> & <chr> & <chr> & <chr> & <int>\\\\\n",
       "\\hline\n",
       "\t trochee\\_4 & N & 13 66 & 13\\_меч бой враг герой поле               & 66\\_буря туча гром небо ветер            & 7\\\\\n",
       "\t trochee\\_4 & N & 52 74 & 52\\_грудь уста сладкий нега слеза         & 74\\_луч солнце небо заря блистать        & 6\\\\\n",
       "\t trochee\\_4 & N & 1 26  & 1\\_старик девица красный молодой старый   & 26\\_волна море берег вода брег           & 5\\\\\n",
       "\t trochee\\_4 & N & 1 66  & 1\\_старик девица красный молодой старый   & 66\\_буря туча гром небо ветер            & 5\\\\\n",
       "\t trochee\\_4 & N & 26 67 & 26\\_волна море берег вода брег            & 67\\_лететь крыло орел птица летать       & 5\\\\\n",
       "\t iamb\\_6    & N & 11 42 & 11\\_святой молитва вера храм божий        & 42\\_душа мечта поэт живой восторг        & 4\\\\\n",
       "\t iamb\\_6    & N & 23 53 & 23\\_белый грудь черный лицо кудри         & 53\\_сон спать ночь просыпаться тишина    & 4\\\\\n",
       "\t iamb\\_6    & N & 68 72 & 68\\_зреть глава глас внимать вещать       & 72\\_гора лес скала дикий стоять          & 4\\\\\n",
       "\t iamb\\_6    & N & 15 54 & 15\\_пить вино чаша пир гость              & 54\\_жизнь радость надежда день мечта     & 3\\\\\n",
       "\t iamb\\_6    & N & 19 46 & 19\\_муза певец слава дар поэт             & 46\\_стих писать читать перо поэт         & 3\\\\\n",
       "\t iamb\\_6    & N & 24 48 & 24\\_вода луг тень ручей роща              & 48\\_тишина мирный тихий счастливый покой & 3\\\\\n",
       "\t iamb\\_6    & N & 24 53 & 24\\_вода луг тень ручей роща              & 53\\_сон спать ночь просыпаться тишина    & 3\\\\\n",
       "\t iamb\\_6    & N & 24 72 & 24\\_вода луг тень ручей роща              & 72\\_гора лес скала дикий стоять          & 3\\\\\n",
       "\t iamb\\_6    & N & 35 42 & 35\\_толпа свет смех игра забава           & 42\\_душа мечта поэт живой восторг        & 3\\\\\n",
       "\t iamb\\_6    & N & 4 42  & 4\\_дева прекрасный краса чистый молодой   & 42\\_душа мечта поэт живой восторг        & 3\\\\\n",
       "\t iamb\\_6    & N & 42 50 & 42\\_душа мечта поэт живой восторг         & 50\\_петь песня звук песнь певец          & 3\\\\\n",
       "\t iamb\\_6    & N & 42 75 & 42\\_душа мечта поэт живой восторг         & 75\\_сердце душа любовь дар радость       & 3\\\\\n",
       "\t iamb\\_4    & N & 30 42 & 30\\_небо земля мир земной небесный        & 42\\_душа мечта поэт живой восторг        & 8\\\\\n",
       "\t iamb\\_4    & N & 12 42 & 12\\_любовь сердце страсть кровь чувство   & 42\\_душа мечта поэт живой восторг        & 7\\\\\n",
       "\t iamb\\_4    & N & 17 55 & 17\\_любить сердце жить любовь милый       & 55\\_душа жизнь страсть страдание мука    & 7\\\\\n",
       "\t iamb\\_4    & N & 28 55 & 28\\_счастие судьба пускай находить давать & 55\\_душа жизнь страсть страдание мука    & 7\\\\\n",
       "\t iamb\\_4    & N & 42 75 & 42\\_душа мечта поэт живой восторг         & 75\\_сердце душа любовь дар радость       & 7\\\\\n",
       "\\end{tabular}\n"
      ],
      "text/markdown": [
       "\n",
       "A grouped_df: 22 × 6\n",
       "\n",
       "| meter &lt;chr&gt; | corpus &lt;chr&gt; | edge_id &lt;chr&gt; | source &lt;chr&gt; | target &lt;chr&gt; | n &lt;int&gt; |\n",
       "|---|---|---|---|---|---|\n",
       "| trochee_4 | N | 13 66 | 13_меч бой враг герой поле               | 66_буря туча гром небо ветер            | 7 |\n",
       "| trochee_4 | N | 52 74 | 52_грудь уста сладкий нега слеза         | 74_луч солнце небо заря блистать        | 6 |\n",
       "| trochee_4 | N | 1 26  | 1_старик девица красный молодой старый   | 26_волна море берег вода брег           | 5 |\n",
       "| trochee_4 | N | 1 66  | 1_старик девица красный молодой старый   | 66_буря туча гром небо ветер            | 5 |\n",
       "| trochee_4 | N | 26 67 | 26_волна море берег вода брег            | 67_лететь крыло орел птица летать       | 5 |\n",
       "| iamb_6    | N | 11 42 | 11_святой молитва вера храм божий        | 42_душа мечта поэт живой восторг        | 4 |\n",
       "| iamb_6    | N | 23 53 | 23_белый грудь черный лицо кудри         | 53_сон спать ночь просыпаться тишина    | 4 |\n",
       "| iamb_6    | N | 68 72 | 68_зреть глава глас внимать вещать       | 72_гора лес скала дикий стоять          | 4 |\n",
       "| iamb_6    | N | 15 54 | 15_пить вино чаша пир гость              | 54_жизнь радость надежда день мечта     | 3 |\n",
       "| iamb_6    | N | 19 46 | 19_муза певец слава дар поэт             | 46_стих писать читать перо поэт         | 3 |\n",
       "| iamb_6    | N | 24 48 | 24_вода луг тень ручей роща              | 48_тишина мирный тихий счастливый покой | 3 |\n",
       "| iamb_6    | N | 24 53 | 24_вода луг тень ручей роща              | 53_сон спать ночь просыпаться тишина    | 3 |\n",
       "| iamb_6    | N | 24 72 | 24_вода луг тень ручей роща              | 72_гора лес скала дикий стоять          | 3 |\n",
       "| iamb_6    | N | 35 42 | 35_толпа свет смех игра забава           | 42_душа мечта поэт живой восторг        | 3 |\n",
       "| iamb_6    | N | 4 42  | 4_дева прекрасный краса чистый молодой   | 42_душа мечта поэт живой восторг        | 3 |\n",
       "| iamb_6    | N | 42 50 | 42_душа мечта поэт живой восторг         | 50_петь песня звук песнь певец          | 3 |\n",
       "| iamb_6    | N | 42 75 | 42_душа мечта поэт живой восторг         | 75_сердце душа любовь дар радость       | 3 |\n",
       "| iamb_4    | N | 30 42 | 30_небо земля мир земной небесный        | 42_душа мечта поэт живой восторг        | 8 |\n",
       "| iamb_4    | N | 12 42 | 12_любовь сердце страсть кровь чувство   | 42_душа мечта поэт живой восторг        | 7 |\n",
       "| iamb_4    | N | 17 55 | 17_любить сердце жить любовь милый       | 55_душа жизнь страсть страдание мука    | 7 |\n",
       "| iamb_4    | N | 28 55 | 28_счастие судьба пускай находить давать | 55_душа жизнь страсть страдание мука    | 7 |\n",
       "| iamb_4    | N | 42 75 | 42_душа мечта поэт живой восторг         | 75_сердце душа любовь дар радость       | 7 |\n",
       "\n"
      ],
      "text/plain": [
       "   meter     corpus edge_id source                                  \n",
       "1  trochee_4 N      13 66   13_меч бой враг герой поле              \n",
       "2  trochee_4 N      52 74   52_грудь уста сладкий нега слеза        \n",
       "3  trochee_4 N      1 26    1_старик девица красный молодой старый  \n",
       "4  trochee_4 N      1 66    1_старик девица красный молодой старый  \n",
       "5  trochee_4 N      26 67   26_волна море берег вода брег           \n",
       "6  iamb_6    N      11 42   11_святой молитва вера храм божий       \n",
       "7  iamb_6    N      23 53   23_белый грудь черный лицо кудри        \n",
       "8  iamb_6    N      68 72   68_зреть глава глас внимать вещать      \n",
       "9  iamb_6    N      15 54   15_пить вино чаша пир гость             \n",
       "10 iamb_6    N      19 46   19_муза певец слава дар поэт            \n",
       "11 iamb_6    N      24 48   24_вода луг тень ручей роща             \n",
       "12 iamb_6    N      24 53   24_вода луг тень ручей роща             \n",
       "13 iamb_6    N      24 72   24_вода луг тень ручей роща             \n",
       "14 iamb_6    N      35 42   35_толпа свет смех игра забава          \n",
       "15 iamb_6    N      4 42    4_дева прекрасный краса чистый молодой  \n",
       "16 iamb_6    N      42 50   42_душа мечта поэт живой восторг        \n",
       "17 iamb_6    N      42 75   42_душа мечта поэт живой восторг        \n",
       "18 iamb_4    N      30 42   30_небо земля мир земной небесный       \n",
       "19 iamb_4    N      12 42   12_любовь сердце страсть кровь чувство  \n",
       "20 iamb_4    N      17 55   17_любить сердце жить любовь милый      \n",
       "21 iamb_4    N      28 55   28_счастие судьба пускай находить давать\n",
       "22 iamb_4    N      42 75   42_душа мечта поэт живой восторг        \n",
       "   target                                  n\n",
       "1  66_буря туча гром небо ветер            7\n",
       "2  74_луч солнце небо заря блистать        6\n",
       "3  26_волна море берег вода брег           5\n",
       "4  66_буря туча гром небо ветер            5\n",
       "5  67_лететь крыло орел птица летать       5\n",
       "6  42_душа мечта поэт живой восторг        4\n",
       "7  53_сон спать ночь просыпаться тишина    4\n",
       "8  72_гора лес скала дикий стоять          4\n",
       "9  54_жизнь радость надежда день мечта     3\n",
       "10 46_стих писать читать перо поэт         3\n",
       "11 48_тишина мирный тихий счастливый покой 3\n",
       "12 53_сон спать ночь просыпаться тишина    3\n",
       "13 72_гора лес скала дикий стоять          3\n",
       "14 42_душа мечта поэт живой восторг        3\n",
       "15 42_душа мечта поэт живой восторг        3\n",
       "16 50_петь песня звук песнь певец          3\n",
       "17 75_сердце душа любовь дар радость       3\n",
       "18 42_душа мечта поэт живой восторг        8\n",
       "19 42_душа мечта поэт живой восторг        7\n",
       "20 55_душа жизнь страсть страдание мука    7\n",
       "21 55_душа жизнь страсть страдание мука    7\n",
       "22 75_сердце душа любовь дар радость       7"
      ]
     },
     "metadata": {},
     "output_type": "display_data"
    }
   ],
   "source": [
    "links_1830 %>% \n",
    "    filter(corpus == \"N\" & meter %in% c(\"trochee_4\", \"iamb_4\", \"iamb_6\")) %>% \n",
    "    group_by(meter) %>% \n",
    "    top_n(5, n) %>% \n",
    "    arrange(desc(n)) %>%\n",
    "    arrange(desc(meter)) %>% \n",
    "    arrange(desc(corpus))"
   ]
  },
  {
   "cell_type": "markdown",
   "id": "37b0aa2a",
   "metadata": {},
   "source": [
    "#### N edges & density"
   ]
  },
  {
   "cell_type": "code",
   "execution_count": 20,
   "id": "df802300",
   "metadata": {},
   "outputs": [
    {
     "name": "stdout",
     "output_type": "stream",
     "text": [
      "[1] \"Number of connections by each meter\"\n"
     ]
    },
    {
     "data": {
      "text/html": [
       "<table class=\"dataframe\">\n",
       "<caption>A grouped_df: 3 × 3</caption>\n",
       "<thead>\n",
       "\t<tr><th scope=col>meter</th><th scope=col>N</th><th scope=col>P</th></tr>\n",
       "\t<tr><th scope=col>&lt;chr&gt;</th><th scope=col>&lt;int&gt;</th><th scope=col>&lt;int&gt;</th></tr>\n",
       "</thead>\n",
       "<tbody>\n",
       "\t<tr><td>iamb_4   </td><td>165</td><td>185</td></tr>\n",
       "\t<tr><td>iamb_6   </td><td> 12</td><td> 12</td></tr>\n",
       "\t<tr><td>trochee_4</td><td> 39</td><td> 44</td></tr>\n",
       "</tbody>\n",
       "</table>\n"
      ],
      "text/latex": [
       "A grouped\\_df: 3 × 3\n",
       "\\begin{tabular}{lll}\n",
       " meter & N & P\\\\\n",
       " <chr> & <int> & <int>\\\\\n",
       "\\hline\n",
       "\t iamb\\_4    & 165 & 185\\\\\n",
       "\t iamb\\_6    &  12 &  12\\\\\n",
       "\t trochee\\_4 &  39 &  44\\\\\n",
       "\\end{tabular}\n"
      ],
      "text/markdown": [
       "\n",
       "A grouped_df: 3 × 3\n",
       "\n",
       "| meter &lt;chr&gt; | N &lt;int&gt; | P &lt;int&gt; |\n",
       "|---|---|---|\n",
       "| iamb_4    | 165 | 185 |\n",
       "| iamb_6    |  12 |  12 |\n",
       "| trochee_4 |  39 |  44 |\n",
       "\n"
      ],
      "text/plain": [
       "  meter     N   P  \n",
       "1 iamb_4    165 185\n",
       "2 iamb_6     12  12\n",
       "3 trochee_4  39  44"
      ]
     },
     "metadata": {},
     "output_type": "display_data"
    }
   ],
   "source": [
    "# Number of edges\n",
    "\n",
    "print(\"Number of connections by each meter\")\n",
    "edgelist %>% \n",
    "    filter(meter %in% c(\"iamb_4\", \"iamb_6\", \"trochee_4\")) %>% \n",
    "    group_by(meter, corpus) %>% \n",
    "    count(sort = F) %>% \n",
    "    pivot_wider(names_from = corpus, values_from = n)"
   ]
  },
  {
   "cell_type": "code",
   "execution_count": 21,
   "id": "e60dbe7f",
   "metadata": {},
   "outputs": [],
   "source": [
    "density_vector <- function(formula) {\n",
    "    densities <- vector()\n",
    "    e1 <- NULL\n",
    "    for (i in 1:length(unique(edgelist$corpus))) {\n",
    "        e1 <- edgelist %>% \n",
    "            filter(meter == formula & corpus == unique(edgelist$corpus)[i])\n",
    "\n",
    "            net_test <- graph_from_data_frame(d = e1, vertices = nodelist, directed = F)\n",
    "\n",
    "            densities[i] <- edge_density(net_test, loops = F)\n",
    "    }\n",
    "    densities\n",
    "}"
   ]
  },
  {
   "cell_type": "code",
   "execution_count": 22,
   "id": "28021d62",
   "metadata": {},
   "outputs": [
    {
     "data": {
      "text/html": [
       "<style>\n",
       ".list-inline {list-style: none; margin:0; padding: 0}\n",
       ".list-inline>li {display: inline-block}\n",
       ".list-inline>li:not(:last-child)::after {content: \"\\00b7\"; padding: 0 .5ex}\n",
       "</style>\n",
       "<ol class=list-inline><li>'iamb_4__30 42'</li><li>'iamb_4__12 42'</li><li>'iamb_4__10 27'</li><li>'iamb_4__12 55'</li><li>'iamb_4__21 24'</li><li>'iamb_4__27 54'</li></ol>\n"
      ],
      "text/latex": [
       "\\begin{enumerate*}\n",
       "\\item 'iamb\\_4\\_\\_30 42'\n",
       "\\item 'iamb\\_4\\_\\_12 42'\n",
       "\\item 'iamb\\_4\\_\\_10 27'\n",
       "\\item 'iamb\\_4\\_\\_12 55'\n",
       "\\item 'iamb\\_4\\_\\_21 24'\n",
       "\\item 'iamb\\_4\\_\\_27 54'\n",
       "\\end{enumerate*}\n"
      ],
      "text/markdown": [
       "1. 'iamb_4__30 42'\n",
       "2. 'iamb_4__12 42'\n",
       "3. 'iamb_4__10 27'\n",
       "4. 'iamb_4__12 55'\n",
       "5. 'iamb_4__21 24'\n",
       "6. 'iamb_4__27 54'\n",
       "\n",
       "\n"
      ],
      "text/plain": [
       "[1] \"iamb_4__30 42\" \"iamb_4__12 42\" \"iamb_4__10 27\" \"iamb_4__12 55\"\n",
       "[5] \"iamb_4__21 24\" \"iamb_4__27 54\""
      ]
     },
     "metadata": {},
     "output_type": "display_data"
    },
    {
     "data": {
      "text/html": [
       "<table class=\"dataframe\">\n",
       "<caption>A tibble: 3 × 2</caption>\n",
       "<thead>\n",
       "\t<tr><th scope=col>meter</th><th scope=col>n</th></tr>\n",
       "\t<tr><th scope=col>&lt;chr&gt;</th><th scope=col>&lt;int&gt;</th></tr>\n",
       "</thead>\n",
       "<tbody>\n",
       "\t<tr><td>iamb_4   </td><td>42</td></tr>\n",
       "\t<tr><td>trochee_4</td><td> 7</td></tr>\n",
       "\t<tr><td>iamb_6   </td><td> 1</td></tr>\n",
       "</tbody>\n",
       "</table>\n"
      ],
      "text/latex": [
       "A tibble: 3 × 2\n",
       "\\begin{tabular}{ll}\n",
       " meter & n\\\\\n",
       " <chr> & <int>\\\\\n",
       "\\hline\n",
       "\t iamb\\_4    & 42\\\\\n",
       "\t trochee\\_4 &  7\\\\\n",
       "\t iamb\\_6    &  1\\\\\n",
       "\\end{tabular}\n"
      ],
      "text/markdown": [
       "\n",
       "A tibble: 3 × 2\n",
       "\n",
       "| meter &lt;chr&gt; | n &lt;int&gt; |\n",
       "|---|---|\n",
       "| iamb_4    | 42 |\n",
       "| trochee_4 |  7 |\n",
       "| iamb_6    |  1 |\n",
       "\n"
      ],
      "text/plain": [
       "  meter     n \n",
       "1 iamb_4    42\n",
       "2 trochee_4  7\n",
       "3 iamb_6     1"
      ]
     },
     "metadata": {},
     "output_type": "display_data"
    }
   ],
   "source": [
    "head(edges_intersection)\n",
    "tibble(t = edges_intersection,\n",
    "      meter = str_remove_all(t, \"__.*?$\"),\n",
    "      edge = str_remove_all(t, \"^.*?__\")) %>% \n",
    "    select(-t) %>% \n",
    "    filter(meter %in% c(\"iamb_4\", \"iamb_6\", \"trochee_4\")) %>% \n",
    "    count(meter, sort = T)"
   ]
  },
  {
   "cell_type": "code",
   "execution_count": 23,
   "id": "45428ee5",
   "metadata": {},
   "outputs": [
    {
     "data": {
      "text/html": [
       "<table class=\"dataframe\">\n",
       "<caption>A tibble: 2 × 4</caption>\n",
       "<thead>\n",
       "\t<tr><th scope=col>corpus</th><th scope=col>iamb_4</th><th scope=col>iamb_6</th><th scope=col>trochee_4</th></tr>\n",
       "\t<tr><th scope=col>&lt;chr&gt;</th><th scope=col>&lt;dbl&gt;</th><th scope=col>&lt;dbl&gt;</th><th scope=col>&lt;dbl&gt;</th></tr>\n",
       "</thead>\n",
       "<tbody>\n",
       "\t<tr><td>P</td><td>0.070</td><td>0.005</td><td>0.017</td></tr>\n",
       "\t<tr><td>N</td><td>0.063</td><td>0.005</td><td>0.015</td></tr>\n",
       "</tbody>\n",
       "</table>\n"
      ],
      "text/latex": [
       "A tibble: 2 × 4\n",
       "\\begin{tabular}{llll}\n",
       " corpus & iamb\\_4 & iamb\\_6 & trochee\\_4\\\\\n",
       " <chr> & <dbl> & <dbl> & <dbl>\\\\\n",
       "\\hline\n",
       "\t P & 0.070 & 0.005 & 0.017\\\\\n",
       "\t N & 0.063 & 0.005 & 0.015\\\\\n",
       "\\end{tabular}\n"
      ],
      "text/markdown": [
       "\n",
       "A tibble: 2 × 4\n",
       "\n",
       "| corpus &lt;chr&gt; | iamb_4 &lt;dbl&gt; | iamb_6 &lt;dbl&gt; | trochee_4 &lt;dbl&gt; |\n",
       "|---|---|---|---|\n",
       "| P | 0.070 | 0.005 | 0.017 |\n",
       "| N | 0.063 | 0.005 | 0.015 |\n",
       "\n"
      ],
      "text/plain": [
       "  corpus iamb_4 iamb_6 trochee_4\n",
       "1 P      0.070  0.005  0.017    \n",
       "2 N      0.063  0.005  0.015    "
      ]
     },
     "metadata": {},
     "output_type": "display_data"
    },
    {
     "data": {
      "text/html": [
       "<table class=\"dataframe\">\n",
       "<caption>A tibble: 6 × 6</caption>\n",
       "<thead>\n",
       "\t<tr><th scope=col>corpus</th><th scope=col>meter</th><th scope=col>n_edges_total</th><th scope=col>density</th><th scope=col>n_intersections</th><th scope=col>perc_intersected</th></tr>\n",
       "\t<tr><th scope=col>&lt;chr&gt;</th><th scope=col>&lt;chr&gt;</th><th scope=col>&lt;int&gt;</th><th scope=col>&lt;dbl&gt;</th><th scope=col>&lt;int&gt;</th><th scope=col>&lt;dbl&gt;</th></tr>\n",
       "</thead>\n",
       "<tbody>\n",
       "\t<tr><td>N</td><td>iamb_4   </td><td>165</td><td>0.063</td><td>42</td><td>25.5</td></tr>\n",
       "\t<tr><td>P</td><td>iamb_4   </td><td>185</td><td>0.070</td><td>42</td><td>22.7</td></tr>\n",
       "\t<tr><td>N</td><td>iamb_6   </td><td> 12</td><td>0.005</td><td> 1</td><td> 8.3</td></tr>\n",
       "\t<tr><td>P</td><td>iamb_6   </td><td> 12</td><td>0.005</td><td> 1</td><td> 8.3</td></tr>\n",
       "\t<tr><td>N</td><td>trochee_4</td><td> 39</td><td>0.015</td><td> 7</td><td>17.9</td></tr>\n",
       "\t<tr><td>P</td><td>trochee_4</td><td> 44</td><td>0.017</td><td> 7</td><td>15.9</td></tr>\n",
       "</tbody>\n",
       "</table>\n"
      ],
      "text/latex": [
       "A tibble: 6 × 6\n",
       "\\begin{tabular}{llllll}\n",
       " corpus & meter & n\\_edges\\_total & density & n\\_intersections & perc\\_intersected\\\\\n",
       " <chr> & <chr> & <int> & <dbl> & <int> & <dbl>\\\\\n",
       "\\hline\n",
       "\t N & iamb\\_4    & 165 & 0.063 & 42 & 25.5\\\\\n",
       "\t P & iamb\\_4    & 185 & 0.070 & 42 & 22.7\\\\\n",
       "\t N & iamb\\_6    &  12 & 0.005 &  1 &  8.3\\\\\n",
       "\t P & iamb\\_6    &  12 & 0.005 &  1 &  8.3\\\\\n",
       "\t N & trochee\\_4 &  39 & 0.015 &  7 & 17.9\\\\\n",
       "\t P & trochee\\_4 &  44 & 0.017 &  7 & 15.9\\\\\n",
       "\\end{tabular}\n"
      ],
      "text/markdown": [
       "\n",
       "A tibble: 6 × 6\n",
       "\n",
       "| corpus &lt;chr&gt; | meter &lt;chr&gt; | n_edges_total &lt;int&gt; | density &lt;dbl&gt; | n_intersections &lt;int&gt; | perc_intersected &lt;dbl&gt; |\n",
       "|---|---|---|---|---|---|\n",
       "| N | iamb_4    | 165 | 0.063 | 42 | 25.5 |\n",
       "| P | iamb_4    | 185 | 0.070 | 42 | 22.7 |\n",
       "| N | iamb_6    |  12 | 0.005 |  1 |  8.3 |\n",
       "| P | iamb_6    |  12 | 0.005 |  1 |  8.3 |\n",
       "| N | trochee_4 |  39 | 0.015 |  7 | 17.9 |\n",
       "| P | trochee_4 |  44 | 0.017 |  7 | 15.9 |\n",
       "\n"
      ],
      "text/plain": [
       "  corpus meter     n_edges_total density n_intersections perc_intersected\n",
       "1 N      iamb_4    165           0.063   42              25.5            \n",
       "2 P      iamb_4    185           0.070   42              22.7            \n",
       "3 N      iamb_6     12           0.005    1               8.3            \n",
       "4 P      iamb_6     12           0.005    1               8.3            \n",
       "5 N      trochee_4  39           0.015    7              17.9            \n",
       "6 P      trochee_4  44           0.017    7              15.9            "
      ]
     },
     "metadata": {},
     "output_type": "display_data"
    }
   ],
   "source": [
    "densities <- tibble(\n",
    "      corpus = c(\"P\", \"N\"),\n",
    "      iamb_4 = round(density_vector(\"iamb_4\"), 3),\n",
    "      iamb_6 = round(density_vector(\"iamb_6\"), 3),\n",
    "      trochee_4 = round(density_vector(\"trochee_4\"), 3),\n",
    "      ) \n",
    "\n",
    "densities\n",
    "\n",
    "\n",
    "# calculate number of edge intersections in each meter\n",
    "# variable \"edges_intersection\" needed!!\n",
    "n_intersections <- tibble(\n",
    "    # create a tibble out of vector edges intersection\n",
    "    t = edges_intersection,\n",
    "      meter = str_remove_all(t, \"__.*?$\"),\n",
    "      edge = str_remove_all(t, \"^.*?__\")) %>% \n",
    "    select(-t) %>% \n",
    "    # count\n",
    "    filter(meter %in% c(\"iamb_4\", \"iamb_6\", \"trochee_4\")) %>% \n",
    "    count(meter, sort = T) %>% \n",
    "    rename(n_intersections = n)\n",
    "\n",
    "\n",
    "meters_stats <- edgelist %>% \n",
    "    # count total number of connections\n",
    "    filter(meter %in% c(\"iamb_4\", \"iamb_6\", \"trochee_4\")) %>% \n",
    "    group_by(meter, corpus) %>% \n",
    "    count(sort = F) %>% \n",
    "    rename(n_edges_total = n) %>% \n",
    "\n",
    "    # add data on densities\n",
    "    unite(\"corpus_meter\", corpus:meter, sep = \"__\")  %>% \n",
    "    left_join(densities %>% \n",
    "              pivot_longer(!corpus, names_to = \"meter\", values_to = \"density\") %>% \n",
    "              unite(\"corpus_meter\", corpus:meter,  sep = \"__\"), \n",
    "             by = \"corpus_meter\") %>% \n",
    "    separate(corpus_meter, into = c(\"corpus\", \"meter\"), sep = \"__\") %>% \n",
    "\n",
    "    # add column on number of intersections\n",
    "    left_join(n_intersections, by = \"meter\") %>% \n",
    "    mutate(perc_intersected = round((n_intersections/n_edges_total)*100, 1))\n",
    "\n",
    "meters_stats"
   ]
  },
  {
   "cell_type": "markdown",
   "id": "03f33d7f",
   "metadata": {},
   "source": [
    "#### Comparison of connections"
   ]
  },
  {
   "cell_type": "code",
   "execution_count": 24,
   "id": "2703554a",
   "metadata": {},
   "outputs": [
    {
     "data": {
      "text/html": [
       "<style>\n",
       ".list-inline {list-style: none; margin:0; padding: 0}\n",
       ".list-inline>li {display: inline-block}\n",
       ".list-inline>li:not(:last-child)::after {content: \"\\00b7\"; padding: 0 .5ex}\n",
       "</style>\n",
       "<ol class=list-inline><li>'iamb_4__30 42'</li><li>'iamb_4__12 42'</li><li>'iamb_4__10 27'</li><li>'iamb_4__12 55'</li><li>'iamb_4__21 24'</li><li>'iamb_4__27 54'</li></ol>\n"
      ],
      "text/latex": [
       "\\begin{enumerate*}\n",
       "\\item 'iamb\\_4\\_\\_30 42'\n",
       "\\item 'iamb\\_4\\_\\_12 42'\n",
       "\\item 'iamb\\_4\\_\\_10 27'\n",
       "\\item 'iamb\\_4\\_\\_12 55'\n",
       "\\item 'iamb\\_4\\_\\_21 24'\n",
       "\\item 'iamb\\_4\\_\\_27 54'\n",
       "\\end{enumerate*}\n"
      ],
      "text/markdown": [
       "1. 'iamb_4__30 42'\n",
       "2. 'iamb_4__12 42'\n",
       "3. 'iamb_4__10 27'\n",
       "4. 'iamb_4__12 55'\n",
       "5. 'iamb_4__21 24'\n",
       "6. 'iamb_4__27 54'\n",
       "\n",
       "\n"
      ],
      "text/plain": [
       "[1] \"iamb_4__30 42\" \"iamb_4__12 42\" \"iamb_4__10 27\" \"iamb_4__12 55\"\n",
       "[5] \"iamb_4__21 24\" \"iamb_4__27 54\""
      ]
     },
     "metadata": {},
     "output_type": "display_data"
    },
    {
     "data": {
      "text/html": [
       "59"
      ],
      "text/latex": [
       "59"
      ],
      "text/markdown": [
       "59"
      ],
      "text/plain": [
       "[1] 59"
      ]
     },
     "metadata": {},
     "output_type": "display_data"
    }
   ],
   "source": [
    "links_n <- links_1830 %>% \n",
    "  filter(corpus == \"N\" & meter %in% c(\"iamb_4\", \"iamb_6\", \"iamb_free\", \"trochee_4\")) %>% \n",
    "  mutate(connection = paste0(meter, \"__\", edge_id)) %>% \n",
    "  select(connection) \n",
    "\n",
    "links_p <- links_1830 %>% \n",
    "  filter(corpus == \"P\" & meter %in% c(\"iamb_4\", \"iamb_6\", \"iamb_free\", \"trochee_4\")) %>% \n",
    "  mutate(connection = paste0(meter, \"__\", edge_id)) %>% \n",
    "  select(connection) \n",
    "  \n",
    "t <- intersect(links_n$connection, links_p$connection)\n",
    "\n",
    "head(t)\n",
    "length(t)\n",
    "\n"
   ]
  },
  {
   "cell_type": "code",
   "execution_count": 25,
   "id": "89f853e2",
   "metadata": {},
   "outputs": [
    {
     "data": {
      "text/html": [
       "<table class=\"dataframe\">\n",
       "<caption>A grouped_df: 12 × 3</caption>\n",
       "<thead>\n",
       "\t<tr><th scope=col>corpus_new</th><th scope=col>meter</th><th scope=col>n</th></tr>\n",
       "\t<tr><th scope=col>&lt;chr&gt;</th><th scope=col>&lt;chr&gt;</th><th scope=col>&lt;int&gt;</th></tr>\n",
       "</thead>\n",
       "<tbody>\n",
       "\t<tr><td>Both           </td><td>iamb_4   </td><td> 84</td></tr>\n",
       "\t<tr><td>Both           </td><td>iamb_6   </td><td>  2</td></tr>\n",
       "\t<tr><td>Both           </td><td>iamb_free</td><td> 18</td></tr>\n",
       "\t<tr><td>Both           </td><td>trochee_4</td><td> 14</td></tr>\n",
       "\t<tr><td>National corpus</td><td>iamb_4   </td><td>123</td></tr>\n",
       "\t<tr><td>National corpus</td><td>iamb_6   </td><td> 11</td></tr>\n",
       "\t<tr><td>National corpus</td><td>iamb_free</td><td> 27</td></tr>\n",
       "\t<tr><td>National corpus</td><td>trochee_4</td><td> 32</td></tr>\n",
       "\t<tr><td>Periodicals    </td><td>iamb_4   </td><td>143</td></tr>\n",
       "\t<tr><td>Periodicals    </td><td>iamb_6   </td><td> 11</td></tr>\n",
       "\t<tr><td>Periodicals    </td><td>iamb_free</td><td>105</td></tr>\n",
       "\t<tr><td>Periodicals    </td><td>trochee_4</td><td> 37</td></tr>\n",
       "</tbody>\n",
       "</table>\n"
      ],
      "text/latex": [
       "A grouped\\_df: 12 × 3\n",
       "\\begin{tabular}{lll}\n",
       " corpus\\_new & meter & n\\\\\n",
       " <chr> & <chr> & <int>\\\\\n",
       "\\hline\n",
       "\t Both            & iamb\\_4    &  84\\\\\n",
       "\t Both            & iamb\\_6    &   2\\\\\n",
       "\t Both            & iamb\\_free &  18\\\\\n",
       "\t Both            & trochee\\_4 &  14\\\\\n",
       "\t National corpus & iamb\\_4    & 123\\\\\n",
       "\t National corpus & iamb\\_6    &  11\\\\\n",
       "\t National corpus & iamb\\_free &  27\\\\\n",
       "\t National corpus & trochee\\_4 &  32\\\\\n",
       "\t Periodicals     & iamb\\_4    & 143\\\\\n",
       "\t Periodicals     & iamb\\_6    &  11\\\\\n",
       "\t Periodicals     & iamb\\_free & 105\\\\\n",
       "\t Periodicals     & trochee\\_4 &  37\\\\\n",
       "\\end{tabular}\n"
      ],
      "text/markdown": [
       "\n",
       "A grouped_df: 12 × 3\n",
       "\n",
       "| corpus_new &lt;chr&gt; | meter &lt;chr&gt; | n &lt;int&gt; |\n",
       "|---|---|---|\n",
       "| Both            | iamb_4    |  84 |\n",
       "| Both            | iamb_6    |   2 |\n",
       "| Both            | iamb_free |  18 |\n",
       "| Both            | trochee_4 |  14 |\n",
       "| National corpus | iamb_4    | 123 |\n",
       "| National corpus | iamb_6    |  11 |\n",
       "| National corpus | iamb_free |  27 |\n",
       "| National corpus | trochee_4 |  32 |\n",
       "| Periodicals     | iamb_4    | 143 |\n",
       "| Periodicals     | iamb_6    |  11 |\n",
       "| Periodicals     | iamb_free | 105 |\n",
       "| Periodicals     | trochee_4 |  37 |\n",
       "\n"
      ],
      "text/plain": [
       "   corpus_new      meter     n  \n",
       "1  Both            iamb_4     84\n",
       "2  Both            iamb_6      2\n",
       "3  Both            iamb_free  18\n",
       "4  Both            trochee_4  14\n",
       "5  National corpus iamb_4    123\n",
       "6  National corpus iamb_6     11\n",
       "7  National corpus iamb_free  27\n",
       "8  National corpus trochee_4  32\n",
       "9  Periodicals     iamb_4    143\n",
       "10 Periodicals     iamb_6     11\n",
       "11 Periodicals     iamb_free 105\n",
       "12 Periodicals     trochee_4  37"
      ]
     },
     "metadata": {},
     "output_type": "display_data"
    }
   ],
   "source": [
    "links_1830 %>% \n",
    "  filter(meter %in% c(\"iamb_4\", \"iamb_6\", \"iamb_free\", \"trochee_4\")) %>% \n",
    "  mutate(connection = paste0(meter, \"__\", edge_id)) %>% \n",
    "  mutate(corpus_new = ifelse(connection %in% t, \"Both\", corpus)) %>% \n",
    "  mutate(corpus_new = recode(corpus_new, \n",
    "                           \"N\" = \"National corpus\", \n",
    "                           \"P\" = \"Periodicals\")) %>% \n",
    "  group_by(corpus_new, meter) %>% \n",
    "  count()"
   ]
  },
  {
   "cell_type": "code",
   "execution_count": 26,
   "id": "d69193f5",
   "metadata": {},
   "outputs": [
    {
     "data": {
      "image/png": "[encoded data removed]",
      "text/plain": [
       "plot without title"
      ]
     },
     "metadata": {
      "image/png": {
       "height": 420,
       "width": 420
      }
     },
     "output_type": "display_data"
    }
   ],
   "source": [
    "links_1830 %>% \n",
    "  filter(meter %in% c(\"iamb_4\", \"iamb_6\", \"iamb_free\", \"trochee_4\")) %>% \n",
    "  mutate(connection = paste0(meter, \"__\", edge_id)) %>% \n",
    "  mutate(corpus_new = ifelse(connection %in% t, \"Both corpora\", corpus)) %>% \n",
    "  mutate(corpus_new = recode(corpus_new, \n",
    "                           \"N\" = \"National corpus only\", \n",
    "                           \"P\" = \"Periodicals only\")) %>% \n",
    "  # first select unique connections and assign to both/P/N\n",
    "  group_by(corpus_new, meter, edge_id) %>%\n",
    "  count() %>% \n",
    "  select(-n) %>% \n",
    "  distinct() %>%\n",
    "  # ungroup & count by large groups again\n",
    "  ungroup() %>% \n",
    "  group_by(corpus_new, meter) %>% \n",
    "  count(sort = T) %>% \n",
    "  arrange(desc(meter)) %>% \n",
    "  ggplot(aes(x = meter,\n",
    "           y = n,\n",
    "           group = corpus_new,\n",
    "           fill = corpus_new)) +\n",
    "  geom_col(position = \"dodge\") +\n",
    "  labs(x = \"Meter\",\n",
    "       y = \"\", \n",
    "       fill = \"Corpus\",\n",
    "       subtitle = \"Number of unique connections found in RNC vs Periodicals\") + \n",
    "  scale_fill_manual(values = c(wes_palette(\"Rushmore1\")[3:5])) + \n",
    "  theme(axis.text = element_text(size = 11), \n",
    "        plot.subtitle = element_text(hjust = 0.5))"
   ]
  },
  {
   "cell_type": "code",
   "execution_count": null,
   "id": "43362a27",
   "metadata": {},
   "outputs": [],
   "source": []
  }
 ],
 "metadata": {
  "kernelspec": {
   "display_name": "R",
   "language": "R",
   "name": "ir"
  },
  "language_info": {
   "codemirror_mode": "r",
   "file_extension": ".r",
   "mimetype": "text/x-r-source",
   "name": "R",
   "pygments_lexer": "r",
   "version": "4.2.1"
  }
 },
 "nbformat": 4,
 "nbformat_minor": 5
}
