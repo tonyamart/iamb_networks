{
 "cells": [
  {
   "attachments": {},
   "cell_type": "markdown",
   "metadata": {},
   "source": [
    "# 03 Networks exploration\n",
    "\n",
    "This notebook shows how networks were built and visualised based on the output from the topic model."
   ]
  },
  {
   "cell_type": "code",
   "execution_count": 1,
   "metadata": {
    "vscode": {
     "languageId": "r"
    }
   },
   "outputs": [
    {
     "name": "stderr",
     "output_type": "stream",
     "text": [
      "── \u001b[1mAttaching packages\u001b[22m ─────────────────────────────────────── tidyverse 1.3.2 ──\n",
      "\u001b[32m✔\u001b[39m \u001b[34mggplot2\u001b[39m 3.4.1     \u001b[32m✔\u001b[39m \u001b[34mpurrr  \u001b[39m 1.0.1\n",
      "\u001b[32m✔\u001b[39m \u001b[34mtibble \u001b[39m 3.1.8     \u001b[32m✔\u001b[39m \u001b[34mdplyr  \u001b[39m 1.1.0\n",
      "\u001b[32m✔\u001b[39m \u001b[34mtidyr  \u001b[39m 1.3.0     \u001b[32m✔\u001b[39m \u001b[34mstringr\u001b[39m 1.5.0\n",
      "\u001b[32m✔\u001b[39m \u001b[34mreadr  \u001b[39m 2.1.4     \u001b[32m✔\u001b[39m \u001b[34mforcats\u001b[39m 1.0.0\n",
      "── \u001b[1mConflicts\u001b[22m ────────────────────────────────────────── tidyverse_conflicts() ──\n",
      "\u001b[31m✖\u001b[39m \u001b[34mdplyr\u001b[39m::\u001b[32mfilter()\u001b[39m masks \u001b[34mstats\u001b[39m::filter()\n",
      "\u001b[31m✖\u001b[39m \u001b[34mdplyr\u001b[39m::\u001b[32mlag()\u001b[39m    masks \u001b[34mstats\u001b[39m::lag()\n",
      "\n",
      "Dołączanie pakietu: ‘igraph’\n",
      "\n",
      "\n",
      "Następujące obiekty zostały zakryte z ‘package:dplyr’:\n",
      "\n",
      "    as_data_frame, groups, union\n",
      "\n",
      "\n",
      "Następujące obiekty zostały zakryte z ‘package:purrr’:\n",
      "\n",
      "    compose, simplify\n",
      "\n",
      "\n",
      "Następujący obiekt został zakryty z ‘package:tidyr’:\n",
      "\n",
      "    crossing\n",
      "\n",
      "\n",
      "Następujący obiekt został zakryty z ‘package:tibble’:\n",
      "\n",
      "    as_data_frame\n",
      "\n",
      "\n",
      "Następujące obiekty zostały zakryte z ‘package:stats’:\n",
      "\n",
      "    decompose, spectrum\n",
      "\n",
      "\n",
      "Następujący obiekt został zakryty z ‘package:base’:\n",
      "\n",
      "    union\n",
      "\n",
      "\n",
      "Ładowanie wymaganego pakietu: statnet.common\n",
      "\n",
      "\n",
      "Dołączanie pakietu: ‘statnet.common’\n",
      "\n",
      "\n",
      "Następujące obiekty zostały zakryte z ‘package:base’:\n",
      "\n",
      "    attr, order\n",
      "\n",
      "\n",
      "Ładowanie wymaganego pakietu: network\n",
      "\n",
      "\n",
      "‘network’ 1.18.1 (2023-01-24), part of the Statnet Project\n",
      "* ‘news(package=\"network\")’ for changes since last version\n",
      "* ‘citation(\"network\")’ for citation information\n",
      "* ‘https://statnet.org’ for help, support, and other information\n",
      "\n",
      "\n",
      "\n",
      "Dołączanie pakietu: ‘network’\n",
      "\n",
      "\n",
      "Następujące obiekty zostały zakryte z ‘package:igraph’:\n",
      "\n",
      "    %c%, %s%, add.edges, add.vertices, delete.edges, delete.vertices,\n",
      "    get.edge.attribute, get.edges, get.vertex.attribute, is.bipartite,\n",
      "    is.directed, list.edge.attributes, list.vertex.attributes,\n",
      "    set.edge.attribute, set.vertex.attribute\n",
      "\n",
      "\n",
      "sna: Tools for Social Network Analysis\n",
      "Version 2.7-1 created on 2023-01-24.\n",
      "copyright (c) 2005, Carter T. Butts, University of California-Irvine\n",
      " For citation information, type citation(\"sna\").\n",
      " Type help(package=\"sna\") to get started.\n",
      "\n",
      "\n",
      "\n",
      "Dołączanie pakietu: ‘sna’\n",
      "\n",
      "\n",
      "Następujące obiekty zostały zakryte z ‘package:igraph’:\n",
      "\n",
      "    betweenness, bonpow, closeness, components, degree, dyad.census,\n",
      "    evcent, hierarchy, is.connected, neighborhood, triad.census\n",
      "\n",
      "\n"
     ]
    }
   ],
   "source": [
    "library(tidyverse)\n",
    "library(tidytext)\n",
    "library(topicmodels)\n",
    "\n",
    "library(igraph)\n",
    "library(sna)\n",
    "library(ggraph)\n",
    "\n",
    "library(wesanderson)\n",
    "library(patchwork)\n",
    "theme_set(theme_minimal())"
   ]
  },
  {
   "cell_type": "code",
   "execution_count": 13,
   "metadata": {
    "vscode": {
     "languageId": "r"
    }
   },
   "outputs": [],
   "source": [
    "# load model output\n",
    "load(\"../data/lda75_output.Rda\")\n",
    "\n",
    "# load code for edges calculation\n",
    "source(\"03_fn_calculate_edges.R\")\n",
    "\n",
    "# function to extract topic lables:\n",
    "get_topic_labels = function(x, n_labels = 10) {\n",
    "  \n",
    "  #takes beta-matrix as an input\n",
    "  top_terms = x %>%\n",
    "    group_by(topic) %>%\n",
    "    top_n(20, beta) %>%\n",
    "    ungroup() %>%\n",
    "    arrange(topic, -beta)\n",
    "  \n",
    "  topic_labels = top_terms %>%\n",
    "    group_by(topic) %>%\n",
    "    top_n(n_labels, beta) %>%\n",
    "    summarise(label=paste(term, collapse=\" \")) %>%\n",
    "    mutate(label = paste(topic, label, sep=\"_\"))\n",
    "  \n",
    "  return(topic_labels)\n",
    "}"
   ]
  },
  {
   "cell_type": "code",
   "execution_count": 14,
   "metadata": {
    "vscode": {
     "languageId": "r"
    }
   },
   "outputs": [
    {
     "name": "stdout",
     "output_type": "stream",
     "text": [
      "Rows: 1,076,700\n",
      "Columns: 8\n",
      "$ corpus     \u001b[3m\u001b[90m<chr>\u001b[39m\u001b[23m \"N\", \"N\", \"N\", \"N\", \"N\", \"N\", \"N\", \"N\", \"N\", \"N\", \"N\", \"N\",…\n",
      "$ id         \u001b[3m\u001b[90m<chr>\u001b[39m\u001b[23m \"1-1\", \"1-2\", \"1-3\", \"10-1\", \"10-2\", \"100-1\", \"100-2\", \"100…\n",
      "$ year       \u001b[3m\u001b[90m<chr>\u001b[39m\u001b[23m \"1785\", \"1785\", \"1785\", \"1803\", \"1803\", \"1810\", \"1810\", \"18…\n",
      "$ first_line \u001b[3m\u001b[90m<chr>\u001b[39m\u001b[23m \"ЕщеВкругСолнцевНеВращаться\", \"НеТвойЛиПламеньОбитать\", \"Он…\n",
      "$ formula    \u001b[3m\u001b[90m<chr>\u001b[39m\u001b[23m \"iamb_4\", \"iamb_4\", \"iamb_4\", \"iamb_4\", \"iamb_4\", \"iamb_6\",…\n",
      "$ topic      \u001b[3m\u001b[90m<int>\u001b[39m\u001b[23m 1, 1, 1, 1, 1, 1, 1, 1, 1, 1, 1, 1, 1, 1, 1, 1, 1, 1, 1, 1,…\n",
      "$ gamma      \u001b[3m\u001b[90m<dbl>\u001b[39m\u001b[23m 0.019108280, 0.006211180, 0.006451613, 0.006211180, 0.00763…\n",
      "$ index      \u001b[3m\u001b[90m<chr>\u001b[39m\u001b[23m \"N_1-1\", \"N_1-2\", \"N_1-3\", \"N_10-1\", \"N_10-2\", \"N_100-1\", \"…\n"
     ]
    }
   ],
   "source": [
    "gamma <- gamma %>% \n",
    "    mutate(index = paste0(corpus, \"_\", id))\n",
    "\n",
    "glimpse(gamma)"
   ]
  },
  {
   "attachments": {},
   "cell_type": "markdown",
   "metadata": {},
   "source": [
    "Extract topic labels"
   ]
  },
  {
   "cell_type": "code",
   "execution_count": 7,
   "metadata": {
    "vscode": {
     "languageId": "r"
    }
   },
   "outputs": [
    {
     "data": {
      "text/html": [
       "<table class=\"dataframe\">\n",
       "<caption>A tibble: 6 × 2</caption>\n",
       "<thead>\n",
       "\t<tr><th scope=col>topic</th><th scope=col>label</th></tr>\n",
       "\t<tr><th scope=col>&lt;int&gt;</th><th scope=col>&lt;chr&gt;</th></tr>\n",
       "</thead>\n",
       "<tbody>\n",
       "\t<tr><td>1</td><td>1_старик девица красный молодой старый</td></tr>\n",
       "\t<tr><td>2</td><td>2_брат два жена муж другой            </td></tr>\n",
       "\t<tr><td>3</td><td>3_искать исчезать везде дух след      </td></tr>\n",
       "\t<tr><td>4</td><td>4_дева прекрасный краса чистый молодой</td></tr>\n",
       "\t<tr><td>5</td><td>5_бог давать сила боже господь        </td></tr>\n",
       "\t<tr><td>6</td><td>6_слава великий герой отечество россия</td></tr>\n",
       "</tbody>\n",
       "</table>\n"
      ],
      "text/latex": [
       "A tibble: 6 × 2\n",
       "\\begin{tabular}{ll}\n",
       " topic & label\\\\\n",
       " <int> & <chr>\\\\\n",
       "\\hline\n",
       "\t 1 & 1\\_старик девица красный молодой старый\\\\\n",
       "\t 2 & 2\\_брат два жена муж другой            \\\\\n",
       "\t 3 & 3\\_искать исчезать везде дух след      \\\\\n",
       "\t 4 & 4\\_дева прекрасный краса чистый молодой\\\\\n",
       "\t 5 & 5\\_бог давать сила боже господь        \\\\\n",
       "\t 6 & 6\\_слава великий герой отечество россия\\\\\n",
       "\\end{tabular}\n"
      ],
      "text/markdown": [
       "\n",
       "A tibble: 6 × 2\n",
       "\n",
       "| topic &lt;int&gt; | label &lt;chr&gt; |\n",
       "|---|---|\n",
       "| 1 | 1_старик девица красный молодой старый |\n",
       "| 2 | 2_брат два жена муж другой             |\n",
       "| 3 | 3_искать исчезать везде дух след       |\n",
       "| 4 | 4_дева прекрасный краса чистый молодой |\n",
       "| 5 | 5_бог давать сила боже господь         |\n",
       "| 6 | 6_слава великий герой отечество россия |\n",
       "\n"
      ],
      "text/plain": [
       "  topic label                                 \n",
       "1 1     1_старик девица красный молодой старый\n",
       "2 2     2_брат два жена муж другой            \n",
       "3 3     3_искать исчезать везде дух след      \n",
       "4 4     4_дева прекрасный краса чистый молодой\n",
       "5 5     5_бог давать сила боже господь        \n",
       "6 6     6_слава великий герой отечество россия"
      ]
     },
     "metadata": {},
     "output_type": "display_data"
    }
   ],
   "source": [
    "topic_labels <- get_topic_labels(beta, n_labels = 5)\n",
    "head(topic_labels)"
   ]
  },
  {
   "attachments": {},
   "cell_type": "markdown",
   "metadata": {},
   "source": [
    "Create edges: detect highly probable topics appeared in the same poems"
   ]
  },
  {
   "cell_type": "code",
   "execution_count": 16,
   "metadata": {
    "vscode": {
     "languageId": "r"
    }
   },
   "outputs": [
    {
     "data": {
      "text/html": [
       "<table class=\"dataframe\">\n",
       "<caption>A grouped_df: 6 × 14</caption>\n",
       "<thead>\n",
       "\t<tr><th scope=col>corpus</th><th scope=col>id</th><th scope=col>year</th><th scope=col>first_line</th><th scope=col>formula</th><th scope=col>topic</th><th scope=col>gamma</th><th scope=col>index</th><th scope=col>from</th><th scope=col>to</th><th scope=col>slice</th><th scope=col>edge_id</th><th scope=col>source</th><th scope=col>target</th></tr>\n",
       "\t<tr><th scope=col>&lt;chr&gt;</th><th scope=col>&lt;chr&gt;</th><th scope=col>&lt;chr&gt;</th><th scope=col>&lt;chr&gt;</th><th scope=col>&lt;chr&gt;</th><th scope=col>&lt;int&gt;</th><th scope=col>&lt;dbl&gt;</th><th scope=col>&lt;chr&gt;</th><th scope=col>&lt;int&gt;</th><th scope=col>&lt;int&gt;</th><th scope=col>&lt;dbl&gt;</th><th scope=col>&lt;chr&gt;</th><th scope=col>&lt;chr&gt;</th><th scope=col>&lt;chr&gt;</th></tr>\n",
       "</thead>\n",
       "<tbody>\n",
       "\t<tr><td>N</td><td>10256  </td><td>1814</td><td>ОГореГореМы                        </td><td>iamb_free                </td><td>1</td><td>0.06569343</td><td>N_10256  </td><td>1</td><td>46</td><td>1810</td><td>1 46</td><td>1_старик девица красный молодой старый</td><td>46_стих писать читать перо поэт                 </td></tr>\n",
       "\t<tr><td>N</td><td>10296-1</td><td>1848</td><td>ВдругНеХотетьЛиБратикВино          </td><td>anapaest_регулярная:3+2#3</td><td>1</td><td>0.13548387</td><td>N_10296-1</td><td>1</td><td>15</td><td>1845</td><td>1 15</td><td>1_старик девица красный молодой старый</td><td>15_пить вино чаша пир гость                     </td></tr>\n",
       "\t<tr><td>N</td><td>10296-1</td><td>1848</td><td>ВдругНеХотетьЛиБратикВино          </td><td>anapaest_регулярная:3+2#3</td><td>1</td><td>0.13548387</td><td>N_10296-1</td><td>1</td><td>57</td><td>1845</td><td>1 57</td><td>1_старик девица красный молодой старый</td><td>57_другой хотеть иной становиться говорить      </td></tr>\n",
       "\t<tr><td>N</td><td>10296-1</td><td>1848</td><td>ВдругНеХотетьЛиБратикВино          </td><td>anapaest_регулярная:3+2#3</td><td>1</td><td>0.13548387</td><td>N_10296-1</td><td>1</td><td>58</td><td>1845</td><td>1 58</td><td>1_старик девица красный молодой старый</td><td>58_день ночь тень час утро                      </td></tr>\n",
       "\t<tr><td>N</td><td>10296-1</td><td>1848</td><td>ВдругНеХотетьЛиБратикВино          </td><td>anapaest_регулярная:3+2#3</td><td>1</td><td>0.13548387</td><td>N_10296-1</td><td>1</td><td>59</td><td>1845</td><td>1 59</td><td>1_старик девица красный молодой старый</td><td>59_сказать становиться хорошо говорить приходить</td></tr>\n",
       "\t<tr><td>N</td><td>10302  </td><td>1850</td><td>СпешитьНаЗваныйПирПоУлицаПрегрязный</td><td>iamb_6                   </td><td>1</td><td>0.05660377</td><td>N_10302  </td><td>1</td><td> 3</td><td>1850</td><td>1 3 </td><td>1_старик девица красный молодой старый</td><td>3_искать исчезать везде дух след                </td></tr>\n",
       "</tbody>\n",
       "</table>\n"
      ],
      "text/latex": [
       "A grouped\\_df: 6 × 14\n",
       "\\begin{tabular}{llllllllllllll}\n",
       " corpus & id & year & first\\_line & formula & topic & gamma & index & from & to & slice & edge\\_id & source & target\\\\\n",
       " <chr> & <chr> & <chr> & <chr> & <chr> & <int> & <dbl> & <chr> & <int> & <int> & <dbl> & <chr> & <chr> & <chr>\\\\\n",
       "\\hline\n",
       "\t N & 10256   & 1814 & ОГореГореМы                         & iamb\\_free                 & 1 & 0.06569343 & N\\_10256   & 1 & 46 & 1810 & 1 46 & 1\\_старик девица красный молодой старый & 46\\_стих писать читать перо поэт                 \\\\\n",
       "\t N & 10296-1 & 1848 & ВдругНеХотетьЛиБратикВино           & anapaest\\_регулярная:3+2\\#3 & 1 & 0.13548387 & N\\_10296-1 & 1 & 15 & 1845 & 1 15 & 1\\_старик девица красный молодой старый & 15\\_пить вино чаша пир гость                     \\\\\n",
       "\t N & 10296-1 & 1848 & ВдругНеХотетьЛиБратикВино           & anapaest\\_регулярная:3+2\\#3 & 1 & 0.13548387 & N\\_10296-1 & 1 & 57 & 1845 & 1 57 & 1\\_старик девица красный молодой старый & 57\\_другой хотеть иной становиться говорить      \\\\\n",
       "\t N & 10296-1 & 1848 & ВдругНеХотетьЛиБратикВино           & anapaest\\_регулярная:3+2\\#3 & 1 & 0.13548387 & N\\_10296-1 & 1 & 58 & 1845 & 1 58 & 1\\_старик девица красный молодой старый & 58\\_день ночь тень час утро                      \\\\\n",
       "\t N & 10296-1 & 1848 & ВдругНеХотетьЛиБратикВино           & anapaest\\_регулярная:3+2\\#3 & 1 & 0.13548387 & N\\_10296-1 & 1 & 59 & 1845 & 1 59 & 1\\_старик девица красный молодой старый & 59\\_сказать становиться хорошо говорить приходить\\\\\n",
       "\t N & 10302   & 1850 & СпешитьНаЗваныйПирПоУлицаПрегрязный & iamb\\_6                    & 1 & 0.05660377 & N\\_10302   & 1 &  3 & 1850 & 1 3  & 1\\_старик девица красный молодой старый & 3\\_искать исчезать везде дух след                \\\\\n",
       "\\end{tabular}\n"
      ],
      "text/markdown": [
       "\n",
       "A grouped_df: 6 × 14\n",
       "\n",
       "| corpus &lt;chr&gt; | id &lt;chr&gt; | year &lt;chr&gt; | first_line &lt;chr&gt; | formula &lt;chr&gt; | topic &lt;int&gt; | gamma &lt;dbl&gt; | index &lt;chr&gt; | from &lt;int&gt; | to &lt;int&gt; | slice &lt;dbl&gt; | edge_id &lt;chr&gt; | source &lt;chr&gt; | target &lt;chr&gt; |\n",
       "|---|---|---|---|---|---|---|---|---|---|---|---|---|---|\n",
       "| N | 10256   | 1814 | ОГореГореМы                         | iamb_free                 | 1 | 0.06569343 | N_10256   | 1 | 46 | 1810 | 1 46 | 1_старик девица красный молодой старый | 46_стих писать читать перо поэт                  |\n",
       "| N | 10296-1 | 1848 | ВдругНеХотетьЛиБратикВино           | anapaest_регулярная:3+2#3 | 1 | 0.13548387 | N_10296-1 | 1 | 15 | 1845 | 1 15 | 1_старик девица красный молодой старый | 15_пить вино чаша пир гость                      |\n",
       "| N | 10296-1 | 1848 | ВдругНеХотетьЛиБратикВино           | anapaest_регулярная:3+2#3 | 1 | 0.13548387 | N_10296-1 | 1 | 57 | 1845 | 1 57 | 1_старик девица красный молодой старый | 57_другой хотеть иной становиться говорить       |\n",
       "| N | 10296-1 | 1848 | ВдругНеХотетьЛиБратикВино           | anapaest_регулярная:3+2#3 | 1 | 0.13548387 | N_10296-1 | 1 | 58 | 1845 | 1 58 | 1_старик девица красный молодой старый | 58_день ночь тень час утро                       |\n",
       "| N | 10296-1 | 1848 | ВдругНеХотетьЛиБратикВино           | anapaest_регулярная:3+2#3 | 1 | 0.13548387 | N_10296-1 | 1 | 59 | 1845 | 1 59 | 1_старик девица красный молодой старый | 59_сказать становиться хорошо говорить приходить |\n",
       "| N | 10302   | 1850 | СпешитьНаЗваныйПирПоУлицаПрегрязный | iamb_6                    | 1 | 0.05660377 | N_10302   | 1 |  3 | 1850 | 1 3  | 1_старик девица красный молодой старый | 3_искать исчезать везде дух след                 |\n",
       "\n"
      ],
      "text/plain": [
       "  corpus id      year first_line                         \n",
       "1 N      10256   1814 ОГореГореМы                        \n",
       "2 N      10296-1 1848 ВдругНеХотетьЛиБратикВино          \n",
       "3 N      10296-1 1848 ВдругНеХотетьЛиБратикВино          \n",
       "4 N      10296-1 1848 ВдругНеХотетьЛиБратикВино          \n",
       "5 N      10296-1 1848 ВдругНеХотетьЛиБратикВино          \n",
       "6 N      10302   1850 СпешитьНаЗваныйПирПоУлицаПрегрязный\n",
       "  formula                   topic gamma      index     from to slice edge_id\n",
       "1 iamb_free                 1     0.06569343 N_10256   1    46 1810  1 46   \n",
       "2 anapaest_регулярная:3+2#3 1     0.13548387 N_10296-1 1    15 1845  1 15   \n",
       "3 anapaest_регулярная:3+2#3 1     0.13548387 N_10296-1 1    57 1845  1 57   \n",
       "4 anapaest_регулярная:3+2#3 1     0.13548387 N_10296-1 1    58 1845  1 58   \n",
       "5 anapaest_регулярная:3+2#3 1     0.13548387 N_10296-1 1    59 1845  1 59   \n",
       "6 iamb_6                    1     0.05660377 N_10302   1     3 1850  1 3    \n",
       "  source                                \n",
       "1 1_старик девица красный молодой старый\n",
       "2 1_старик девица красный молодой старый\n",
       "3 1_старик девица красный молодой старый\n",
       "4 1_старик девица красный молодой старый\n",
       "5 1_старик девица красный молодой старый\n",
       "6 1_старик девица красный молодой старый\n",
       "  target                                          \n",
       "1 46_стих писать читать перо поэт                 \n",
       "2 15_пить вино чаша пир гость                     \n",
       "3 57_другой хотеть иной становиться говорить      \n",
       "4 58_день ночь тень час утро                      \n",
       "5 59_сказать становиться хорошо говорить приходить\n",
       "6 3_искать исчезать везде дух след                "
      ]
     },
     "metadata": {},
     "output_type": "display_data"
    },
    {
     "data": {
      "text/html": [
       "<table class=\"dataframe\">\n",
       "<caption>A grouped_df: 6 × 14</caption>\n",
       "<thead>\n",
       "\t<tr><th scope=col>corpus</th><th scope=col>id</th><th scope=col>year</th><th scope=col>first_line</th><th scope=col>formula</th><th scope=col>topic</th><th scope=col>gamma</th><th scope=col>index</th><th scope=col>from</th><th scope=col>to</th><th scope=col>slice</th><th scope=col>edge_id</th><th scope=col>source</th><th scope=col>target</th></tr>\n",
       "\t<tr><th scope=col>&lt;chr&gt;</th><th scope=col>&lt;chr&gt;</th><th scope=col>&lt;chr&gt;</th><th scope=col>&lt;chr&gt;</th><th scope=col>&lt;chr&gt;</th><th scope=col>&lt;int&gt;</th><th scope=col>&lt;dbl&gt;</th><th scope=col>&lt;chr&gt;</th><th scope=col>&lt;int&gt;</th><th scope=col>&lt;int&gt;</th><th scope=col>&lt;dbl&gt;</th><th scope=col>&lt;chr&gt;</th><th scope=col>&lt;chr&gt;</th><th scope=col>&lt;chr&gt;</th></tr>\n",
       "</thead>\n",
       "<tbody>\n",
       "\t<tr><td>P</td><td>1007-1</td><td>1838</td><td>ПрийтиВзглядыватьВеликодушно</td><td>iamb_4   </td><td>1</td><td>0.06285714</td><td>P_1007-1</td><td>1</td><td>13</td><td>1835</td><td>1 13</td><td>1_старик девица красный молодой старый</td><td>13_меч бой враг герой поле           </td></tr>\n",
       "\t<tr><td>P</td><td>1007-1</td><td>1838</td><td>ПрийтиВзглядыватьВеликодушно</td><td>iamb_4   </td><td>1</td><td>0.06285714</td><td>P_1007-1</td><td>1</td><td>39</td><td>1835</td><td>1 39</td><td>1_старик девица красный молодой старый</td><td>39_ум труд свет наука глупец         </td></tr>\n",
       "\t<tr><td>P</td><td>1007-1</td><td>1838</td><td>ПрийтиВзглядыватьВеликодушно</td><td>iamb_4   </td><td>1</td><td>0.06285714</td><td>P_1007-1</td><td>1</td><td>69</td><td>1835</td><td>1 69</td><td>1_старик девица красный молодой старый</td><td>69_царь народ русский царство князь  </td></tr>\n",
       "\t<tr><td>P</td><td>1007-1</td><td>1838</td><td>ПрийтиВзглядыватьВеликодушно</td><td>iamb_4   </td><td>1</td><td>0.06285714</td><td>P_1007-1</td><td>1</td><td>73</td><td>1835</td><td>1 73</td><td>1_старик девица красный молодой старый</td><td>73_конь дорога поле бежать лететь    </td></tr>\n",
       "\t<tr><td>P</td><td>1029  </td><td>1839</td><td>ЗимнийУтроВыходитьДевица    </td><td>trochee_4</td><td>1</td><td>0.07692308</td><td>P_1029  </td><td>1</td><td>32</td><td>1835</td><td>1 32</td><td>1_старик девица красный молодой старый</td><td>32_весна поле снег ветер зима        </td></tr>\n",
       "\t<tr><td>P</td><td>1030-2</td><td>1839</td><td>БытьДедушкаТыВТотВремя      </td><td>trochee_5</td><td>1</td><td>0.12077295</td><td>P_1030-2</td><td>1</td><td>29</td><td>1835</td><td>1 29</td><td>1_старик девица красный молодой старый</td><td>29_слово сказать говорить знать никто</td></tr>\n",
       "</tbody>\n",
       "</table>\n"
      ],
      "text/latex": [
       "A grouped\\_df: 6 × 14\n",
       "\\begin{tabular}{llllllllllllll}\n",
       " corpus & id & year & first\\_line & formula & topic & gamma & index & from & to & slice & edge\\_id & source & target\\\\\n",
       " <chr> & <chr> & <chr> & <chr> & <chr> & <int> & <dbl> & <chr> & <int> & <int> & <dbl> & <chr> & <chr> & <chr>\\\\\n",
       "\\hline\n",
       "\t P & 1007-1 & 1838 & ПрийтиВзглядыватьВеликодушно & iamb\\_4    & 1 & 0.06285714 & P\\_1007-1 & 1 & 13 & 1835 & 1 13 & 1\\_старик девица красный молодой старый & 13\\_меч бой враг герой поле           \\\\\n",
       "\t P & 1007-1 & 1838 & ПрийтиВзглядыватьВеликодушно & iamb\\_4    & 1 & 0.06285714 & P\\_1007-1 & 1 & 39 & 1835 & 1 39 & 1\\_старик девица красный молодой старый & 39\\_ум труд свет наука глупец         \\\\\n",
       "\t P & 1007-1 & 1838 & ПрийтиВзглядыватьВеликодушно & iamb\\_4    & 1 & 0.06285714 & P\\_1007-1 & 1 & 69 & 1835 & 1 69 & 1\\_старик девица красный молодой старый & 69\\_царь народ русский царство князь  \\\\\n",
       "\t P & 1007-1 & 1838 & ПрийтиВзглядыватьВеликодушно & iamb\\_4    & 1 & 0.06285714 & P\\_1007-1 & 1 & 73 & 1835 & 1 73 & 1\\_старик девица красный молодой старый & 73\\_конь дорога поле бежать лететь    \\\\\n",
       "\t P & 1029   & 1839 & ЗимнийУтроВыходитьДевица     & trochee\\_4 & 1 & 0.07692308 & P\\_1029   & 1 & 32 & 1835 & 1 32 & 1\\_старик девица красный молодой старый & 32\\_весна поле снег ветер зима        \\\\\n",
       "\t P & 1030-2 & 1839 & БытьДедушкаТыВТотВремя       & trochee\\_5 & 1 & 0.12077295 & P\\_1030-2 & 1 & 29 & 1835 & 1 29 & 1\\_старик девица красный молодой старый & 29\\_слово сказать говорить знать никто\\\\\n",
       "\\end{tabular}\n"
      ],
      "text/markdown": [
       "\n",
       "A grouped_df: 6 × 14\n",
       "\n",
       "| corpus &lt;chr&gt; | id &lt;chr&gt; | year &lt;chr&gt; | first_line &lt;chr&gt; | formula &lt;chr&gt; | topic &lt;int&gt; | gamma &lt;dbl&gt; | index &lt;chr&gt; | from &lt;int&gt; | to &lt;int&gt; | slice &lt;dbl&gt; | edge_id &lt;chr&gt; | source &lt;chr&gt; | target &lt;chr&gt; |\n",
       "|---|---|---|---|---|---|---|---|---|---|---|---|---|---|\n",
       "| P | 1007-1 | 1838 | ПрийтиВзглядыватьВеликодушно | iamb_4    | 1 | 0.06285714 | P_1007-1 | 1 | 13 | 1835 | 1 13 | 1_старик девица красный молодой старый | 13_меч бой враг герой поле            |\n",
       "| P | 1007-1 | 1838 | ПрийтиВзглядыватьВеликодушно | iamb_4    | 1 | 0.06285714 | P_1007-1 | 1 | 39 | 1835 | 1 39 | 1_старик девица красный молодой старый | 39_ум труд свет наука глупец          |\n",
       "| P | 1007-1 | 1838 | ПрийтиВзглядыватьВеликодушно | iamb_4    | 1 | 0.06285714 | P_1007-1 | 1 | 69 | 1835 | 1 69 | 1_старик девица красный молодой старый | 69_царь народ русский царство князь   |\n",
       "| P | 1007-1 | 1838 | ПрийтиВзглядыватьВеликодушно | iamb_4    | 1 | 0.06285714 | P_1007-1 | 1 | 73 | 1835 | 1 73 | 1_старик девица красный молодой старый | 73_конь дорога поле бежать лететь     |\n",
       "| P | 1029   | 1839 | ЗимнийУтроВыходитьДевица     | trochee_4 | 1 | 0.07692308 | P_1029   | 1 | 32 | 1835 | 1 32 | 1_старик девица красный молодой старый | 32_весна поле снег ветер зима         |\n",
       "| P | 1030-2 | 1839 | БытьДедушкаТыВТотВремя       | trochee_5 | 1 | 0.12077295 | P_1030-2 | 1 | 29 | 1835 | 1 29 | 1_старик девица красный молодой старый | 29_слово сказать говорить знать никто |\n",
       "\n"
      ],
      "text/plain": [
       "  corpus id     year first_line                   formula   topic gamma     \n",
       "1 P      1007-1 1838 ПрийтиВзглядыватьВеликодушно iamb_4    1     0.06285714\n",
       "2 P      1007-1 1838 ПрийтиВзглядыватьВеликодушно iamb_4    1     0.06285714\n",
       "3 P      1007-1 1838 ПрийтиВзглядыватьВеликодушно iamb_4    1     0.06285714\n",
       "4 P      1007-1 1838 ПрийтиВзглядыватьВеликодушно iamb_4    1     0.06285714\n",
       "5 P      1029   1839 ЗимнийУтроВыходитьДевица     trochee_4 1     0.07692308\n",
       "6 P      1030-2 1839 БытьДедушкаТыВТотВремя       trochee_5 1     0.12077295\n",
       "  index    from to slice edge_id source                                \n",
       "1 P_1007-1 1    13 1835  1 13    1_старик девица красный молодой старый\n",
       "2 P_1007-1 1    39 1835  1 39    1_старик девица красный молодой старый\n",
       "3 P_1007-1 1    69 1835  1 69    1_старик девица красный молодой старый\n",
       "4 P_1007-1 1    73 1835  1 73    1_старик девица красный молодой старый\n",
       "5 P_1029   1    32 1835  1 32    1_старик девица красный молодой старый\n",
       "6 P_1030-2 1    29 1835  1 29    1_старик девица красный молодой старый\n",
       "  target                               \n",
       "1 13_меч бой враг герой поле           \n",
       "2 39_ум труд свет наука глупец         \n",
       "3 69_царь народ русский царство князь  \n",
       "4 73_конь дорога поле бежать лететь    \n",
       "5 32_весна поле снег ветер зима        \n",
       "6 29_слово сказать говорить знать никто"
      ]
     },
     "metadata": {},
     "output_type": "display_data"
    }
   ],
   "source": [
    "edges_raw <- compute_edges(gamma,\n",
    "                           gamma_thresh = 0.05,\n",
    "                           time_slice = 5)\n",
    "\n",
    "head(edges_raw)\n",
    "\n",
    "edges_raw %>% \n",
    "  filter(corpus == \"P\") %>% \n",
    "  head"
   ]
  },
  {
   "attachments": {},
   "cell_type": "markdown",
   "metadata": {},
   "source": [
    "Create links for network"
   ]
  },
  {
   "cell_type": "code",
   "execution_count": 22,
   "metadata": {
    "vscode": {
     "languageId": "r"
    }
   },
   "outputs": [
    {
     "data": {
      "text/html": [
       "<table class=\"dataframe\">\n",
       "<caption>A tibble: 6 × 3</caption>\n",
       "<thead>\n",
       "\t<tr><th scope=col>year_span</th><th scope=col>meter</th><th scope=col>n</th></tr>\n",
       "\t<tr><th scope=col>&lt;dbl&gt;</th><th scope=col>&lt;chr&gt;</th><th scope=col>&lt;int&gt;</th></tr>\n",
       "</thead>\n",
       "<tbody>\n",
       "\t<tr><td>1825</td><td>iamb_4   </td><td>54975</td></tr>\n",
       "\t<tr><td>1835</td><td>iamb_4   </td><td>44775</td></tr>\n",
       "\t<tr><td>1830</td><td>iamb_4   </td><td>37050</td></tr>\n",
       "\t<tr><td>1820</td><td>iamb_4   </td><td>36450</td></tr>\n",
       "\t<tr><td>1835</td><td>iamb_free</td><td>30525</td></tr>\n",
       "\t<tr><td>1835</td><td>trochee_4</td><td>25425</td></tr>\n",
       "</tbody>\n",
       "</table>\n"
      ],
      "text/latex": [
       "A tibble: 6 × 3\n",
       "\\begin{tabular}{lll}\n",
       " year\\_span & meter & n\\\\\n",
       " <dbl> & <chr> & <int>\\\\\n",
       "\\hline\n",
       "\t 1825 & iamb\\_4    & 54975\\\\\n",
       "\t 1835 & iamb\\_4    & 44775\\\\\n",
       "\t 1830 & iamb\\_4    & 37050\\\\\n",
       "\t 1820 & iamb\\_4    & 36450\\\\\n",
       "\t 1835 & iamb\\_free & 30525\\\\\n",
       "\t 1835 & trochee\\_4 & 25425\\\\\n",
       "\\end{tabular}\n"
      ],
      "text/markdown": [
       "\n",
       "A tibble: 6 × 3\n",
       "\n",
       "| year_span &lt;dbl&gt; | meter &lt;chr&gt; | n &lt;int&gt; |\n",
       "|---|---|---|\n",
       "| 1825 | iamb_4    | 54975 |\n",
       "| 1835 | iamb_4    | 44775 |\n",
       "| 1830 | iamb_4    | 37050 |\n",
       "| 1820 | iamb_4    | 36450 |\n",
       "| 1835 | iamb_free | 30525 |\n",
       "| 1835 | trochee_4 | 25425 |\n",
       "\n"
      ],
      "text/plain": [
       "  year_span meter     n    \n",
       "1 1825      iamb_4    54975\n",
       "2 1835      iamb_4    44775\n",
       "3 1830      iamb_4    37050\n",
       "4 1820      iamb_4    36450\n",
       "5 1835      iamb_free 30525\n",
       "6 1835      trochee_4 25425"
      ]
     },
     "metadata": {},
     "output_type": "display_data"
    }
   ],
   "source": [
    "# select top meters\n",
    "meter_counts <- gamma %>% \n",
    "  mutate(year_span = floor(as.numeric(year)/5)*5) %>% \n",
    "  rename(\"meter\" = \"formula\") %>% \n",
    "  filter(!str_detect(meter, \"other\")) %>% \n",
    "  group_by(year_span, meter) %>% \n",
    "  count(sort = T) %>% \n",
    "  ungroup() %>% \n",
    "  filter(n > 10 & year_span != 1850)\n",
    "\n",
    "  head(meter_counts)"
   ]
  },
  {
   "cell_type": "code",
   "execution_count": 33,
   "metadata": {
    "vscode": {
     "languageId": "r"
    }
   },
   "outputs": [
    {
     "data": {
      "text/html": [
       "<table class=\"dataframe\">\n",
       "<caption>A tibble: 15 × 2</caption>\n",
       "<thead>\n",
       "\t<tr><th scope=col>meter</th><th scope=col>total</th></tr>\n",
       "\t<tr><th scope=col>&lt;chr&gt;</th><th scope=col>&lt;int&gt;</th></tr>\n",
       "</thead>\n",
       "<tbody>\n",
       "\t<tr><td>iamb_4                </td><td>316425</td></tr>\n",
       "\t<tr><td>iamb_free             </td><td>183900</td></tr>\n",
       "\t<tr><td>trochee_4             </td><td>123300</td></tr>\n",
       "\t<tr><td>iamb_6                </td><td>117150</td></tr>\n",
       "\t<tr><td>iamb_5                </td><td> 62100</td></tr>\n",
       "\t<tr><td>iamb_3                </td><td> 25725</td></tr>\n",
       "\t<tr><td>amphibrach_4          </td><td> 15150</td></tr>\n",
       "\t<tr><td>iamb_регулярная:4+3   </td><td> 10425</td></tr>\n",
       "\t<tr><td>amphibrach_3          </td><td>  6750</td></tr>\n",
       "\t<tr><td>trochee_free          </td><td>  6000</td></tr>\n",
       "\t<tr><td>NA                    </td><td>  5925</td></tr>\n",
       "\t<tr><td>trochee_3             </td><td>  5625</td></tr>\n",
       "\t<tr><td>amphibrach_free       </td><td>  5175</td></tr>\n",
       "\t<tr><td>amphibrach_2          </td><td>  4800</td></tr>\n",
       "\t<tr><td>trochee_регулярная:4+3</td><td>  4800</td></tr>\n",
       "</tbody>\n",
       "</table>\n"
      ],
      "text/latex": [
       "A tibble: 15 × 2\n",
       "\\begin{tabular}{ll}\n",
       " meter & total\\\\\n",
       " <chr> & <int>\\\\\n",
       "\\hline\n",
       "\t iamb\\_4                 & 316425\\\\\n",
       "\t iamb\\_free              & 183900\\\\\n",
       "\t trochee\\_4              & 123300\\\\\n",
       "\t iamb\\_6                 & 117150\\\\\n",
       "\t iamb\\_5                 &  62100\\\\\n",
       "\t iamb\\_3                 &  25725\\\\\n",
       "\t amphibrach\\_4           &  15150\\\\\n",
       "\t iamb\\_регулярная:4+3    &  10425\\\\\n",
       "\t amphibrach\\_3           &   6750\\\\\n",
       "\t trochee\\_free           &   6000\\\\\n",
       "\t NA                     &   5925\\\\\n",
       "\t trochee\\_3              &   5625\\\\\n",
       "\t amphibrach\\_free        &   5175\\\\\n",
       "\t amphibrach\\_2           &   4800\\\\\n",
       "\t trochee\\_регулярная:4+3 &   4800\\\\\n",
       "\\end{tabular}\n"
      ],
      "text/markdown": [
       "\n",
       "A tibble: 15 × 2\n",
       "\n",
       "| meter &lt;chr&gt; | total &lt;int&gt; |\n",
       "|---|---|\n",
       "| iamb_4                 | 316425 |\n",
       "| iamb_free              | 183900 |\n",
       "| trochee_4              | 123300 |\n",
       "| iamb_6                 | 117150 |\n",
       "| iamb_5                 |  62100 |\n",
       "| iamb_3                 |  25725 |\n",
       "| amphibrach_4           |  15150 |\n",
       "| iamb_регулярная:4+3    |  10425 |\n",
       "| amphibrach_3           |   6750 |\n",
       "| trochee_free           |   6000 |\n",
       "| NA                     |   5925 |\n",
       "| trochee_3              |   5625 |\n",
       "| amphibrach_free        |   5175 |\n",
       "| amphibrach_2           |   4800 |\n",
       "| trochee_регулярная:4+3 |   4800 |\n",
       "\n"
      ],
      "text/plain": [
       "   meter                  total \n",
       "1  iamb_4                 316425\n",
       "2  iamb_free              183900\n",
       "3  trochee_4              123300\n",
       "4  iamb_6                 117150\n",
       "5  iamb_5                  62100\n",
       "6  iamb_3                  25725\n",
       "7  amphibrach_4            15150\n",
       "8  iamb_регулярная:4+3     10425\n",
       "9  amphibrach_3             6750\n",
       "10 trochee_free             6000\n",
       "11 NA                       5925\n",
       "12 trochee_3                5625\n",
       "13 amphibrach_free          5175\n",
       "14 amphibrach_2             4800\n",
       "15 trochee_регулярная:4+3   4800"
      ]
     },
     "metadata": {},
     "output_type": "display_data"
    },
    {
     "data": {
      "text/html": [
       "<style>\n",
       ".list-inline {list-style: none; margin:0; padding: 0}\n",
       ".list-inline>li {display: inline-block}\n",
       ".list-inline>li:not(:last-child)::after {content: \"\\00b7\"; padding: 0 .5ex}\n",
       "</style>\n",
       "<ol class=list-inline><li>'iamb_4'</li><li>'iamb_free'</li><li>'trochee_4'</li><li>'iamb_6'</li><li>'iamb_5'</li><li>'iamb_3'</li><li>'amphibrach_4'</li><li>'iamb_регулярная:4+3'</li></ol>\n"
      ],
      "text/latex": [
       "\\begin{enumerate*}\n",
       "\\item 'iamb\\_4'\n",
       "\\item 'iamb\\_free'\n",
       "\\item 'trochee\\_4'\n",
       "\\item 'iamb\\_6'\n",
       "\\item 'iamb\\_5'\n",
       "\\item 'iamb\\_3'\n",
       "\\item 'amphibrach\\_4'\n",
       "\\item 'iamb\\_регулярная:4+3'\n",
       "\\end{enumerate*}\n"
      ],
      "text/markdown": [
       "1. 'iamb_4'\n",
       "2. 'iamb_free'\n",
       "3. 'trochee_4'\n",
       "4. 'iamb_6'\n",
       "5. 'iamb_5'\n",
       "6. 'iamb_3'\n",
       "7. 'amphibrach_4'\n",
       "8. 'iamb_регулярная:4+3'\n",
       "\n",
       "\n"
      ],
      "text/plain": [
       "[1] \"iamb_4\"              \"iamb_free\"           \"trochee_4\"          \n",
       "[4] \"iamb_6\"              \"iamb_5\"              \"iamb_3\"             \n",
       "[7] \"amphibrach_4\"        \"iamb_регулярная:4+3\""
      ]
     },
     "metadata": {},
     "output_type": "display_data"
    }
   ],
   "source": [
    "top_meters <- meter_counts %>% \n",
    "  group_by(meter) %>%\n",
    "  summarise(total = sum(n)) %>% \n",
    "  arrange(desc(total))\n",
    "\n",
    "head(top_meters, 15)\n",
    "top_meters$meter[1:8]"
   ]
  },
  {
   "cell_type": "code",
   "execution_count": 39,
   "metadata": {
    "vscode": {
     "languageId": "r"
    }
   },
   "outputs": [
    {
     "data": {
      "text/html": [
       "<table class=\"dataframe\">\n",
       "<caption>A tibble: 6 × 7</caption>\n",
       "<thead>\n",
       "\t<tr><th scope=col>slice</th><th scope=col>meter</th><th scope=col>corpus</th><th scope=col>edge_id</th><th scope=col>source</th><th scope=col>target</th><th scope=col>n</th></tr>\n",
       "\t<tr><th scope=col>&lt;dbl&gt;</th><th scope=col>&lt;chr&gt;</th><th scope=col>&lt;chr&gt;</th><th scope=col>&lt;chr&gt;</th><th scope=col>&lt;chr&gt;</th><th scope=col>&lt;chr&gt;</th><th scope=col>&lt;int&gt;</th></tr>\n",
       "</thead>\n",
       "<tbody>\n",
       "\t<tr><td>1835</td><td>iamb_free</td><td>P</td><td>30 42</td><td>30_небо земля мир земной небесный</td><td>42_душа мечта поэт живой восторг </td><td>10</td></tr>\n",
       "\t<tr><td>1835</td><td>iamb_4   </td><td>P</td><td>24 72</td><td>24_вода луг тень ручей роща      </td><td>72_гора лес скала дикий стоять   </td><td> 9</td></tr>\n",
       "\t<tr><td>1835</td><td>iamb_4   </td><td>P</td><td>30 74</td><td>30_небо земля мир земной небесный</td><td>74_луч солнце небо заря блистать </td><td> 9</td></tr>\n",
       "\t<tr><td>1835</td><td>iamb_4   </td><td>P</td><td>8 74 </td><td>8_звезда небо луна ночь луч      </td><td>74_луч солнце небо заря блистать </td><td> 9</td></tr>\n",
       "\t<tr><td>1835</td><td>trochee_4</td><td>P</td><td>8 26 </td><td>8_звезда небо луна ночь луч      </td><td>26_волна море берег вода брег    </td><td> 8</td></tr>\n",
       "\t<tr><td>1835</td><td>iamb_4   </td><td>P</td><td>8 11 </td><td>8_звезда небо луна ночь луч      </td><td>11_святой молитва вера храм божий</td><td> 7</td></tr>\n",
       "</tbody>\n",
       "</table>\n"
      ],
      "text/latex": [
       "A tibble: 6 × 7\n",
       "\\begin{tabular}{lllllll}\n",
       " slice & meter & corpus & edge\\_id & source & target & n\\\\\n",
       " <dbl> & <chr> & <chr> & <chr> & <chr> & <chr> & <int>\\\\\n",
       "\\hline\n",
       "\t 1835 & iamb\\_free & P & 30 42 & 30\\_небо земля мир земной небесный & 42\\_душа мечта поэт живой восторг  & 10\\\\\n",
       "\t 1835 & iamb\\_4    & P & 24 72 & 24\\_вода луг тень ручей роща       & 72\\_гора лес скала дикий стоять    &  9\\\\\n",
       "\t 1835 & iamb\\_4    & P & 30 74 & 30\\_небо земля мир земной небесный & 74\\_луч солнце небо заря блистать  &  9\\\\\n",
       "\t 1835 & iamb\\_4    & P & 8 74  & 8\\_звезда небо луна ночь луч       & 74\\_луч солнце небо заря блистать  &  9\\\\\n",
       "\t 1835 & trochee\\_4 & P & 8 26  & 8\\_звезда небо луна ночь луч       & 26\\_волна море берег вода брег     &  8\\\\\n",
       "\t 1835 & iamb\\_4    & P & 8 11  & 8\\_звезда небо луна ночь луч       & 11\\_святой молитва вера храм божий &  7\\\\\n",
       "\\end{tabular}\n"
      ],
      "text/markdown": [
       "\n",
       "A tibble: 6 × 7\n",
       "\n",
       "| slice &lt;dbl&gt; | meter &lt;chr&gt; | corpus &lt;chr&gt; | edge_id &lt;chr&gt; | source &lt;chr&gt; | target &lt;chr&gt; | n &lt;int&gt; |\n",
       "|---|---|---|---|---|---|---|\n",
       "| 1835 | iamb_free | P | 30 42 | 30_небо земля мир земной небесный | 42_душа мечта поэт живой восторг  | 10 |\n",
       "| 1835 | iamb_4    | P | 24 72 | 24_вода луг тень ручей роща       | 72_гора лес скала дикий стоять    |  9 |\n",
       "| 1835 | iamb_4    | P | 30 74 | 30_небо земля мир земной небесный | 74_луч солнце небо заря блистать  |  9 |\n",
       "| 1835 | iamb_4    | P | 8 74  | 8_звезда небо луна ночь луч       | 74_луч солнце небо заря блистать  |  9 |\n",
       "| 1835 | trochee_4 | P | 8 26  | 8_звезда небо луна ночь луч       | 26_волна море берег вода брег     |  8 |\n",
       "| 1835 | iamb_4    | P | 8 11  | 8_звезда небо луна ночь луч       | 11_святой молитва вера храм божий |  7 |\n",
       "\n"
      ],
      "text/plain": [
       "  slice meter     corpus edge_id source                           \n",
       "1 1835  iamb_free P      30 42   30_небо земля мир земной небесный\n",
       "2 1835  iamb_4    P      24 72   24_вода луг тень ручей роща      \n",
       "3 1835  iamb_4    P      30 74   30_небо земля мир земной небесный\n",
       "4 1835  iamb_4    P      8 74    8_звезда небо луна ночь луч      \n",
       "5 1835  trochee_4 P      8 26    8_звезда небо луна ночь луч      \n",
       "6 1835  iamb_4    P      8 11    8_звезда небо луна ночь луч      \n",
       "  target                            n \n",
       "1 42_душа мечта поэт живой восторг  10\n",
       "2 72_гора лес скала дикий стоять     9\n",
       "3 74_луч солнце небо заря блистать   9\n",
       "4 74_луч солнце небо заря блистать   9\n",
       "5 26_волна море берег вода брег      8\n",
       "6 11_святой молитва вера храм божий  7"
      ]
     },
     "metadata": {},
     "output_type": "display_data"
    }
   ],
   "source": [
    "links <- edges_raw %>% \n",
    "  mutate(meter = formula) %>%\n",
    "  # filter out only 8 most interesting meters\n",
    "  filter(meter %in% top_meters$meter[1:8]) %>% \n",
    "  # group and count edges\n",
    "  group_by(slice, meter, corpus) %>% \n",
    "  count(slice, meter, edge_id, source, target, sort = T) %>% \n",
    "  # filter non-frequent edges\n",
    "  filter(n > 2) %>% \n",
    "  ungroup() \n",
    "\n",
    "# quick check\n",
    "links %>% \n",
    "  filter(corpus == \"P\") %>% \n",
    "  head"
   ]
  },
  {
   "attachments": {},
   "cell_type": "markdown",
   "metadata": {},
   "source": [
    "Create edge and node lists"
   ]
  },
  {
   "cell_type": "code",
   "execution_count": 41,
   "metadata": {
    "vscode": {
     "languageId": "r"
    }
   },
   "outputs": [
    {
     "data": {
      "text/html": [
       "<table class=\"dataframe\">\n",
       "<caption>A tibble: 6 × 7</caption>\n",
       "<thead>\n",
       "\t<tr><th scope=col>source</th><th scope=col>target</th><th scope=col>n</th><th scope=col>meter</th><th scope=col>slice</th><th scope=col>corpus</th><th scope=col>width</th></tr>\n",
       "\t<tr><th scope=col>&lt;chr&gt;</th><th scope=col>&lt;chr&gt;</th><th scope=col>&lt;int&gt;</th><th scope=col>&lt;chr&gt;</th><th scope=col>&lt;dbl&gt;</th><th scope=col>&lt;chr&gt;</th><th scope=col>&lt;dbl&gt;</th></tr>\n",
       "</thead>\n",
       "<tbody>\n",
       "\t<tr><td>41_лев волк зверь собака большой          </td><td>57_другой хотеть иной становиться говорить      </td><td>23</td><td>iamb_free</td><td>1780</td><td>N</td><td>2.3</td></tr>\n",
       "\t<tr><td>36_знать говорить точно два очень         </td><td>51_сидеть окно дверь дом стоять                 </td><td>20</td><td>trochee_4</td><td>1840</td><td>N</td><td>2.0</td></tr>\n",
       "\t<tr><td>57_другой хотеть иной становиться говорить</td><td>59_сказать становиться хорошо говорить приходить</td><td>19</td><td>iamb_free</td><td>1780</td><td>N</td><td>1.9</td></tr>\n",
       "\t<tr><td>20_богатый жить дом служить бедный        </td><td>57_другой хотеть иной становиться говорить      </td><td>16</td><td>iamb_free</td><td>1780</td><td>N</td><td>1.6</td></tr>\n",
       "\t<tr><td>41_лев волк зверь собака большой          </td><td>59_сказать становиться хорошо говорить приходить</td><td>16</td><td>iamb_free</td><td>1810</td><td>N</td><td>1.6</td></tr>\n",
       "\t<tr><td>19_муза певец слава дар поэт              </td><td>42_душа мечта поэт живой восторг                </td><td>16</td><td>iamb_4   </td><td>1825</td><td>N</td><td>1.6</td></tr>\n",
       "</tbody>\n",
       "</table>\n"
      ],
      "text/latex": [
       "A tibble: 6 × 7\n",
       "\\begin{tabular}{lllllll}\n",
       " source & target & n & meter & slice & corpus & width\\\\\n",
       " <chr> & <chr> & <int> & <chr> & <dbl> & <chr> & <dbl>\\\\\n",
       "\\hline\n",
       "\t 41\\_лев волк зверь собака большой           & 57\\_другой хотеть иной становиться говорить       & 23 & iamb\\_free & 1780 & N & 2.3\\\\\n",
       "\t 36\\_знать говорить точно два очень          & 51\\_сидеть окно дверь дом стоять                  & 20 & trochee\\_4 & 1840 & N & 2.0\\\\\n",
       "\t 57\\_другой хотеть иной становиться говорить & 59\\_сказать становиться хорошо говорить приходить & 19 & iamb\\_free & 1780 & N & 1.9\\\\\n",
       "\t 20\\_богатый жить дом служить бедный         & 57\\_другой хотеть иной становиться говорить       & 16 & iamb\\_free & 1780 & N & 1.6\\\\\n",
       "\t 41\\_лев волк зверь собака большой           & 59\\_сказать становиться хорошо говорить приходить & 16 & iamb\\_free & 1810 & N & 1.6\\\\\n",
       "\t 19\\_муза певец слава дар поэт               & 42\\_душа мечта поэт живой восторг                 & 16 & iamb\\_4    & 1825 & N & 1.6\\\\\n",
       "\\end{tabular}\n"
      ],
      "text/markdown": [
       "\n",
       "A tibble: 6 × 7\n",
       "\n",
       "| source &lt;chr&gt; | target &lt;chr&gt; | n &lt;int&gt; | meter &lt;chr&gt; | slice &lt;dbl&gt; | corpus &lt;chr&gt; | width &lt;dbl&gt; |\n",
       "|---|---|---|---|---|---|---|\n",
       "| 41_лев волк зверь собака большой           | 57_другой хотеть иной становиться говорить       | 23 | iamb_free | 1780 | N | 2.3 |\n",
       "| 36_знать говорить точно два очень          | 51_сидеть окно дверь дом стоять                  | 20 | trochee_4 | 1840 | N | 2.0 |\n",
       "| 57_другой хотеть иной становиться говорить | 59_сказать становиться хорошо говорить приходить | 19 | iamb_free | 1780 | N | 1.9 |\n",
       "| 20_богатый жить дом служить бедный         | 57_другой хотеть иной становиться говорить       | 16 | iamb_free | 1780 | N | 1.6 |\n",
       "| 41_лев волк зверь собака большой           | 59_сказать становиться хорошо говорить приходить | 16 | iamb_free | 1810 | N | 1.6 |\n",
       "| 19_муза певец слава дар поэт               | 42_душа мечта поэт живой восторг                 | 16 | iamb_4    | 1825 | N | 1.6 |\n",
       "\n"
      ],
      "text/plain": [
       "  source                                    \n",
       "1 41_лев волк зверь собака большой          \n",
       "2 36_знать говорить точно два очень         \n",
       "3 57_другой хотеть иной становиться говорить\n",
       "4 20_богатый жить дом служить бедный        \n",
       "5 41_лев волк зверь собака большой          \n",
       "6 19_муза певец слава дар поэт              \n",
       "  target                                           n  meter     slice corpus\n",
       "1 57_другой хотеть иной становиться говорить       23 iamb_free 1780  N     \n",
       "2 51_сидеть окно дверь дом стоять                  20 trochee_4 1840  N     \n",
       "3 59_сказать становиться хорошо говорить приходить 19 iamb_free 1780  N     \n",
       "4 57_другой хотеть иной становиться говорить       16 iamb_free 1780  N     \n",
       "5 59_сказать становиться хорошо говорить приходить 16 iamb_free 1810  N     \n",
       "6 42_душа мечта поэт живой восторг                 16 iamb_4    1825  N     \n",
       "  width\n",
       "1 2.3  \n",
       "2 2.0  \n",
       "3 1.9  \n",
       "4 1.6  \n",
       "5 1.6  \n",
       "6 1.6  "
      ]
     },
     "metadata": {},
     "output_type": "display_data"
    },
    {
     "data": {
      "text/html": [
       "<table class=\"dataframe\">\n",
       "<caption>A tibble: 6 × 2</caption>\n",
       "<thead>\n",
       "\t<tr><th scope=col>source</th><th scope=col>idn</th></tr>\n",
       "\t<tr><th scope=col>&lt;chr&gt;</th><th scope=col>&lt;dbl&gt;</th></tr>\n",
       "</thead>\n",
       "<tbody>\n",
       "\t<tr><td>57_другой хотеть иной становиться говорить      </td><td>57</td></tr>\n",
       "\t<tr><td>51_сидеть окно дверь дом стоять                 </td><td>51</td></tr>\n",
       "\t<tr><td>59_сказать становиться хорошо говорить приходить</td><td>59</td></tr>\n",
       "\t<tr><td>42_душа мечта поэт живой восторг                </td><td>42</td></tr>\n",
       "\t<tr><td>72_гора лес скала дикий стоять                  </td><td>72</td></tr>\n",
       "\t<tr><td>62_знать хотеть ничто сказать бояться           </td><td>62</td></tr>\n",
       "</tbody>\n",
       "</table>\n"
      ],
      "text/latex": [
       "A tibble: 6 × 2\n",
       "\\begin{tabular}{ll}\n",
       " source & idn\\\\\n",
       " <chr> & <dbl>\\\\\n",
       "\\hline\n",
       "\t 57\\_другой хотеть иной становиться говорить       & 57\\\\\n",
       "\t 51\\_сидеть окно дверь дом стоять                  & 51\\\\\n",
       "\t 59\\_сказать становиться хорошо говорить приходить & 59\\\\\n",
       "\t 42\\_душа мечта поэт живой восторг                 & 42\\\\\n",
       "\t 72\\_гора лес скала дикий стоять                   & 72\\\\\n",
       "\t 62\\_знать хотеть ничто сказать бояться            & 62\\\\\n",
       "\\end{tabular}\n"
      ],
      "text/markdown": [
       "\n",
       "A tibble: 6 × 2\n",
       "\n",
       "| source &lt;chr&gt; | idn &lt;dbl&gt; |\n",
       "|---|---|\n",
       "| 57_другой хотеть иной становиться говорить       | 57 |\n",
       "| 51_сидеть окно дверь дом стоять                  | 51 |\n",
       "| 59_сказать становиться хорошо говорить приходить | 59 |\n",
       "| 42_душа мечта поэт живой восторг                 | 42 |\n",
       "| 72_гора лес скала дикий стоять                   | 72 |\n",
       "| 62_знать хотеть ничто сказать бояться            | 62 |\n",
       "\n"
      ],
      "text/plain": [
       "  source                                           idn\n",
       "1 57_другой хотеть иной становиться говорить       57 \n",
       "2 51_сидеть окно дверь дом стоять                  51 \n",
       "3 59_сказать становиться хорошо говорить приходить 59 \n",
       "4 42_душа мечта поэт живой восторг                 42 \n",
       "5 72_гора лес скала дикий стоять                   72 \n",
       "6 62_знать хотеть ничто сказать бояться            62 "
      ]
     },
     "metadata": {},
     "output_type": "display_data"
    },
    {
     "data": {
      "text/html": [
       "75"
      ],
      "text/latex": [
       "75"
      ],
      "text/markdown": [
       "75"
      ],
      "text/plain": [
       "[1] 75"
      ]
     },
     "metadata": {},
     "output_type": "display_data"
    }
   ],
   "source": [
    "edgelist <- links %>% \n",
    "  select(source, target, n, meter, slice, corpus) %>% \n",
    "  mutate(width = n/10) %>% \n",
    "  filter(slice != 1850)\n",
    "\n",
    "nodelist <- tibble(source = unique(c(links$target, links$source))) %>% \n",
    "  mutate(idn = as.numeric(str_replace(source, \"^([0-9].*?)_.*\", \"\\\\1\"))) \n",
    "\n",
    " head(edgelist)\n",
    " head(nodelist) \n",
    " nrow(nodelist)"
   ]
  },
  {
   "cell_type": "code",
   "execution_count": null,
   "metadata": {
    "vscode": {
     "languageId": "r"
    }
   },
   "outputs": [],
   "source": []
  }
 ],
 "metadata": {
  "kernelspec": {
   "display_name": "R",
   "language": "R",
   "name": "ir"
  },
  "language_info": {
   "codemirror_mode": "r",
   "file_extension": ".r",
   "mimetype": "text/x-r-source",
   "name": "R",
   "pygments_lexer": "r",
   "version": "4.2.1"
  },
  "orig_nbformat": 4
 },
 "nbformat": 4,
 "nbformat_minor": 2
}
