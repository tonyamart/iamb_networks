{
 "cells": [
  {
   "attachments": {},
   "cell_type": "markdown",
   "metadata": {},
   "source": [
    "# 01 Corpus compilation \n",
    "\n",
    "This notebook shows how the two corpora used in the experiment were preprocessed and united for the model building. As poetic subcorpus of the Russian National corpus is under license, the data in the repository includes already lemmatised and shuffled texts. "
   ]
  },
  {
   "cell_type": "code",
   "execution_count": 8,
   "metadata": {
    "vscode": {
     "languageId": "r"
    }
   },
   "outputs": [],
   "source": [
    "library(tidyverse)\n",
    "library(tidytext)\n",
    "\n",
    "# function for sampling\n",
    "source(\"00_fn_sampling.R\")"
   ]
  },
  {
   "attachments": {},
   "cell_type": "markdown",
   "metadata": {},
   "source": [
    "### Preparing NRC data (raw data not available)"
   ]
  },
  {
   "cell_type": "code",
   "execution_count": 10,
   "metadata": {
    "vscode": {
     "languageId": "r"
    }
   },
   "outputs": [
    {
     "name": "stdout",
     "output_type": "stream",
     "text": [
      "Rows: 15,569\n",
      "Columns: 41\n",
      "$ Unnamed..0          \u001b[3m\u001b[90m<int>\u001b[39m\u001b[23m 1, 2, 3, 4, 5, 6, 7, 8, 9, 10, 11, 12, 13, 14, 15,…\n",
      "$ path                \u001b[3m\u001b[90m<chr>\u001b[39m\u001b[23m \"xix/1790-1810_poets/poets-001\", \"xix/1790-1810_po…\n",
      "$ author              \u001b[3m\u001b[90m<chr>\u001b[39m\u001b[23m \"С. С. Бобров\", \"С. С. Бобров\", \"С. С. Бобров\", \"С…\n",
      "$ dub                 \u001b[3m\u001b[90m<lgl>\u001b[39m\u001b[23m NA, NA, NA, NA, NA, NA, NA, NA, NA, NA, NA, NA, NA…\n",
      "$ original            \u001b[3m\u001b[90m<chr>\u001b[39m\u001b[23m \"\", \"\", \"Гораций\", \"\", \"\", \"\", \"\", \"\", \"\", \"\", \"\",…\n",
      "$ language            \u001b[3m\u001b[90m<chr>\u001b[39m\u001b[23m \"\", \"\", \"латинский\", \"\", \"\", \"\", \"\", \"\", \"\", \"\", \"…\n",
      "$ header              \u001b[3m\u001b[90m<chr>\u001b[39m\u001b[23m \"Царство всеобщей любви : «Еще вкруг солнцев не вр…\n",
      "$ cyclus              \u001b[3m\u001b[90m<chr>\u001b[39m\u001b[23m \"\", \"\", \"\", \"\", \"\", \"\", \"\", \"\", \"\", \"\", \"\", \"\", \"\"…\n",
      "$ liber               \u001b[3m\u001b[90m<chr>\u001b[39m\u001b[23m \"\", \"\", \"\", \"\", \"\", \"\", \"\", \"\", \"\", \"\", \"\", \"\", \"\"…\n",
      "$ created             \u001b[3m\u001b[90m<chr>\u001b[39m\u001b[23m \"1785\", \"1785\", \"1787\", \"1789\", \"1789\", \"1789\", \"1…\n",
      "$ start               \u001b[3m\u001b[90m<dbl>\u001b[39m\u001b[23m 1785, 1785, 1787, 1789, 1789, 1789, 1792, 1800, 18…\n",
      "$ end                 \u001b[3m\u001b[90m<dbl>\u001b[39m\u001b[23m NA, NA, NA, NA, NA, NA, 1800, NA, NA, 1803, 1803, …\n",
      "$ exact               \u001b[3m\u001b[90m<chr>\u001b[39m\u001b[23m \"неточная\", \"неточная\", \"неточная\", \"неточная\", \"н…\n",
      "$ sphere              \u001b[3m\u001b[90m<chr>\u001b[39m\u001b[23m \"художественная\", \"художественная\", \"художественна…\n",
      "$ genre_fi            \u001b[3m\u001b[90m<chr>\u001b[39m\u001b[23m \"стихотворение\", \"стихотворение\", \"стихотворение :…\n",
      "$ audience_age        \u001b[3m\u001b[90m<chr>\u001b[39m\u001b[23m \"н-возраст\", \"н-возраст\", \"н-возраст\", \"н-возраст\"…\n",
      "$ audience_level      \u001b[3m\u001b[90m<chr>\u001b[39m\u001b[23m \"н-уровень\", \"н-уровень\", \"н-уровень\", \"н-уровень\"…\n",
      "$ audience_size       \u001b[3m\u001b[90m<chr>\u001b[39m\u001b[23m \"большая\", \"большая\", \"большая\", \"большая\", \"больш…\n",
      "$ source              \u001b[3m\u001b[90m<chr>\u001b[39m\u001b[23m \"Поэты 1790-1810-х годов. Библиотека поэта. Второе…\n",
      "$ publication         \u001b[3m\u001b[90m<chr>\u001b[39m\u001b[23m \"\", \"\", \"\", \"\", \"\", \"\", \"\", \"\", \"\", \"\", \"\", \"\", \"\"…\n",
      "$ publisher           \u001b[3m\u001b[90m<chr>\u001b[39m\u001b[23m \"\", \"\", \"\", \"\", \"\", \"\", \"\", \"\", \"\", \"\", \"\", \"\", \"\"…\n",
      "$ publ_year           \u001b[3m\u001b[90m<chr>\u001b[39m\u001b[23m \"\", \"\", \"\", \"\", \"\", \"\", \"\", \"\", \"\", \"\", \"\", \"\", \"\"…\n",
      "$ medium              \u001b[3m\u001b[90m<chr>\u001b[39m\u001b[23m \"книга\", \"книга\", \"книга\", \"книга\", \"книга\", \"книг…\n",
      "$ subcorpus           \u001b[3m\u001b[90m<chr>\u001b[39m\u001b[23m \"поэтический\", \"поэтический\", \"поэтический\", \"поэт…\n",
      "$ meter               \u001b[3m\u001b[90m<chr>\u001b[39m\u001b[23m \"Я\", \"Я\", \"Я\", \"Я\", \"Я\", \"Я\", \"Я\", \"Х\", \"Я\", \"Я\", …\n",
      "$ feet                \u001b[3m\u001b[90m<chr>\u001b[39m\u001b[23m \"4\", \"6\", \"4\", \"4\", \"4\", \"6\", \"4(5)\", \"4\", \"4\", \"4…\n",
      "$ clausula            \u001b[3m\u001b[90m<chr>\u001b[39m\u001b[23m \"регулярная : жмжм жж мжжм\", \"регулярная : жм\", \"р…\n",
      "$ strophe             \u001b[3m\u001b[90m<chr>\u001b[39m\u001b[23m \"10 : одическая строфа\", \"4\", \"4\", \"10 : одическая…\n",
      "$ gr_strophe          \u001b[3m\u001b[90m<chr>\u001b[39m\u001b[23m \"\", \"\", \"8\", \"\", \"\", \"вольная\", \"\", \"\", \"\", \"вольн…\n",
      "$ rhyme               \u001b[3m\u001b[90m<chr>\u001b[39m\u001b[23m \"сложная : абаб вв гддг\", \"перекрестная : абаб\", \"…\n",
      "$ formula             \u001b[3m\u001b[90m<chr>\u001b[39m\u001b[23m \"Я4жм\", \"Я6жм\", \"Я4жм\", \"Я4жм\", \"Я4жм\", \"Я6жжмм\", …\n",
      "$ extra               \u001b[3m\u001b[90m<chr>\u001b[39m\u001b[23m \"\", \"\", \"\", \"\", \"\", \"нарушения строфики\", \"\", \"\", …\n",
      "$ verses              \u001b[3m\u001b[90m<dbl>\u001b[39m\u001b[23m 110, 36, 32, 70, 144, 56, 216, 8, 335, 66, 195, 23…\n",
      "$ location            \u001b[3m\u001b[90m<chr>\u001b[39m\u001b[23m \"\", \"\", \"\", \"\", \"\", \"\", \"\", \"\", \"\", \"\", \"\", \"\", \"\"…\n",
      "$ location_normalized \u001b[3m\u001b[90m<chr>\u001b[39m\u001b[23m \"\", \"\", \"\", \"\", \"\", \"\", \"\", \"\", \"\", \"\", \"\", \"\", \"\"…\n",
      "$ paths_tidy          \u001b[3m\u001b[90m<chr>\u001b[39m\u001b[23m \"texts_plain/xix/1790-1810_poets/poets-001.txt\", \"…\n",
      "$ diff                \u001b[3m\u001b[90m<int>\u001b[39m\u001b[23m 0, 0, 0, 0, 0, 0, 8, 0, 0, 1, 1, 0, 0, 0, 0, 0, 9,…\n",
      "$ year                \u001b[3m\u001b[90m<int>\u001b[39m\u001b[23m 1785, 1785, 1787, 1789, 1789, 1789, 1800, 1800, 18…\n",
      "$ year_start          \u001b[3m\u001b[90m<int>\u001b[39m\u001b[23m 1785, 1785, 1787, 1789, 1789, 1789, 1792, 1800, 18…\n",
      "$ text_raw            \u001b[3m\u001b[90m<chr>\u001b[39m\u001b[23m \"Еще вкруг солнцев не вращались \\n В превыспренних…\n",
      "$ lemma               \u001b[3m\u001b[90m<chr>\u001b[39m\u001b[23m \"еще вкруг солнцев не вращаться \\n в превыспренний…\n"
     ]
    }
   ],
   "source": [
    "# raw data preparation\n",
    "# base file: nkrja_19th_lem.Rda - 19th century poetic corpus, lemmatised\n",
    "\n",
    "load(\"../data/nkrja_19th_lem.Rda\")\n",
    "\n",
    "glimpse(c19)\n"
   ]
  },
  {
   "attachments": {},
   "cell_type": "markdown",
   "metadata": {},
   "source": [
    "Subsetting, cleaning & sampling"
   ]
  },
  {
   "cell_type": "code",
   "execution_count": 16,
   "metadata": {
    "vscode": {
     "languageId": "r"
    }
   },
   "outputs": [
    {
     "data": {
      "text/html": [
       "<table class=\"dataframe\">\n",
       "<caption>A grouped_df: 10 × 2</caption>\n",
       "<thead>\n",
       "\t<tr><th scope=col>meter</th><th scope=col>n</th></tr>\n",
       "\t<tr><th scope=col>&lt;chr&gt;</th><th scope=col>&lt;int&gt;</th></tr>\n",
       "</thead>\n",
       "<tbody>\n",
       "\t<tr><td>Я                        </td><td>7654</td></tr>\n",
       "\t<tr><td>Х                        </td><td>1549</td></tr>\n",
       "\t<tr><td>Аф                       </td><td> 449</td></tr>\n",
       "\t<tr><td>Д                        </td><td> 221</td></tr>\n",
       "\t<tr><td>Ан                       </td><td> 155</td></tr>\n",
       "\t<tr><td>Д, тонический : Гек + Пен</td><td> 112</td></tr>\n",
       "\t<tr><td>Д, тонический : Гек      </td><td>  78</td></tr>\n",
       "\t<tr><td>Х, Я                     </td><td>  32</td></tr>\n",
       "\t<tr><td>Ан, Аф                   </td><td>  18</td></tr>\n",
       "\t<tr><td>Я # Х                    </td><td>  18</td></tr>\n",
       "</tbody>\n",
       "</table>\n"
      ],
      "text/latex": [
       "A grouped\\_df: 10 × 2\n",
       "\\begin{tabular}{ll}\n",
       " meter & n\\\\\n",
       " <chr> & <int>\\\\\n",
       "\\hline\n",
       "\t Я                         & 7654\\\\\n",
       "\t Х                         & 1549\\\\\n",
       "\t Аф                        &  449\\\\\n",
       "\t Д                         &  221\\\\\n",
       "\t Ан                        &  155\\\\\n",
       "\t Д, тонический : Гек + Пен &  112\\\\\n",
       "\t Д, тонический : Гек       &   78\\\\\n",
       "\t Х, Я                      &   32\\\\\n",
       "\t Ан, Аф                    &   18\\\\\n",
       "\t Я \\# Х                     &   18\\\\\n",
       "\\end{tabular}\n"
      ],
      "text/markdown": [
       "\n",
       "A grouped_df: 10 × 2\n",
       "\n",
       "| meter &lt;chr&gt; | n &lt;int&gt; |\n",
       "|---|---|\n",
       "| Я                         | 7654 |\n",
       "| Х                         | 1549 |\n",
       "| Аф                        |  449 |\n",
       "| Д                         |  221 |\n",
       "| Ан                        |  155 |\n",
       "| Д, тонический : Гек + Пен |  112 |\n",
       "| Д, тонический : Гек       |   78 |\n",
       "| Х, Я                      |   32 |\n",
       "| Ан, Аф                    |   18 |\n",
       "| Я # Х                     |   18 |\n",
       "\n"
      ],
      "text/plain": [
       "   meter                     n   \n",
       "1  Я                         7654\n",
       "2  Х                         1549\n",
       "3  Аф                         449\n",
       "4  Д                          221\n",
       "5  Ан                         155\n",
       "6  Д, тонический : Гек + Пен  112\n",
       "7  Д, тонический : Гек         78\n",
       "8  Х, Я                        32\n",
       "9  Ан, Аф                      18\n",
       "10 Я # Х                       18"
      ]
     },
     "metadata": {},
     "output_type": "display_data"
    },
    {
     "data": {
      "text/html": [
       "<style>\n",
       ".list-inline {list-style: none; margin:0; padding: 0}\n",
       ".list-inline>li {display: inline-block}\n",
       ".list-inline>li:not(:last-child)::after {content: \"\\00b7\"; padding: 0 .5ex}\n",
       "</style>\n",
       "<ol class=list-inline><li>'Я'</li><li>'Х'</li><li>'Д'</li><li>'other'</li><li>'Ан'</li><li>'Аф'</li></ol>\n"
      ],
      "text/latex": [
       "\\begin{enumerate*}\n",
       "\\item 'Я'\n",
       "\\item 'Х'\n",
       "\\item 'Д'\n",
       "\\item 'other'\n",
       "\\item 'Ан'\n",
       "\\item 'Аф'\n",
       "\\end{enumerate*}\n"
      ],
      "text/markdown": [
       "1. 'Я'\n",
       "2. 'Х'\n",
       "3. 'Д'\n",
       "4. 'other'\n",
       "5. 'Ан'\n",
       "6. 'Аф'\n",
       "\n",
       "\n"
      ],
      "text/plain": [
       "[1] \"Я\"     \"Х\"     \"Д\"     \"other\" \"Ан\"    \"Аф\"   "
      ]
     },
     "metadata": {},
     "output_type": "display_data"
    },
    {
     "data": {
      "text/html": [
       "<style>\n",
       ".list-inline {list-style: none; margin:0; padding: 0}\n",
       ".list-inline>li {display: inline-block}\n",
       ".list-inline>li:not(:last-child)::after {content: \"\\00b7\"; padding: 0 .5ex}\n",
       "</style>\n",
       "<ol class=list-inline><li>'4'</li><li>'6'</li><li>'3'</li><li>'В'</li><li>'регулярная:4+4+4+4+2+2+2+2'</li><li>'5'</li></ol>\n"
      ],
      "text/latex": [
       "\\begin{enumerate*}\n",
       "\\item '4'\n",
       "\\item '6'\n",
       "\\item '3'\n",
       "\\item 'В'\n",
       "\\item 'регулярная:4+4+4+4+2+2+2+2'\n",
       "\\item '5'\n",
       "\\end{enumerate*}\n"
      ],
      "text/markdown": [
       "1. '4'\n",
       "2. '6'\n",
       "3. '3'\n",
       "4. 'В'\n",
       "5. 'регулярная:4+4+4+4+2+2+2+2'\n",
       "6. '5'\n",
       "\n",
       "\n"
      ],
      "text/plain": [
       "[1] \"4\"                          \"6\"                         \n",
       "[3] \"3\"                          \"В\"                         \n",
       "[5] \"регулярная:4+4+4+4+2+2+2+2\" \"5\"                         "
      ]
     },
     "metadata": {},
     "output_type": "display_data"
    }
   ],
   "source": [
    "#### Subsetting ####\n",
    "dat <- c19 %>% \n",
    "  filter(diff < 10) %>% # alternative to 'date_reliable' - remove texts with wide date ranges\n",
    "  filter(year > 1774 & year < 1851) # select roughly the 1st half of the 19th century\n",
    "\n",
    "\n",
    "#### Cleaning ####\n",
    "# change column names for script\n",
    "names(dat)[names(dat) == \"Unnamed..0\"] <- \"id\"\n",
    "names(dat)[names(dat) == \"lemma\"] <- \"text_lemm\"\n",
    "\n",
    "## meters and feet cleaning\n",
    "# main meters\n",
    "meters_count <- dat %>% \n",
    "  group_by(meter) %>% \n",
    "  count(sort = T)\n",
    "head(meters_count, 10)\n",
    "\n",
    "meters <- as.vector(meters_count$meter[1:5])\n",
    "\n",
    "#### cleaning ####\n",
    "dat <- dat %>% \n",
    "  mutate(meter_gr = ifelse(!meter %in% meters, \"other\", meter)) %>% \n",
    "  # most of dactyl formulas are detailed like \"Д тонический: Дк + Пен\", summarise them into one\n",
    "  mutate(meter_gr = ifelse(str_detect(meter_gr, \"Д|!Аф\"), \"Д\", meter_gr)) %>% \n",
    "  # label all combinations of free iamb as \"В\"\n",
    "  mutate(feet_gr = ifelse(str_detect(feet, \"вольная\"), \"В\", feet)) %>% \n",
    "  # ALL feet written as 6(5) to 6 (remove everything in brackets)\n",
    "  mutate(feet_gr = str_replace_all(feet_gr, \"(\\\\d)\\\\(\\\\d.*?\\\\)\", \"\\\\1\")) %>% \n",
    "  # remove spaces for everything else for easier notation\n",
    "  mutate(feet_gr = str_remove_all(feet_gr, \"[[:space:]]\"))\n",
    "\n",
    "# test  \n",
    "unique(dat$meter_gr)\n",
    "head(unique(dat$feet_gr))"
   ]
  },
  {
   "cell_type": "code",
   "execution_count": 18,
   "metadata": {
    "vscode": {
     "languageId": "r"
    }
   },
   "outputs": [
    {
     "name": "stderr",
     "output_type": "stream",
     "text": [
      "Redetermining length of poems...\n",
      "\n",
      "Preparing to sample...\n",
      "\n",
      "Sampling long poems...\n",
      "\n",
      "Warning message:\n",
      "“\u001b[1m\u001b[22m`cols` is now required when using `unnest()`.\n",
      "\u001b[36mℹ\u001b[39m Please use `cols = c(text_lemm)`.”\n",
      "\u001b[1m\u001b[22m`summarise()` has grouped output by 'id'. You can override using the `.groups`\n",
      "argument.\n",
      "Warning message:\n",
      "“\u001b[1m\u001b[22m`cols` is now required when using `unnest()`.\n",
      "\u001b[36mℹ\u001b[39m Please use `cols = c(text_lemm)`.”\n",
      "\u001b[1m\u001b[22m`summarise()` has grouped output by 'id'. You can override using the `.groups`\n",
      "argument.\n",
      "Warning message:\n",
      "“\u001b[1m\u001b[22m`cols` is now required when using `unnest()`.\n",
      "\u001b[36mℹ\u001b[39m Please use `cols = c(text_lemm)`.”\n",
      "\u001b[1m\u001b[22m`summarise()` has grouped output by 'id'. You can override using the `.groups`\n",
      "argument.\n",
      "Warning message:\n",
      "“\u001b[1m\u001b[22m`cols` is now required when using `unnest()`.\n",
      "\u001b[36mℹ\u001b[39m Please use `cols = c(text_lemm)`.”\n",
      "\u001b[1m\u001b[22m`summarise()` has grouped output by 'id'. You can override using the `.groups`\n",
      "argument.\n",
      "Sampling poems over 9000!!!...\n",
      "\n",
      "Warning message:\n",
      "“\u001b[1m\u001b[22m`cols` is now required when using `unnest()`.\n",
      "\u001b[36mℹ\u001b[39m Please use `cols = c(text_lemm)`.”\n",
      "\u001b[1m\u001b[22m`summarise()` has grouped output by 'id'. You can override using the `.groups`\n",
      "argument.\n",
      "Replacing long texts by samples...\n",
      "\n"
     ]
    },
    {
     "name": "stdout",
     "output_type": "stream",
     "text": [
      "Rows: 13,717\n",
      "Columns: 43\n",
      "$ id                  \u001b[3m\u001b[90m<chr>\u001b[39m\u001b[23m \"8\", \"25\", \"26\", \"28\", \"30\", \"36\", \"38\", \"39\", \"40…\n",
      "$ path                \u001b[3m\u001b[90m<chr>\u001b[39m\u001b[23m \"xix/1790-1810_poets/poets-008\", \"xix/1790-1810_po…\n",
      "$ author              \u001b[3m\u001b[90m<chr>\u001b[39m\u001b[23m \"С. С. Бобров\", \"С. А. Тучков\", \"С. А. Тучков\", \"С…\n",
      "$ dub                 \u001b[3m\u001b[90m<lgl>\u001b[39m\u001b[23m NA, NA, NA, NA, NA, NA, NA, NA, NA, NA, NA, NA, NA…\n",
      "$ original            \u001b[3m\u001b[90m<chr>\u001b[39m\u001b[23m \"\", \"\", \"\", \"\", \"\", \"\", \"\", \"\", \"\", \"\", \"\", \"\", \"\"…\n",
      "$ language            \u001b[3m\u001b[90m<chr>\u001b[39m\u001b[23m \"\", \"\", \"\", \"\", \"\", \"\", \"\", \"\", \"\", \"\", \"\", \"\", \"\"…\n",
      "$ header              \u001b[3m\u001b[90m<chr>\u001b[39m\u001b[23m \"К новостолетию XIX : «Страшна отрасль дней небесн…\n",
      "$ cyclus              \u001b[3m\u001b[90m<chr>\u001b[39m\u001b[23m \"\", \"[Сонеты], 1\", \"[Сонеты], 2\", \"\", \"\", \"\", \"\", …\n",
      "$ liber               \u001b[3m\u001b[90m<chr>\u001b[39m\u001b[23m \"\", \"\", \"\", \"\", \"\", \"\", \"\", \"\", \"\", \"\", \"\", \"\", \"\"…\n",
      "$ created             \u001b[3m\u001b[90m<chr>\u001b[39m\u001b[23m \"1800\", \"1789\", \"1789\", \"1789\", \"1789\", \"1802\", \"1…\n",
      "$ start               \u001b[3m\u001b[90m<dbl>\u001b[39m\u001b[23m 1800, 1789, 1789, 1789, 1789, 1802, 1790, 1790, 17…\n",
      "$ end                 \u001b[3m\u001b[90m<dbl>\u001b[39m\u001b[23m NA, NA, NA, NA, NA, NA, NA, NA, NA, NA, NA, NA, NA…\n",
      "$ exact               \u001b[3m\u001b[90m<chr>\u001b[39m\u001b[23m \"неточная\", \"неточная\", \"неточная\", \"неточная\", \"н…\n",
      "$ sphere              \u001b[3m\u001b[90m<chr>\u001b[39m\u001b[23m \"художественная\", \"художественная\", \"художественна…\n",
      "$ genre_fi            \u001b[3m\u001b[90m<chr>\u001b[39m\u001b[23m \"стихотворение\", \"стихотворение\", \"стихотворение\",…\n",
      "$ audience_age        \u001b[3m\u001b[90m<chr>\u001b[39m\u001b[23m \"н-возраст\", \"н-возраст\", \"н-возраст\", \"н-возраст\"…\n",
      "$ audience_level      \u001b[3m\u001b[90m<chr>\u001b[39m\u001b[23m \"н-уровень\", \"н-уровень\", \"н-уровень\", \"н-уровень\"…\n",
      "$ audience_size       \u001b[3m\u001b[90m<chr>\u001b[39m\u001b[23m \"большая\", \"большая\", \"большая\", \"большая\", \"больш…\n",
      "$ source              \u001b[3m\u001b[90m<chr>\u001b[39m\u001b[23m \"Поэты 1790-1810-х годов. Библиотека поэта. Второе…\n",
      "$ publication         \u001b[3m\u001b[90m<chr>\u001b[39m\u001b[23m \"\", \"\", \"\", \"\", \"\", \"\", \"\", \"\", \"\", \"\", \"\", \"\", \"\"…\n",
      "$ publisher           \u001b[3m\u001b[90m<chr>\u001b[39m\u001b[23m \"\", \"\", \"\", \"\", \"\", \"\", \"\", \"\", \"\", \"\", \"\", \"\", \"\"…\n",
      "$ publ_year           \u001b[3m\u001b[90m<chr>\u001b[39m\u001b[23m \"\", \"\", \"\", \"\", \"\", \"\", \"\", \"\", \"\", \"\", \"\", \"\", \"\"…\n",
      "$ medium              \u001b[3m\u001b[90m<chr>\u001b[39m\u001b[23m \"книга\", \"книга\", \"книга\", \"книга\", \"книга\", \"книг…\n",
      "$ subcorpus           \u001b[3m\u001b[90m<chr>\u001b[39m\u001b[23m \"поэтический\", \"поэтический\", \"поэтический\", \"поэт…\n",
      "$ meter               \u001b[3m\u001b[90m<chr>\u001b[39m\u001b[23m \"Х\", \"Я\", \"Аф, Д\", \"Я\", \"Я\", \"Я\", \"Я\", \"Я\", \"Я\", \"…\n",
      "$ feet                \u001b[3m\u001b[90m<chr>\u001b[39m\u001b[23m \"4\", \"6\", \"4\", \"6\", \"6\", \"вольная : 4,6\", \"вольная…\n",
      "$ clausula            \u001b[3m\u001b[90m<chr>\u001b[39m\u001b[23m \"вольная : ж, м\", \"м\", \"регулярная : мжмж мжмж ммж…\n",
      "$ strophe             \u001b[3m\u001b[90m<chr>\u001b[39m\u001b[23m \"0\", \"14 : сонет\", \"14 : сонет\", \"2 : александрийс…\n",
      "$ gr_strophe          \u001b[3m\u001b[90m<chr>\u001b[39m\u001b[23m \"\", \"\", \"\", \"0\", \"0\", \"0\", \"\", \"\", \"\", \"\", \"\", \"\",…\n",
      "$ rhyme               \u001b[3m\u001b[90m<chr>\u001b[39m\u001b[23m \"вольная\", \"сложная : абаб вава вва бба\", \"сложная…\n",
      "$ formula             \u001b[3m\u001b[90m<chr>\u001b[39m\u001b[23m \"Х4ж,м\", \"Я6м\", \"Д4жм Аф4м\", \"Я6ммжж\", \"Я6ммжж\", \"…\n",
      "$ extra               \u001b[3m\u001b[90m<chr>\u001b[39m\u001b[23m \"\", \"\", \"\", \"\", \"\", \"\", \"\", \"\", \"\", \"\", \"\", \"\", \"\"…\n",
      "$ verses              \u001b[3m\u001b[90m<dbl>\u001b[39m\u001b[23m 8, 14, 14, 6, 12, 8, 8, 3, 2, 4, 2, 4, 2, 6, 3, 2,…\n",
      "$ location            \u001b[3m\u001b[90m<chr>\u001b[39m\u001b[23m \"\", \"\", \"\", \"\", \"\", \"\", \"\", \"\", \"\", \"\", \"\", \"\", \"\"…\n",
      "$ location_normalized \u001b[3m\u001b[90m<chr>\u001b[39m\u001b[23m \"\", \"\", \"\", \"\", \"\", \"\", \"\", \"\", \"\", \"\", \"\", \"\", \"\"…\n",
      "$ paths_tidy          \u001b[3m\u001b[90m<chr>\u001b[39m\u001b[23m \"texts_plain/xix/1790-1810_poets/poets-008.txt\", \"…\n",
      "$ diff                \u001b[3m\u001b[90m<int>\u001b[39m\u001b[23m 0, 0, 0, 0, 0, 0, 0, 0, 0, 0, 0, 0, 0, 0, 0, 0, 0,…\n",
      "$ year                \u001b[3m\u001b[90m<int>\u001b[39m\u001b[23m 1800, 1789, 1789, 1789, 1789, 1802, 1790, 1790, 17…\n",
      "$ year_start          \u001b[3m\u001b[90m<int>\u001b[39m\u001b[23m 1800, 1789, 1789, 1789, 1789, 1802, 1790, 1790, 17…\n",
      "$ text_raw            \u001b[3m\u001b[90m<chr>\u001b[39m\u001b[23m \"Страшна отрасль дней небесных, \\n Вестник таинств…\n",
      "$ text_lemm           \u001b[3m\u001b[90m<chr>\u001b[39m\u001b[23m \"страшный отрасль день небесный, \\n вестник таинст…\n",
      "$ meter_gr            \u001b[3m\u001b[90m<chr>\u001b[39m\u001b[23m \"Х\", \"Я\", \"other\", \"Я\", \"Я\", \"Я\", \"Я\", \"Я\", \"Я\", \"…\n",
      "$ feet_gr             \u001b[3m\u001b[90m<chr>\u001b[39m\u001b[23m \"4\", \"6\", \"4\", \"6\", \"6\", \"В\", \"В\", \"6\", \"6\", \"6\", …\n"
     ]
    }
   ],
   "source": [
    "# Sampling\n",
    "\n",
    "ru19_fin <- sample_long(dat,\n",
    "                        starting_n = 1,\n",
    "                        sample_size = \"corpus median\",\n",
    "                        over9000 = 6) # max number of samples for poems longer than 800 lines\n",
    "\n",
    "glimpse(ru19_fin)\n"
   ]
  },
  {
   "cell_type": "code",
   "execution_count": 21,
   "metadata": {
    "vscode": {
     "languageId": "r"
    }
   },
   "outputs": [
    {
     "name": "stdout",
     "output_type": "stream",
     "text": [
      "Rows: 13,717\n",
      "Columns: 9\n",
      "$ id        \u001b[3m\u001b[90m<chr>\u001b[39m\u001b[23m \"N_8\", \"N_25\", \"N_26\", \"N_28\", \"N_30\", \"N_36\", \"N_38\", \"N_39…\n",
      "$ author    \u001b[3m\u001b[90m<chr>\u001b[39m\u001b[23m \"С. С. Бобров\", \"С. А. Тучков\", \"С. А. Тучков\", \"С. А. Тучко…\n",
      "$ text_raw  \u001b[3m\u001b[90m<chr>\u001b[39m\u001b[23m \"\", \"\", \"\", \"\", \"\", \"\", \"\", \"\", \"\", \"\", \"\", \"\", \"\", \"\", \"\", …\n",
      "$ text_lemm \u001b[3m\u001b[90m<chr>\u001b[39m\u001b[23m \"страшный отрасль день небесный, \\n вестник таинство неизвес…\n",
      "$ year      \u001b[3m\u001b[90m<int>\u001b[39m\u001b[23m 1800, 1789, 1789, 1789, 1789, 1802, 1790, 1790, 1790, 1790, …\n",
      "$ formula   \u001b[3m\u001b[90m<chr>\u001b[39m\u001b[23m \"trochee_4\", \"iamb_6\", \"other_4\", \"iamb_6\", \"iamb_6\", \"iamb_…\n",
      "$ meter     \u001b[3m\u001b[90m<chr>\u001b[39m\u001b[23m \"trochee\", \"iamb\", \"other\", \"iamb\", \"iamb\", \"iamb\", \"iamb\", …\n",
      "$ feet      \u001b[3m\u001b[90m<chr>\u001b[39m\u001b[23m \"4\", \"6\", \"4\", \"6\", \"6\", \"free\", \"free\", \"6\", \"6\", \"6\", \"fre…\n",
      "$ n_lines   \u001b[3m\u001b[90m<dbl>\u001b[39m\u001b[23m 8, 14, 14, 6, 12, 8, 8, 3, 2, 4, 2, 4, 2, 6, 3, 2, 2, 2, 8, …\n"
     ]
    }
   ],
   "source": [
    "# final renaming & columns selection\n",
    "\n",
    "nkrja19 <- ru19_fin %>% \n",
    "  # rename meters\n",
    "  mutate(text_raw = \"\",\n",
    "         meter_gr = recode(meter_gr, \n",
    "                           \"Х\" = \"trochee\",\n",
    "                           \"Я\" = \"iamb\", \n",
    "                           \"Аф\" = \"amphibrach\",\n",
    "                           \"Ан\" = \"anapaest\", \n",
    "                           \"Д\" = \"dactyl\"),\n",
    "         feet_gr = recode(feet_gr, \"В\" = \"free\"),\n",
    "         formula = paste0(meter_gr, \"_\", feet_gr),\n",
    "         # add id referring to nkrja\n",
    "         id = paste0(\"N_\", id)) %>% \n",
    "  # select only needed columns\n",
    "  # remove raw texts because of licencing\n",
    "  select(id, author, text_raw, text_lemm, year, formula, meter_gr, feet_gr, verses) %>% \n",
    "  # rename columns\n",
    "  rename(\"meter\" = \"meter_gr\",\n",
    "         \"feet\" = \"feet_gr\",\n",
    "         \"n_lines\" = \"verses\")\n",
    "\n",
    "glimpse(nkrja19) # WHY SO MANY 2 LINES POEMS???"
   ]
  },
  {
   "cell_type": "code",
   "execution_count": 7,
   "metadata": {
    "vscode": {
     "languageId": "r"
    }
   },
   "outputs": [
    {
     "name": "stderr",
     "output_type": "stream",
     "text": [
      "── \u001b[1mAttaching packages\u001b[22m ─────────────────────────────────────── tidyverse 1.3.2 ──\n",
      "\u001b[32m✔\u001b[39m \u001b[34mggplot2\u001b[39m 3.4.1     \u001b[32m✔\u001b[39m \u001b[34mpurrr  \u001b[39m 1.0.1\n",
      "\u001b[32m✔\u001b[39m \u001b[34mtibble \u001b[39m 3.1.8     \u001b[32m✔\u001b[39m \u001b[34mdplyr  \u001b[39m 1.1.0\n",
      "\u001b[32m✔\u001b[39m \u001b[34mtidyr  \u001b[39m 1.3.0     \u001b[32m✔\u001b[39m \u001b[34mstringr\u001b[39m 1.5.0\n",
      "\u001b[32m✔\u001b[39m \u001b[34mreadr  \u001b[39m 2.1.4     \u001b[32m✔\u001b[39m \u001b[34mforcats\u001b[39m 1.0.0\n",
      "── \u001b[1mConflicts\u001b[22m ────────────────────────────────────────── tidyverse_conflicts() ──\n",
      "\u001b[31m✖\u001b[39m \u001b[34mdplyr\u001b[39m::\u001b[32mfilter()\u001b[39m masks \u001b[34mstats\u001b[39m::filter()\n",
      "\u001b[31m✖\u001b[39m \u001b[34mdplyr\u001b[39m::\u001b[32mlag()\u001b[39m    masks \u001b[34mstats\u001b[39m::lag()\n"
     ]
    }
   ],
   "source": [
    "# load full data & sample for periodicals corpus\n",
    "periodicals <- read.csv(\"\")"
   ]
  },
  {
   "cell_type": "code",
   "execution_count": 6,
   "metadata": {
    "vscode": {
     "languageId": "r"
    }
   },
   "outputs": [
    {
     "data": {
      "text/html": [
       "<style>\n",
       ".list-inline {list-style: none; margin:0; padding: 0}\n",
       ".list-inline>li {display: inline-block}\n",
       ".list-inline>li:not(:last-child)::after {content: \"\\00b7\"; padding: 0 .5ex}\n",
       "</style>\n",
       "<ol class=list-inline><li>'00_fn_random_sample_long.R'</li><li>'01_corpus_compilation.ipynb'</li></ol>\n"
      ],
      "text/latex": [
       "\\begin{enumerate*}\n",
       "\\item '00\\_fn\\_random\\_sample\\_long.R'\n",
       "\\item '01\\_corpus\\_compilation.ipynb'\n",
       "\\end{enumerate*}\n"
      ],
      "text/markdown": [
       "1. '00_fn_random_sample_long.R'\n",
       "2. '01_corpus_compilation.ipynb'\n",
       "\n",
       "\n"
      ],
      "text/plain": [
       "[1] \"00_fn_random_sample_long.R\"  \"01_corpus_compilation.ipynb\""
      ]
     },
     "metadata": {},
     "output_type": "display_data"
    }
   ],
   "source": []
  },
  {
   "cell_type": "code",
   "execution_count": null,
   "metadata": {
    "vscode": {
     "languageId": "r"
    }
   },
   "outputs": [],
   "source": []
  }
 ],
 "metadata": {
  "kernelspec": {
   "display_name": "R",
   "language": "R",
   "name": "ir"
  },
  "language_info": {
   "codemirror_mode": "r",
   "file_extension": ".r",
   "mimetype": "text/x-r-source",
   "name": "R",
   "pygments_lexer": "r",
   "version": "4.2.1"
  },
  "orig_nbformat": 4
 },
 "nbformat": 4,
 "nbformat_minor": 2
}
